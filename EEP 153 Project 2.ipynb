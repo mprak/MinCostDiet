{
 "cells": [
  {
   "cell_type": "markdown",
   "metadata": {},
   "source": [
    "## EEP 153 Project 2\n",
    "### Team Lind\n",
    "\n"
   ]
  },
  {
   "cell_type": "markdown",
   "metadata": {},
   "source": [
    "Installing requirements...\n"
   ]
  },
  {
   "cell_type": "code",
   "execution_count": 2,
   "metadata": {},
   "outputs": [
    {
     "name": "stdout",
     "output_type": "stream",
     "text": [
      "Requirement already satisfied: Pint>=0.8.1 in /srv/app/venv/lib/python3.6/site-packages (from -r requirements.txt (line 2))\n",
      "Requirement already satisfied: numpy>=1.15.0 in /srv/app/venv/lib/python3.6/site-packages (from -r requirements.txt (line 6))\n",
      "Requirement already satisfied: pandas>=0.23.3 in /srv/app/venv/lib/python3.6/site-packages (from -r requirements.txt (line 11))\n",
      "Requirement already satisfied: requests>=2.20.0 in /srv/app/venv/lib/python3.6/site-packages (from -r requirements.txt (line 15))\n",
      "Requirement already satisfied: scipy>=1.1.0 in /srv/app/venv/lib/python3.6/site-packages (from -r requirements.txt (line 18))\n",
      "Requirement already satisfied: pytz>=2011k in /srv/app/venv/lib/python3.6/site-packages (from pandas>=0.23.3->-r requirements.txt (line 11))\n",
      "Requirement already satisfied: python-dateutil>=2.5.0 in /srv/app/venv/lib/python3.6/site-packages (from pandas>=0.23.3->-r requirements.txt (line 11))\n",
      "Requirement already satisfied: idna<2.9,>=2.5 in /srv/app/venv/lib/python3.6/site-packages (from requests>=2.20.0->-r requirements.txt (line 15))\n",
      "Requirement already satisfied: chardet<3.1.0,>=3.0.2 in /srv/app/venv/lib/python3.6/site-packages (from requests>=2.20.0->-r requirements.txt (line 15))\n",
      "Requirement already satisfied: certifi>=2017.4.17 in /srv/app/venv/lib/python3.6/site-packages (from requests>=2.20.0->-r requirements.txt (line 15))\n",
      "Requirement already satisfied: urllib3<1.25,>=1.21.1 in /srv/app/venv/lib/python3.6/site-packages (from requests>=2.20.0->-r requirements.txt (line 15))\n",
      "Requirement already satisfied: six>=1.5 in /srv/app/venv/lib/python3.6/site-packages (from python-dateutil>=2.5.0->pandas>=0.23.3->-r requirements.txt (line 11))\n",
      "\u001b[33mYou are using pip version 9.0.3, however version 20.0.2 is available.\n",
      "You should consider upgrading via the 'pip install --upgrade pip' command.\u001b[0m\n"
     ]
    }
   ],
   "source": [
    "!pip install -r requirements.txt"
   ]
  },
  {
   "cell_type": "code",
   "execution_count": 3,
   "metadata": {},
   "outputs": [
    {
     "name": "stdout",
     "output_type": "stream",
     "text": [
      "Requirement already satisfied: ipywidgets in /srv/app/venv/lib/python3.6/site-packages\n",
      "Requirement already satisfied: traitlets>=4.3.1 in /srv/app/venv/lib/python3.6/site-packages (from ipywidgets)\n",
      "Requirement already satisfied: nbformat>=4.2.0 in /srv/app/venv/lib/python3.6/site-packages (from ipywidgets)\n",
      "Requirement already satisfied: ipykernel>=4.5.1 in /srv/app/venv/lib/python3.6/site-packages (from ipywidgets)\n",
      "Requirement already satisfied: ipython>=4.0.0; python_version >= \"3.3\" in /srv/app/venv/lib/python3.6/site-packages (from ipywidgets)\n",
      "Requirement already satisfied: widgetsnbextension~=3.2.0 in /srv/app/venv/lib/python3.6/site-packages (from ipywidgets)\n",
      "Requirement already satisfied: ipython-genutils in /srv/app/venv/lib/python3.6/site-packages (from traitlets>=4.3.1->ipywidgets)\n",
      "Requirement already satisfied: decorator in /srv/app/venv/lib/python3.6/site-packages (from traitlets>=4.3.1->ipywidgets)\n",
      "Requirement already satisfied: six in /srv/app/venv/lib/python3.6/site-packages (from traitlets>=4.3.1->ipywidgets)\n",
      "Requirement already satisfied: jupyter-core in /srv/app/venv/lib/python3.6/site-packages (from nbformat>=4.2.0->ipywidgets)\n",
      "Requirement already satisfied: jsonschema!=2.5.0,>=2.4 in /srv/app/venv/lib/python3.6/site-packages (from nbformat>=4.2.0->ipywidgets)\n",
      "Requirement already satisfied: jupyter-client in /srv/app/venv/lib/python3.6/site-packages (from ipykernel>=4.5.1->ipywidgets)\n",
      "Requirement already satisfied: tornado>=4.2 in /srv/app/venv/lib/python3.6/site-packages (from ipykernel>=4.5.1->ipywidgets)\n",
      "Requirement already satisfied: backcall in /srv/app/venv/lib/python3.6/site-packages (from ipython>=4.0.0; python_version >= \"3.3\"->ipywidgets)\n",
      "Requirement already satisfied: pexpect; sys_platform != \"win32\" in /srv/app/venv/lib/python3.6/site-packages (from ipython>=4.0.0; python_version >= \"3.3\"->ipywidgets)\n",
      "Requirement already satisfied: setuptools>=18.5 in /srv/app/venv/lib/python3.6/site-packages (from ipython>=4.0.0; python_version >= \"3.3\"->ipywidgets)\n",
      "Requirement already satisfied: pickleshare in /srv/app/venv/lib/python3.6/site-packages (from ipython>=4.0.0; python_version >= \"3.3\"->ipywidgets)\n",
      "Requirement already satisfied: jedi>=0.10 in /srv/app/venv/lib/python3.6/site-packages (from ipython>=4.0.0; python_version >= \"3.3\"->ipywidgets)\n",
      "Requirement already satisfied: pygments in /srv/app/venv/lib/python3.6/site-packages (from ipython>=4.0.0; python_version >= \"3.3\"->ipywidgets)\n",
      "Requirement already satisfied: prompt-toolkit!=3.0.0,!=3.0.1,<3.1.0,>=2.0.0 in /srv/app/venv/lib/python3.6/site-packages (from ipython>=4.0.0; python_version >= \"3.3\"->ipywidgets)\n",
      "Requirement already satisfied: notebook>=4.4.1 in /srv/app/venv/lib/python3.6/site-packages (from widgetsnbextension~=3.2.0->ipywidgets)\n",
      "Requirement already satisfied: attrs>=17.4.0 in /srv/app/venv/lib/python3.6/site-packages (from jsonschema!=2.5.0,>=2.4->nbformat>=4.2.0->ipywidgets)\n",
      "Requirement already satisfied: pyrsistent>=0.14.0 in /srv/app/venv/lib/python3.6/site-packages (from jsonschema!=2.5.0,>=2.4->nbformat>=4.2.0->ipywidgets)\n",
      "Requirement already satisfied: importlib-metadata; python_version < \"3.8\" in /srv/app/venv/lib/python3.6/site-packages (from jsonschema!=2.5.0,>=2.4->nbformat>=4.2.0->ipywidgets)\n",
      "Requirement already satisfied: python-dateutil>=2.1 in /srv/app/venv/lib/python3.6/site-packages (from jupyter-client->ipykernel>=4.5.1->ipywidgets)\n",
      "Requirement already satisfied: pyzmq>=13 in /srv/app/venv/lib/python3.6/site-packages (from jupyter-client->ipykernel>=4.5.1->ipywidgets)\n",
      "Requirement already satisfied: ptyprocess>=0.5 in /srv/app/venv/lib/python3.6/site-packages (from pexpect; sys_platform != \"win32\"->ipython>=4.0.0; python_version >= \"3.3\"->ipywidgets)\n",
      "Requirement already satisfied: parso>=0.5.2 in /srv/app/venv/lib/python3.6/site-packages (from jedi>=0.10->ipython>=4.0.0; python_version >= \"3.3\"->ipywidgets)\n",
      "Requirement already satisfied: wcwidth in /srv/app/venv/lib/python3.6/site-packages (from prompt-toolkit!=3.0.0,!=3.0.1,<3.1.0,>=2.0.0->ipython>=4.0.0; python_version >= \"3.3\"->ipywidgets)\n",
      "Requirement already satisfied: terminado>=0.8.1 in /srv/app/venv/lib/python3.6/site-packages (from notebook>=4.4.1->widgetsnbextension~=3.2.0->ipywidgets)\n",
      "Requirement already satisfied: jinja2 in /srv/app/venv/lib/python3.6/site-packages (from notebook>=4.4.1->widgetsnbextension~=3.2.0->ipywidgets)\n",
      "Requirement already satisfied: Send2Trash in /srv/app/venv/lib/python3.6/site-packages (from notebook>=4.4.1->widgetsnbextension~=3.2.0->ipywidgets)\n",
      "Requirement already satisfied: prometheus-client in /srv/app/venv/lib/python3.6/site-packages (from notebook>=4.4.1->widgetsnbextension~=3.2.0->ipywidgets)\n",
      "Requirement already satisfied: nbconvert in /srv/app/venv/lib/python3.6/site-packages (from notebook>=4.4.1->widgetsnbextension~=3.2.0->ipywidgets)\n",
      "Requirement already satisfied: zipp>=0.5 in /srv/app/venv/lib/python3.6/site-packages (from importlib-metadata; python_version < \"3.8\"->jsonschema!=2.5.0,>=2.4->nbformat>=4.2.0->ipywidgets)\n",
      "Requirement already satisfied: MarkupSafe>=0.23 in /srv/app/venv/lib/python3.6/site-packages (from jinja2->notebook>=4.4.1->widgetsnbextension~=3.2.0->ipywidgets)\n",
      "Requirement already satisfied: mistune<2,>=0.8.1 in /srv/app/venv/lib/python3.6/site-packages (from nbconvert->notebook>=4.4.1->widgetsnbextension~=3.2.0->ipywidgets)\n",
      "Requirement already satisfied: defusedxml in /srv/app/venv/lib/python3.6/site-packages (from nbconvert->notebook>=4.4.1->widgetsnbextension~=3.2.0->ipywidgets)\n",
      "Requirement already satisfied: bleach in /srv/app/venv/lib/python3.6/site-packages (from nbconvert->notebook>=4.4.1->widgetsnbextension~=3.2.0->ipywidgets)\n",
      "Requirement already satisfied: entrypoints>=0.2.2 in /srv/app/venv/lib/python3.6/site-packages (from nbconvert->notebook>=4.4.1->widgetsnbextension~=3.2.0->ipywidgets)\n",
      "Requirement already satisfied: pandocfilters>=1.4.1 in /srv/app/venv/lib/python3.6/site-packages (from nbconvert->notebook>=4.4.1->widgetsnbextension~=3.2.0->ipywidgets)\n",
      "Requirement already satisfied: testpath in /srv/app/venv/lib/python3.6/site-packages (from nbconvert->notebook>=4.4.1->widgetsnbextension~=3.2.0->ipywidgets)\n",
      "Requirement already satisfied: webencodings in /srv/app/venv/lib/python3.6/site-packages (from bleach->nbconvert->notebook>=4.4.1->widgetsnbextension~=3.2.0->ipywidgets)\n",
      "\u001b[33mYou are using pip version 9.0.3, however version 20.0.2 is available.\n",
      "You should consider upgrading via the 'pip install --upgrade pip' command.\u001b[0m\n",
      "Enabling notebook extension jupyter-js-widgets/extension...\n",
      "      - Validating: \u001b[32mOK\u001b[0m\n",
      "Node v8.17.0\n",
      "\n",
      "> /usr/bin/npm pack @jupyter-widgets/jupyterlab-manager\n",
      "\u001b[37;40mnpm\u001b[0m \u001b[0m\u001b[34;40mnotice\u001b[0m\u001b[35m\u001b[0m \n",
      "\u001b[0m\u001b[37;40mnpm\u001b[0m \u001b[0m\u001b[34;40mnotice\u001b[0m\u001b[35m\u001b[0m 📦  @jupyter-widgets/jupyterlab-manager@2.0.0\n",
      "\u001b[0m\u001b[37;40mnpm\u001b[0m \u001b[0m\u001b[34;40mnotice\u001b[0m \u001b[0m\u001b[35m=== Tarball Contents ===\u001b[0m \n",
      "\u001b[0m\u001b[37;40mnpm\u001b[0m \u001b[0m\u001b[34;40mnotice\u001b[0m\u001b[35m\u001b[0m 1.5kB  LICENSE             \n",
      "\u001b[0m\u001b[37;40mnpm\u001b[0m \u001b[0m\u001b[34;40mnotice\u001b[0m\u001b[35m\u001b[0m 380B   lib/index.js        \n",
      "\u001b[0m\u001b[37;40mnpm\u001b[0m \u001b[0m\u001b[34;40mnotice\u001b[0m\u001b[35m\u001b[0m 15.3kB lib/manager.js      \n",
      "\u001b[0m\u001b[37;40mnpm\u001b[0m \u001b[0m\u001b[34;40mnotice\u001b[0m\u001b[35m\u001b[0m 5.3kB  lib/output.js       \n",
      "\u001b[0m\u001b[37;40mnpm\u001b[0m \u001b[0m\u001b[34;40mnotice\u001b[0m\u001b[35m\u001b[0m 7.8kB  lib/plugin.js       \n",
      "\u001b[0m\u001b[37;40mnpm\u001b[0m \u001b[0m\u001b[34;40mnotice\u001b[0m\u001b[35m\u001b[0m 3.3kB  lib/renderer.js     \n",
      "\u001b[0m\u001b[37;40mnpm\u001b[0m \u001b[0m\u001b[34;40mnotice\u001b[0m\u001b[35m\u001b[0m 862B   lib/semvercache.js  \n",
      "\u001b[0m\u001b[37;40mnpm\u001b[0m \u001b[0m\u001b[34;40mnotice\u001b[0m\u001b[35m\u001b[0m 2.3kB  package.json        \n",
      "\u001b[0m\u001b[37;40mnpm\u001b[0m \u001b[0m\u001b[34;40mnotice\u001b[0m\u001b[35m\u001b[0m 375B   schema/plugin.json  \n",
      "\u001b[0m\u001b[37;40mnpm\u001b[0m \u001b[0m\u001b[34;40mnotice\u001b[0m\u001b[35m\u001b[0m 2.1kB  README.md           \n",
      "\u001b[0m\u001b[37;40mnpm\u001b[0m \u001b[0m\u001b[34;40mnotice\u001b[0m\u001b[35m\u001b[0m 277B   lib/index.d.ts      \n",
      "\u001b[0m\u001b[37;40mnpm\u001b[0m \u001b[0m\u001b[34;40mnotice\u001b[0m\u001b[35m\u001b[0m 6.0kB  lib/manager.d.ts    \n",
      "\u001b[0m\u001b[37;40mnpm\u001b[0m \u001b[0m\u001b[34;40mnotice\u001b[0m\u001b[35m\u001b[0m 1.9kB  lib/output.d.ts     \n",
      "\u001b[0m\u001b[37;40mnpm\u001b[0m \u001b[0m\u001b[34;40mnotice\u001b[0m\u001b[35m\u001b[0m 828B   lib/plugin.d.ts     \n",
      "\u001b[0m\u001b[37;40mnpm\u001b[0m \u001b[0m\u001b[34;40mnotice\u001b[0m\u001b[35m\u001b[0m 960B   lib/renderer.d.ts   \n",
      "\u001b[0m\u001b[37;40mnpm\u001b[0m \u001b[0m\u001b[34;40mnotice\u001b[0m\u001b[35m\u001b[0m 216B   lib/semvercache.d.ts\n",
      "\u001b[0m\u001b[37;40mnpm\u001b[0m \u001b[0m\u001b[34;40mnotice\u001b[0m \u001b[0m\u001b[35m=== Tarball Details ===\u001b[0m \n",
      "\u001b[0m\u001b[37;40mnpm\u001b[0m \u001b[0m\u001b[34;40mnotice\u001b[0m\u001b[35m\u001b[0m name:          @jupyter-widgets/jupyterlab-manager         \n",
      "\u001b[0m\u001b[37;40mnpm\u001b[0m \u001b[0m\u001b[34;40mnotice\u001b[0m\u001b[35m\u001b[0m version:       2.0.0                                       \n",
      "\u001b[0m\u001b[37;40mnpm\u001b[0m \u001b[0m\u001b[34;40mnotice\u001b[0m\u001b[35m\u001b[0m filename:      jupyter-widgets-jupyterlab-manager-2.0.0.tgz\n",
      "\u001b[0m\u001b[37;40mnpm\u001b[0m \u001b[0m\u001b[34;40mnotice\u001b[0m\u001b[35m\u001b[0m package size:  13.3 kB                                     \n",
      "\u001b[0m\u001b[37;40mnpm\u001b[0m \u001b[0m\u001b[34;40mnotice\u001b[0m\u001b[35m\u001b[0m unpacked size: 49.4 kB                                     \n",
      "\u001b[0m\u001b[37;40mnpm\u001b[0m \u001b[0m\u001b[34;40mnotice\u001b[0m\u001b[35m\u001b[0m shasum:        05ab402833df07aac1ec2c549a1d748b3c303185    \n",
      "\u001b[0m\u001b[37;40mnpm\u001b[0m \u001b[0m\u001b[34;40mnotice\u001b[0m\u001b[35m\u001b[0m integrity:     sha512-i+qtbEe//W9Ru[...]Fu0KbkxM9aQXQ==    \n",
      "\u001b[0m\u001b[37;40mnpm\u001b[0m \u001b[0m\u001b[34;40mnotice\u001b[0m\u001b[35m\u001b[0m total files:   16                                          \n",
      "\u001b[0m\u001b[37;40mnpm\u001b[0m \u001b[0m\u001b[34;40mnotice\u001b[0m\u001b[35m\u001b[0m \n",
      "\u001b[0mjupyter-widgets-jupyterlab-manager-2.0.0.tgz\n"
     ]
    },
    {
     "name": "stdout",
     "output_type": "stream",
     "text": [
      "Incompatible extension:\n",
      "\n",
      "\"@jupyter-widgets/jupyterlab-manager@2.0.0\" is not compatible with the current JupyterLab\n",
      "Conflicting Dependencies:\n",
      "JupyterLab                        Extension        Package\n",
      ">=0.19.1 <0.20.0                  >=2.0.0 <3.0.0   @jupyterlab/application\n",
      ">=0.19.2 <0.20.0                  >=2.0.0 <3.0.0   @jupyterlab/notebook\n",
      ">=0.19.1 <0.20.0                  >=2.0.0 <3.0.0   @jupyterlab/rendermime\n",
      ">=1.2.1 <2.0.0                    >=2.0.0 <3.0.0   @jupyterlab/rendermime-interfaces\n",
      ">=3.2.1 <4.0.0                    >=5.0.0 <6.0.0   @jupyterlab/services\n",
      "\n",
      "Found compatible version: 0.38.1\n",
      "> /usr/bin/npm pack @jupyter-widgets/jupyterlab-manager@0.38.1\n",
      "\u001b[37;40mnpm\u001b[0m \u001b[0m\u001b[34;40mnotice\u001b[0m\u001b[35m\u001b[0m \n",
      "\u001b[0m\u001b[37;40mnpm\u001b[0m \u001b[0m\u001b[34;40mnotice\u001b[0m\u001b[35m\u001b[0m 📦  @jupyter-widgets/jupyterlab-manager@0.38.1\n",
      "\u001b[0m\u001b[37;40mnpm\u001b[0m \u001b[0m\u001b[34;40mnotice\u001b[0m \u001b[0m\u001b[35m=== Tarball Contents ===\u001b[0m \n",
      "\u001b[0m\u001b[37;40mnpm\u001b[0m \u001b[0m\u001b[34;40mnotice\u001b[0m\u001b[35m\u001b[0m 2.0kB package.json        \n",
      "\u001b[0m\u001b[37;40mnpm\u001b[0m \u001b[0m\u001b[34;40mnotice\u001b[0m\u001b[35m\u001b[0m 1.5kB LICENSE             \n",
      "\u001b[0m\u001b[37;40mnpm\u001b[0m \u001b[0m\u001b[34;40mnotice\u001b[0m\u001b[35m\u001b[0m 2.0kB README.md           \n",
      "\u001b[0m\u001b[37;40mnpm\u001b[0m \u001b[0m\u001b[34;40mnotice\u001b[0m\u001b[35m\u001b[0m 131B  lib/index.d.ts      \n",
      "\u001b[0m\u001b[37;40mnpm\u001b[0m \u001b[0m\u001b[34;40mnotice\u001b[0m\u001b[35m\u001b[0m 410B  lib/index.js        \n",
      "\u001b[0m\u001b[37;40mnpm\u001b[0m \u001b[0m\u001b[34;40mnotice\u001b[0m\u001b[35m\u001b[0m 2.5kB lib/manager.d.ts    \n",
      "\u001b[0m\u001b[37;40mnpm\u001b[0m \u001b[0m\u001b[34;40mnotice\u001b[0m\u001b[35m\u001b[0m 6.2kB lib/manager.js      \n",
      "\u001b[0m\u001b[37;40mnpm\u001b[0m \u001b[0m\u001b[34;40mnotice\u001b[0m\u001b[35m\u001b[0m 1.9kB lib/output.d.ts     \n",
      "\u001b[0m\u001b[37;40mnpm\u001b[0m \u001b[0m\u001b[34;40mnotice\u001b[0m\u001b[35m\u001b[0m 6.0kB lib/output.js       \n",
      "\u001b[0m\u001b[37;40mnpm\u001b[0m \u001b[0m\u001b[34;40mnotice\u001b[0m\u001b[35m\u001b[0m 1.1kB lib/plugin.d.ts     \n",
      "\u001b[0m\u001b[37;40mnpm\u001b[0m \u001b[0m\u001b[34;40mnotice\u001b[0m\u001b[35m\u001b[0m 3.6kB lib/plugin.js       \n",
      "\u001b[0m\u001b[37;40mnpm\u001b[0m \u001b[0m\u001b[34;40mnotice\u001b[0m\u001b[35m\u001b[0m 829B  lib/renderer.d.ts   \n",
      "\u001b[0m\u001b[37;40mnpm\u001b[0m \u001b[0m\u001b[34;40mnotice\u001b[0m\u001b[35m\u001b[0m 3.0kB lib/renderer.js     \n",
      "\u001b[0m\u001b[37;40mnpm\u001b[0m \u001b[0m\u001b[34;40mnotice\u001b[0m\u001b[35m\u001b[0m 216B  lib/semvercache.d.ts\n",
      "\u001b[0m\u001b[37;40mnpm\u001b[0m \u001b[0m\u001b[34;40mnotice\u001b[0m\u001b[35m\u001b[0m 972B  lib/semvercache.js  \n",
      "\u001b[0m\u001b[37;40mnpm\u001b[0m \u001b[0m\u001b[34;40mnotice\u001b[0m \u001b[0m\u001b[35m=== Tarball Details ===\u001b[0m \n",
      "\u001b[0m\u001b[37;40mnpm\u001b[0m \u001b[0m\u001b[34;40mnotice\u001b[0m\u001b[35m\u001b[0m name:          @jupyter-widgets/jupyterlab-manager          \n",
      "\u001b[0m\u001b[37;40mnpm\u001b[0m \u001b[0m\u001b[34;40mnotice\u001b[0m\u001b[35m\u001b[0m version:       0.38.1                                       \n",
      "\u001b[0m\u001b[37;40mnpm\u001b[0m \u001b[0m\u001b[34;40mnotice\u001b[0m\u001b[35m\u001b[0m filename:      jupyter-widgets-jupyterlab-manager-0.38.1.tgz\n",
      "\u001b[0m\u001b[37;40mnpm\u001b[0m \u001b[0m\u001b[34;40mnotice\u001b[0m\u001b[35m\u001b[0m package size:  8.5 kB                                       \n",
      "\u001b[0m\u001b[37;40mnpm\u001b[0m \u001b[0m\u001b[34;40mnotice\u001b[0m\u001b[35m\u001b[0m unpacked size: 32.3 kB                                      \n",
      "\u001b[0m\u001b[37;40mnpm\u001b[0m \u001b[0m\u001b[34;40mnotice\u001b[0m\u001b[35m\u001b[0m shasum:        1b1e17c929065bd2a93057b2378562c10c3db6c0     \n",
      "\u001b[0m\u001b[37;40mnpm\u001b[0m \u001b[0m\u001b[34;40mnotice\u001b[0m\u001b[35m\u001b[0m integrity:     sha512-JutIwjs2jq6qW[...]Phr69YQ+qQZ/Q==     \n",
      "\u001b[0m\u001b[37;40mnpm\u001b[0m \u001b[0m\u001b[34;40mnotice\u001b[0m\u001b[35m\u001b[0m total files:   15                                           \n",
      "\u001b[0m\u001b[37;40mnpm\u001b[0m \u001b[0m\u001b[34;40mnotice\u001b[0m\u001b[35m\u001b[0m \n",
      "\u001b[0mjupyter-widgets-jupyterlab-manager-0.38.1.tgz\n",
      "Node v8.17.0\n",
      "\n",
      "> node /srv/app/venv/lib/python3.6/site-packages/jupyterlab/staging/yarn.js install\n",
      "\u001b[2K\u001b[1G\u001b[1myarn install v1.9.4\u001b[22m\n",
      "\u001b[2K\u001b[1G\u001b[34minfo\u001b[39m No lockfile found.\n",
      "\u001b[2K\u001b[1G\u001b[2m[1/5]\u001b[22m Validating package.json...\n",
      "\u001b[2K\u001b[1G\u001b[2m[2/5]\u001b[22m Resolving packages...\n",
      "\u001b[1G⠁ \u001b[0K\u001b[1G⠂ @jupyterlab/application@^0.19.1\u001b[0K\u001b[1G⠄ @jupyterlab/application@^0.19.1\u001b[0K\u001b[1G⡀ @jupyterlab/application@^0.19.1\u001b[0K\u001b[1G⢀ @jupyterlab/application@^0.19.1\u001b[0K\u001b[1G⠠ @jupyterlab/application@^0.19.1\u001b[0K\u001b[1G⠐ @jupyterlab/application@^0.19.1\u001b[0K\u001b[1G⠈ @jupyterlab/application@^0.19.1\u001b[0K\u001b[1G⠁ @phosphor/widgets@^1.6.0\u001b[0K\u001b[1G⠂ @phosphor/widgets@^1.6.0\u001b[0K\u001b[1G⠄ @phosphor/signaling@^1.2.2\u001b[0K\u001b[1G⡀ @phosphor/collections@^1.2.0\u001b[0K\u001b[1G⢀ json-stable-stringify@^1.0.1\u001b[0K\u001b[1G⠠ sanitize-html@~1.18.2\u001b[0K\u001b[1G⠐ @phosphor/signaling@^1.3.0\u001b[0K\u001b[1G⠈ @phosphor/algorithm@^1.2.0\u001b[0K\u001b[1G⠁ prop-types@^15.6.0\u001b[0K\u001b[1G⠂ ua-parser-js@^0.7.18\u001b[0K\u001b[1G⠄ supports-color@^5.4.0\u001b[0K\u001b[2K\u001b[1G\u001b[33mwarning\u001b[39m @jupyterlab/application > @jupyterlab/apputils > react > fbjs > core-js@1.2.7: core-js@<3 is no longer maintained and not recommended for usage due to the number of issues. Please, upgrade your dependencies to the actual version of core-js@3.\n",
      "\u001b[1G⡀ color-convert@^1.9.0\u001b[0K\u001b[2K\u001b[1G\u001b[33mwarning\u001b[39m @jupyterlab/application > @jupyterlab/coreutils > comment-json > json-parser@1.1.5: `json-parser` is deprecated. Please use `comment-json` instead\n",
      "\u001b[1G⢀ codemirror@~5.39.0\u001b[0K\u001b[1G⠠ is-stream@^1.0.1\u001b[0K\u001b[1G⠐ iconv-lite@~0.4.13\u001b[0K\u001b[1G⠈ @jupyterlab/application-extension@^0.19.1\u001b[0K\u001b[1G⠁ @jupyterlab/application-extension@^0.19.1\u001b[0K\u001b[1G⠂ @jupyterlab/application-extension@^0.19.1\u001b[0K\u001b[1G⠄ @jupyterlab/application-extension@^0.19.1\u001b[0K\u001b[1G⡀ @jupyterlab/application-extension@^0.19.1\u001b[0K\u001b[1G⢀ @jupyterlab/application-extension@^0.19.1\u001b[0K\u001b[1G⠠ @jupyterlab/apputils-extension@^0.19.1\u001b[0K\u001b[1G⠐ @jupyterlab/apputils-extension@^0.19.1\u001b[0K\u001b[1G⠈ @jupyterlab/apputils-extension@^0.19.1\u001b[0K\u001b[1G⠁ @jupyterlab/apputils-extension@^0.19.1\u001b[0K\u001b[1G⠂ @jupyterlab/apputils-extension@^0.19.1\u001b[0K\u001b[1G⠄ @jupyterlab/apputils-extension@^0.19.1\u001b[0K\u001b[1G⡀ es6-promise@~4.1.1\u001b[0K\u001b[1G⢀ es6-promise@~4.1.1\u001b[0K\u001b[1G⠠ es6-promise@~4.1.1\u001b[0K\u001b[1G⠐ es6-promise@~4.1.1\u001b[0K\u001b[1G⠈ es6-promise@~4.1.1\u001b[0K\u001b[1G⠁ @jupyterlab/attachments@^0.19.1\u001b[0K\u001b[1G⠂ @jupyterlab/attachments@^0.19.1\u001b[0K\u001b[1G⠄ @jupyterlab/attachments@^0.19.1\u001b[0K\u001b[1G⡀ @jupyterlab/attachments@^0.19.1\u001b[0K\u001b[1G⢀ @jupyterlab/attachments@^0.19.1\u001b[0K\u001b[1G⠠ @jupyterlab/attachments@^0.19.1\u001b[0K\u001b[1G⠐ @jupyterlab/attachments@^0.19.1\u001b[0K\u001b[1G⠈ @jupyterlab/attachments@^0.19.1\u001b[0K\u001b[1G⠁ @jupyterlab/attachments@^0.19.1\u001b[0K\u001b[1G⠂ @jupyterlab/attachments@^0.19.1\u001b[0K\u001b[1G⠄ @jupyterlab/cells@^0.19.1\u001b[0K\u001b[1G⡀ @jupyterlab/cells@^0.19.1\u001b[0K\u001b[1G⢀ @jupyterlab/cells@^0.19.1\u001b[0K\u001b[1G⠠ @jupyterlab/cells@^0.19.1\u001b[0K\u001b[1G⠐ @jupyterlab/cells@^0.19.1\u001b[0K\u001b[1G⠈ @jupyterlab/cells@^0.19.1\u001b[0K\u001b[1G⠁ @jupyterlab/cells@^0.19.1\u001b[0K\u001b[1G⠂ @jupyterlab/cells@^0.19.1\u001b[0K\u001b[1G⠄ @jupyterlab/cells@^0.19.1\u001b[0K\u001b[1G⡀ @jupyterlab/cells@^0.19.1\u001b[0K\u001b[1G⢀ react@~16.4.2\u001b[0K\u001b[1G⠠ react@~16.4.2\u001b[0K\u001b[1G⠐ react@~16.4.2\u001b[0K\u001b[1G⠈ react@~16.4.2\u001b[0K\u001b[1G⠁ react@~16.4.2\u001b[0K\u001b[1G⠂ react@~16.4.2\u001b[0K\u001b[1G⠄ react@~16.4.2\u001b[0K\u001b[1G⡀ react@~16.4.2\u001b[0K\u001b[1G⢀ react@~16.4.2\u001b[0K\u001b[1G⠠ react@~16.4.2\u001b[0K\u001b[1G⠐ @jupyterlab/codemirror-extension@^0.19.1\u001b[0K\u001b[1G⠈ @jupyterlab/codemirror-extension@^0.19.1\u001b[0K\u001b[1G⠁ @jupyterlab/codemirror-extension@^0.19.1\u001b[0K\u001b[1G⠂ @jupyterlab/codemirror-extension@^0.19.1\u001b[0K\u001b[1G⠄ @jupyterlab/codemirror-extension@^0.19.1\u001b[0K\u001b[1G⡀ @jupyterlab/codemirror-extension@^0.19.1\u001b[0K\u001b[1G⢀ codemirror@~5.39.0\u001b[0K\u001b[1G⠠ codemirror@~5.39.0\u001b[0K\u001b[1G⠐ codemirror@~5.39.0\u001b[0K\u001b[1G⠈ codemirror@~5.39.0\u001b[0K\u001b[1G⠁ codemirror@~5.39.0\u001b[0K\u001b[1G⠂ @jupyterlab/completer@^0.19.1\u001b[0K\u001b[1G⠄ @jupyterlab/completer@^0.19.1\u001b[0K\u001b[1G⡀ @jupyterlab/completer@^0.19.1\u001b[0K\u001b[1G⢀ @jupyterlab/completer@^0.19.1\u001b[0K\u001b[1G⠠ @jupyterlab/completer@^0.19.1\u001b[0K\u001b[1G⠐ @jupyterlab/completer-extension@^0.19.1\u001b[0K\u001b[1G⠈ @jupyterlab/completer-extension@^0.19.1\u001b[0K\u001b[1G⠁ @jupyterlab/completer-extension@^0.19.1\u001b[0K\u001b[1G⠂ @jupyterlab/completer-extension@^0.19.1\u001b[0K\u001b[1G⠄ @jupyterlab/completer-extension@^0.19.1\u001b[0K\u001b[1G⡀ @phosphor/widgets@^1.6.0\u001b[0K\u001b[1G⢀ @phosphor/widgets@^1.6.0\u001b[0K\u001b[1G⠠ @phosphor/widgets@^1.6.0\u001b[0K\u001b[1G⠐ @phosphor/widgets@^1.6.0\u001b[0K\u001b[1G⠈ @phosphor/widgets@^1.6.0\u001b[0K\u001b[1G⠁ @phosphor/widgets@^1.6.0\u001b[0K\u001b[1G⠂ @phosphor/widgets@^1.6.0\u001b[0K\u001b[1G⠄ @phosphor/widgets@^1.6.0\u001b[0K\u001b[1G⡀ @phosphor/widgets@^1.6.0\u001b[0K\u001b[1G⢀ @phosphor/widgets@^1.6.0\u001b[0K\u001b[1G⠠ @jupyterlab/console-extension@^0.19.1\u001b[0K\u001b[1G⠐ @jupyterlab/console-extension@^0.19.1\u001b[0K\u001b[1G⠈ @jupyterlab/console-extension@^0.19.1\u001b[0K\u001b[1G⠁ @jupyterlab/console-extension@^0.19.1\u001b[0K\u001b[1G⠂ @jupyterlab/console-extension@^0.19.1\u001b[0K\u001b[1G⠄ @jupyterlab/console-extension@^0.19.1\u001b[0K\u001b[1G⡀ @phosphor/widgets@^1.6.0\u001b[0K\u001b[1G⢀ @phosphor/widgets@^1.6.0\u001b[0K\u001b[1G⠠ @phosphor/widgets@^1.6.0\u001b[0K\u001b[1G⠐ @phosphor/widgets@^1.6.0\u001b[0K\u001b[1G⠈ @phosphor/widgets@^1.6.0\u001b[0K\u001b[1G⠁ @phosphor/widgets@^1.6.0\u001b[0K\u001b[1G⠂ @phosphor/widgets@^1.6.0\u001b[0K\u001b[1G⠄ @phosphor/widgets@^1.6.0\u001b[0K\u001b[1G⡀ @phosphor/widgets@^1.6.0\u001b[0K\u001b[1G⢀ @phosphor/widgets@^1.6.0\u001b[0K\u001b[1G⠠ @jupyterlab/csvviewer@^0.19.1\u001b[0K\u001b[1G⠐ @jupyterlab/csvviewer@^0.19.1\u001b[0K\u001b[1G⠈ @jupyterlab/csvviewer@^0.19.1\u001b[0K\u001b[1G⠁ @jupyterlab/csvviewer@^0.19.1\u001b[0K\u001b[1G⠂ @jupyterlab/csvviewer@^0.19.1\u001b[0K\u001b[1G⠄ @phosphor/widgets@^1.6.0\u001b[0K\u001b[1G⡀ @phosphor/widgets@^1.6.0\u001b[0K\u001b[1G⢀ @phosphor/widgets@^1.6.0\u001b[0K\u001b[1G⠠ @phosphor/widgets@^1.6.0\u001b[0K\u001b[1G⠐ @phosphor/widgets@^1.6.0\u001b[0K\u001b[1G⠈ @jupyterlab/csvviewer-extension@^0.19.1\u001b[0K\u001b[1G⠁ @jupyterlab/csvviewer-extension@^0.19.1\u001b[0K\u001b[1G⠂ @jupyterlab/csvviewer-extension@^0.19.1\u001b[0K\u001b[1G⠄ @jupyterlab/csvviewer-extension@^0.19.1\u001b[0K\u001b[1G⡀ @jupyterlab/csvviewer-extension@^0.19.1\u001b[0K\u001b[1G⢀ @jupyterlab/csvviewer-extension@^0.19.1\u001b[0K\u001b[1G⠠ @jupyterlab/docmanager-extension@^0.19.1\u001b[0K\u001b[1G⠐ @jupyterlab/docmanager-extension@^0.19.1\u001b[0K\u001b[1G⠈ @jupyterlab/docmanager-extension@^0.19.1\u001b[0K\u001b[1G⠁ @jupyterlab/docmanager-extension@^0.19.1\u001b[0K\u001b[1G⠂ @jupyterlab/docmanager-extension@^0.19.1\u001b[0K\u001b[1G⠄ @jupyterlab/extensionmanager@^0.19.1\u001b[0K\u001b[1G⡀ @jupyterlab/extensionmanager@^0.19.1\u001b[0K\u001b[1G⢀ @jupyterlab/extensionmanager@^0.19.1\u001b[0K\u001b[1G⠠ @jupyterlab/extensionmanager@^0.19.1\u001b[0K\u001b[1G⠐ @jupyterlab/extensionmanager@^0.19.1\u001b[0K\u001b[1G⠈ semver@^5.5.0\u001b[0K\u001b[1G⠁ @jupyterlab/extensionmanager-extension@^0.19.1\u001b[0K\u001b[1G⠂ @jupyterlab/extensionmanager-extension@^0.19.1\u001b[0K\u001b[1G⠄ @jupyterlab/extensionmanager-extension@^0.19.1\u001b[0K\u001b[1G⡀ @jupyterlab/extensionmanager-extension@^0.19.1\u001b[0K\u001b[1G⢀ @jupyterlab/extensionmanager-extension@^0.19.1\u001b[0K\u001b[1G⠠ @jupyterlab/faq-extension@^0.19.1\u001b[0K\u001b[1G⠐ @jupyterlab/faq-extension@^0.19.1\u001b[0K\u001b[1G⠈ @jupyterlab/faq-extension@^0.19.1\u001b[0K\u001b[1G⠁ @jupyterlab/faq-extension@^0.19.1\u001b[0K\u001b[1G⠂ @jupyterlab/faq-extension@^0.19.1\u001b[0K\u001b[2K\u001b[1G\u001b[33mwarning\u001b[39m @jupyterlab/faq-extension@0.19.1: The JupyterLab FAQ extension is no longer developed and is removed from JupyterLab 1.0.\n",
      "\u001b[1G⠄ @jupyterlab/filebrowser-extension@^0.19.2\u001b[0K\u001b[1G⡀ @jupyterlab/filebrowser-extension@^0.19.2\u001b[0K\u001b[1G⢀ @jupyterlab/filebrowser-extension@^0.19.2\u001b[0K\u001b[1G⠠ @jupyterlab/filebrowser-extension@^0.19.2\u001b[0K\u001b[1G⠐ @jupyterlab/filebrowser-extension@^0.19.2\u001b[0K\u001b[1G⠈ @jupyterlab/fileeditor-extension@^0.19.1\u001b[0K\u001b[1G⠁ @jupyterlab/fileeditor-extension@^0.19.1\u001b[0K\u001b[1G⠂ @jupyterlab/fileeditor-extension@^0.19.1\u001b[0K\u001b[1G⠄ @jupyterlab/fileeditor-extension@^0.19.1\u001b[0K\u001b[1G⡀ @jupyterlab/fileeditor-extension@^0.19.1\u001b[0K\u001b[1G⢀ @jupyterlab/help-extension@^0.19.1\u001b[0K\u001b[1G⠠ @jupyterlab/help-extension@^0.19.1\u001b[0K\u001b[1G⠐ @jupyterlab/imageviewer@^0.19.1\u001b[0K\u001b[1G⠈ @jupyterlab/imageviewer@^0.19.1\u001b[0K\u001b[1G⠁ @jupyterlab/imageviewer@^0.19.1\u001b[0K\u001b[1G⠂ @jupyterlab/imageviewer@^0.19.1\u001b[0K\u001b[1G⠄ @jupyterlab/imageviewer@^0.19.1\u001b[0K\u001b[1G⡀ @jupyterlab/imageviewer-extension@^0.19.1\u001b[0K\u001b[1G⢀ @jupyterlab/imageviewer-extension@^0.19.1\u001b[0K\u001b[1G⠠ @jupyterlab/imageviewer-extension@^0.19.1\u001b[0K\u001b[1G⠐ @jupyterlab/imageviewer-extension@^0.19.1\u001b[0K\u001b[1G⠈ @jupyterlab/imageviewer-extension@^0.19.1\u001b[0K\u001b[1G⠁ @jupyterlab/imageviewer-extension@^0.19.1\u001b[0K\u001b[1G⠂ @jupyterlab/inspector@^0.19.1\u001b[0K\u001b[1G⠄ @jupyterlab/inspector@^0.19.1\u001b[0K\u001b[1G⡀ @jupyterlab/inspector@^0.19.1\u001b[0K\u001b[1G⢀ @jupyterlab/inspector@^0.19.1\u001b[0K\u001b[1G⠠ @jupyterlab/inspector@^0.19.1\u001b[0K\u001b[1G⠐ @jupyterlab/inspector-extension@^0.19.1\u001b[0K\u001b[1G⠈ @jupyterlab/inspector-extension@^0.19.1\u001b[0K\u001b[1G⠁ @jupyterlab/inspector-extension@^0.19.1\u001b[0K\u001b[1G⠂ @jupyterlab/inspector-extension@^0.19.1\u001b[0K\u001b[1G⠄ @jupyterlab/inspector-extension@^0.19.1\u001b[0K\u001b[1G⡀ @jupyterlab/javascript-extension@^0.19.1\u001b[0K\u001b[1G⢀ @jupyterlab/javascript-extension@^0.19.1\u001b[0K\u001b[1G⠠ @jupyterlab/javascript-extension@^0.19.1\u001b[0K\u001b[1G⠐ @jupyterlab/javascript-extension@^0.19.1\u001b[0K\u001b[1G⠈ @jupyterlab/javascript-extension@^0.19.1\u001b[0K\u001b[1G⠁ @jupyterlab/json-extension@^0.18.1\u001b[0K\u001b[1G⠂ @jupyterlab/json-extension@^0.18.1\u001b[0K\u001b[1G⠄ @jupyterlab/json-extension@^0.18.1\u001b[0K\u001b[1G⡀ @jupyterlab/json-extension@^0.18.1\u001b[0K\u001b[1G⢀ @jupyterlab/json-extension@^0.18.1\u001b[0K\u001b[1G⠠ @jupyterlab/json-extension@^0.18.1\u001b[0K\u001b[1G⠐ @jupyterlab/json-extension@^0.18.1\u001b[0K\u001b[1G⠈ @jupyterlab/json-extension@^0.18.1\u001b[0K\u001b[1G⠁ @jupyterlab/json-extension@^0.18.1\u001b[0K\u001b[1G⠂ @jupyterlab/json-extension@^0.18.1\u001b[0K\u001b[1G⠄ react-json-tree@^0.11.0\u001b[0K\u001b[1G⡀ react-base16-styling@^0.5.1\u001b[0K\u001b[2K\u001b[1G\u001b[33mwarning\u001b[39m @jupyterlab/json-extension > react-json-tree > babel-runtime > core-js@2.6.11: core-js@<3 is no longer maintained and not recommended for usage due to the number of issues. Please, upgrade your dependencies to the actual version of core-js@3.\n"
     ]
    },
    {
     "name": "stdout",
     "output_type": "stream",
     "text": [
      "\u001b[1G⢀ regenerator-runtime@^0.11.0\u001b[0K\u001b[1G⠠ regenerator-runtime@^0.11.0\u001b[0K\u001b[1G⠐ regenerator-runtime@^0.11.0\u001b[0K\u001b[1G⠈ prop-types@^15.6.0\u001b[0K\u001b[1G⠁ @jupyterlab/launcher-extension@^0.19.1\u001b[0K\u001b[1G⠂ @jupyterlab/launcher-extension@^0.19.1\u001b[0K\u001b[1G⠄ @jupyterlab/launcher-extension@^0.19.1\u001b[0K\u001b[1G⡀ @jupyterlab/launcher-extension@^0.19.1\u001b[0K\u001b[1G⢀ @jupyterlab/launcher-extension@^0.19.1\u001b[0K\u001b[1G⠠ @jupyterlab/mainmenu-extension@^0.8.1\u001b[0K\u001b[1G⠐ @jupyterlab/mainmenu-extension@^0.8.1\u001b[0K\u001b[1G⠈ @jupyterlab/mainmenu-extension@^0.8.1\u001b[0K\u001b[1G⠁ @jupyterlab/mainmenu-extension@^0.8.1\u001b[0K\u001b[1G⠂ @jupyterlab/mainmenu-extension@^0.8.1\u001b[0K\u001b[1G⠄ @jupyterlab/markdownviewer-extension@^0.19.1\u001b[0K\u001b[1G⡀ @jupyterlab/markdownviewer-extension@^0.19.1\u001b[0K\u001b[1G⢀ @jupyterlab/markdownviewer-extension@^0.19.1\u001b[0K\u001b[1G⠠ @jupyterlab/markdownviewer-extension@^0.19.1\u001b[0K\u001b[1G⠐ @jupyterlab/markdownviewer-extension@^0.19.1\u001b[0K\u001b[1G⠈ @jupyterlab/mathjax2@^0.7.1\u001b[0K\u001b[1G⠁ @jupyterlab/mathjax2@^0.7.1\u001b[0K\u001b[1G⠂ @jupyterlab/mathjax2@^0.7.1\u001b[0K\u001b[1G⠄ @jupyterlab/mathjax2@^0.7.1\u001b[0K\u001b[1G⡀ @jupyterlab/mathjax2@^0.7.1\u001b[0K\u001b[1G⢀ @jupyterlab/mathjax2@^0.7.1\u001b[0K\u001b[1G⠠ @jupyterlab/mathjax2-extension@^0.7.1\u001b[0K\u001b[1G⠐ @jupyterlab/mathjax2-extension@^0.7.1\u001b[0K\u001b[1G⠈ @jupyterlab/mathjax2-extension@^0.7.1\u001b[0K\u001b[1G⠁ @jupyterlab/mathjax2-extension@^0.7.1\u001b[0K\u001b[1G⠂ @jupyterlab/mathjax2-extension@^0.7.1\u001b[0K\u001b[1G⠄ @jupyterlab/notebook-extension@^0.19.1\u001b[0K\u001b[1G⡀ @jupyterlab/notebook-extension@^0.19.1\u001b[0K\u001b[1G⢀ @jupyterlab/notebook-extension@^0.19.1\u001b[0K\u001b[1G⠠ @jupyterlab/notebook-extension@^0.19.1\u001b[0K\u001b[1G⠐ @jupyterlab/notebook-extension@^0.19.1\u001b[0K\u001b[1G⠈ @jupyterlab/pdf-extension@^0.10.1\u001b[0K\u001b[1G⠁ @jupyterlab/pdf-extension@^0.10.1\u001b[0K\u001b[1G⠂ @jupyterlab/pdf-extension@^0.10.1\u001b[0K\u001b[1G⠄ @jupyterlab/pdf-extension@^0.10.1\u001b[0K\u001b[1G⡀ @jupyterlab/pdf-extension@^0.10.1\u001b[0K\u001b[1G⢀ @jupyterlab/rendermime-extension@^0.13.1\u001b[0K\u001b[1G⠠ @jupyterlab/rendermime-extension@^0.13.1\u001b[0K\u001b[1G⠐ @jupyterlab/rendermime-extension@^0.13.1\u001b[0K\u001b[1G⠈ @jupyterlab/rendermime-extension@^0.13.1\u001b[0K\u001b[1G⠁ @jupyterlab/rendermime-extension@^0.13.1\u001b[0K\u001b[1G⠂ @jupyterlab/running@^0.19.1\u001b[0K\u001b[1G⠄ @jupyterlab/running@^0.19.1\u001b[0K\u001b[1G⡀ @jupyterlab/running@^0.19.1\u001b[0K\u001b[1G⢀ @jupyterlab/running@^0.19.1\u001b[0K\u001b[1G⠠ @jupyterlab/running@^0.19.1\u001b[0K\u001b[1G⠐ @jupyterlab/running@^0.19.1\u001b[0K\u001b[1G⠈ @jupyterlab/running-extension@^0.19.1\u001b[0K\u001b[1G⠁ @jupyterlab/running-extension@^0.19.1\u001b[0K\u001b[1G⠂ @jupyterlab/running-extension@^0.19.1\u001b[0K\u001b[1G⠄ @jupyterlab/running-extension@^0.19.1\u001b[0K\u001b[1G⡀ @jupyterlab/running-extension@^0.19.1\u001b[0K\u001b[1G⢀ @jupyterlab/running-extension@^0.19.1\u001b[0K\u001b[1G⠠ @jupyterlab/running-extension@^0.19.1\u001b[0K\u001b[1G⠐ @jupyterlab/running-extension@^0.19.1\u001b[0K\u001b[1G⠈ @jupyterlab/running-extension@^0.19.1\u001b[0K\u001b[1G⠁ @jupyterlab/settingeditor@^0.8.1\u001b[0K\u001b[1G⠂ @jupyterlab/settingeditor@^0.8.1\u001b[0K\u001b[1G⠄ @jupyterlab/settingeditor@^0.8.1\u001b[0K\u001b[1G⡀ @jupyterlab/settingeditor@^0.8.1\u001b[0K\u001b[1G⢀ @jupyterlab/settingeditor@^0.8.1\u001b[0K\u001b[1G⠠ @jupyterlab/settingeditor-extension@^0.14.1\u001b[0K\u001b[1G⠐ @jupyterlab/settingeditor-extension@^0.14.1\u001b[0K\u001b[1G⠈ @jupyterlab/settingeditor-extension@^0.14.1\u001b[0K\u001b[1G⠁ @jupyterlab/settingeditor-extension@^0.14.1\u001b[0K\u001b[1G⠂ @jupyterlab/settingeditor-extension@^0.14.1\u001b[0K\u001b[1G⠄ @jupyterlab/settingeditor-extension@^0.14.1\u001b[0K\u001b[1G⡀ @jupyterlab/shortcuts-extension@^0.19.3\u001b[0K\u001b[1G⢀ @jupyterlab/shortcuts-extension@^0.19.3\u001b[0K\u001b[1G⠠ @jupyterlab/shortcuts-extension@^0.19.3\u001b[0K\u001b[1G⠐ @jupyterlab/shortcuts-extension@^0.19.3\u001b[0K\u001b[1G⠈ @jupyterlab/shortcuts-extension@^0.19.3\u001b[0K\u001b[1G⠁ @jupyterlab/tabmanager-extension@^0.19.1\u001b[0K\u001b[1G⠂ @jupyterlab/tabmanager-extension@^0.19.1\u001b[0K\u001b[1G⠄ @jupyterlab/tabmanager-extension@^0.19.1\u001b[0K\u001b[1G⡀ @jupyterlab/tabmanager-extension@^0.19.1\u001b[0K\u001b[1G⢀ @jupyterlab/tabmanager-extension@^0.19.1\u001b[0K\u001b[1G⠠ @jupyterlab/terminal@^0.19.1\u001b[0K\u001b[1G⠐ @jupyterlab/terminal@^0.19.1\u001b[0K\u001b[1G⠈ @jupyterlab/terminal@^0.19.1\u001b[0K\u001b[1G⠁ @jupyterlab/terminal@^0.19.1\u001b[0K\u001b[1G⠂ @jupyterlab/terminal@^0.19.1\u001b[0K\u001b[1G⠄ xterm@~3.3.0\u001b[0K\u001b[1G⡀ @jupyterlab/terminal-extension@^0.19.1\u001b[0K\u001b[1G⢀ @jupyterlab/terminal-extension@^0.19.1\u001b[0K\u001b[1G⠠ @jupyterlab/terminal-extension@^0.19.1\u001b[0K\u001b[1G⠐ @jupyterlab/terminal-extension@^0.19.1\u001b[0K\u001b[1G⠈ @jupyterlab/terminal-extension@^0.19.1\u001b[0K\u001b[1G⠁ @jupyterlab/theme-dark-extension@^0.19.1\u001b[0K\u001b[1G⠂ @jupyterlab/theme-dark-extension@^0.19.1\u001b[0K\u001b[1G⠄ @jupyterlab/theme-dark-extension@^0.19.1\u001b[0K\u001b[1G⡀ @jupyterlab/theme-dark-extension@^0.19.1\u001b[0K\u001b[1G⢀ @jupyterlab/theme-dark-extension@^0.19.1\u001b[0K\u001b[1G⠠ font-awesome@~4.7.0\u001b[0K\u001b[1G⠐ @jupyterlab/theme-light-extension@^0.19.1\u001b[0K\u001b[1G⠈ @jupyterlab/theme-light-extension@^0.19.1\u001b[0K\u001b[1G⠁ @jupyterlab/theme-light-extension@^0.19.1\u001b[0K\u001b[1G⠂ @jupyterlab/theme-light-extension@^0.19.1\u001b[0K\u001b[1G⠄ @jupyterlab/theme-light-extension@^0.19.1\u001b[0K\u001b[1G⡀ @jupyterlab/tooltip@^0.19.1\u001b[0K\u001b[1G⢀ @jupyterlab/tooltip@^0.19.1\u001b[0K\u001b[1G⠠ @jupyterlab/tooltip@^0.19.1\u001b[0K\u001b[1G⠐ @jupyterlab/tooltip@^0.19.1\u001b[0K\u001b[1G⠈ @jupyterlab/tooltip-extension@^0.19.1\u001b[0K\u001b[1G⠁ @jupyterlab/tooltip-extension@^0.19.1\u001b[0K\u001b[1G⠂ @jupyterlab/tooltip-extension@^0.19.1\u001b[0K\u001b[1G⠄ @jupyterlab/tooltip-extension@^0.19.1\u001b[0K\u001b[1G⡀ @jupyterlab/tooltip-extension@^0.19.1\u001b[0K\u001b[1G⢀ @jupyterlab/vdom-extension@^0.18.1\u001b[0K\u001b[1G⠠ @jupyterlab/vdom-extension@^0.18.1\u001b[0K\u001b[1G⠐ @jupyterlab/vdom-extension@^0.18.1\u001b[0K\u001b[1G⠈ @jupyterlab/vdom-extension@^0.18.1\u001b[0K\u001b[1G⠁ @jupyterlab/vdom-extension@^0.18.1\u001b[0K\u001b[1G⠂ react-dom@~16.4.2\u001b[0K\u001b[1G⠄ react-dom@~16.4.2\u001b[0K\u001b[1G⡀ react-dom@~16.4.2\u001b[0K\u001b[1G⢀ react-dom@~16.4.2\u001b[0K\u001b[1G⠠ react-dom@~16.4.2\u001b[0K\u001b[1G⠐ react-dom@~16.4.2\u001b[0K\u001b[1G⠈ react-dom@~16.4.2\u001b[0K\u001b[1G⠁ react-dom@~16.4.2\u001b[0K\u001b[1G⠂ react-dom@~16.4.2\u001b[0K\u001b[1G⠄ react-dom@~16.4.2\u001b[0K\u001b[1G⡀ @jupyterlab/vega4-extension@^0.18.1\u001b[0K\u001b[1G⢀ @jupyterlab/vega4-extension@^0.18.1\u001b[0K\u001b[1G⠠ @jupyterlab/vega4-extension@^0.18.1\u001b[0K\u001b[1G⠐ @jupyterlab/vega4-extension@^0.18.1\u001b[0K\u001b[1G⠈ @jupyterlab/vega4-extension@^0.18.1\u001b[0K\u001b[1G⠁ vega-tooltip@^0.12.0\u001b[0K\u001b[1G⠂ vega-util@^1.7.0\u001b[0K\u001b[1G⠄ vega-util@^1.7.0\u001b[0K\u001b[1G⡀ vega-util@^1.7.0\u001b[0K\u001b[1G⢀ commander@2\u001b[0K\u001b[1G⠠ locate-path@^2.0.0\u001b[0K\u001b[1G⠐ path-parse@^1.0.6\u001b[0K\u001b[1G⠈ path-key@^2.0.0\u001b[0K\u001b[1G⠁ once@^1.3.1\u001b[0K\u001b[1G⠂ jupyter-gmaps@file:../extensions/jupyter-gmaps-0.8.0.tgz\u001b[0K\u001b[1G⠄ underscore@>=1.7.0\u001b[0K\u001b[1G⡀ fbjs@^0.8.4\u001b[0K\u001b[1G⢀ fbjs@^0.8.4\u001b[0K\u001b[1G⠠ fbjs@^0.8.4\u001b[0K\u001b[1G⠐ fbjs@^0.8.4\u001b[0K\u001b[1G⠈ uri-js@^4.2.2\u001b[0K\u001b[1G⠁ minimist@^1.2.0\u001b[0K\u001b[1G⠂ @types/sizzle@*\u001b[0K\u001b[1G⠄ semver@^5.1.0\u001b[0K\u001b[1G⡀ plotly.js@^1.48.0\u001b[0K\u001b[1G⢀ commander@2\u001b[0K\u001b[1G⠠ monotone-convex-hull-2d@^1.0.1\u001b[0K\u001b[1G⠐ vectorize-text@^3.2.1\u001b[0K\u001b[1G⠈ vt-pbf@^3.1.1\u001b[0K\u001b[1G⠁ update-diff@^1.1.0\u001b[0K\u001b[1G⠂ get-canvas-context@^1.0.1\u001b[0K\u001b[1G⠄ typedarray-pool@^1.1.0\u001b[0K\u001b[1G⡀ weak-map@^1.0.5\u001b[0K\u001b[1G⢀ ndarray-ops@^1.2.1\u001b[0K\u001b[1G⠠ resolve@^1.0.0\u001b[0K\u001b[1G⠐ parse-unit@^1.0.1\u001b[0K\u001b[1G⠈ @mapbox/point-geometry@~0.1.0\u001b[0K\u001b[1G⠁ resolve-protobuf-schema@^2.1.0\u001b[0K\u001b[1G⠂ buble@^0.19.3\u001b[0K\u001b[2K\u001b[1G\u001b[33mwarning\u001b[39m @jupyterlab/plotly-extension > plotly.js > regl-splom > left-pad@1.3.0: use String.prototype.padStart()\n",
      "\u001b[1G⠄ color-parse@^1.3.8\u001b[0K\u001b[1G⡀ compare-oriented-cell@^1.0.1\u001b[0K\u001b[1G⢀ cdt2d@^1.0.0\u001b[0K\u001b[1G⠠ typedarray-pool@^1.0.0\u001b[0K\u001b[1G⠐ inherits@~2.0.1\u001b[0K\u001b[1G⠈ type@^1.0.1\u001b[0K\u001b[1G⠁ object-keys@~0.4.0\u001b[0K\u001b[1G⠂ robust-linear-solve@^1.0.0\u001b[0K\u001b[1G⠄ uniq@^1.0.0\u001b[0K\u001b[1G⡀ type@^2.0.0\u001b[0K\u001b[1G⢀ sourcemap-codec@^1.4.4\u001b[0K\u001b[2K\u001b[1G\u001b[33mwarning\u001b[39m @jupyterlab/plotly-extension > plotly.js > point-cluster > bubleify > buble > os-homedir@2.0.0: This is not needed anymore. Use `require('os').homedir()` instead.\n",
      "\u001b[1G⠠ function-bind@^1.1.1\u001b[0K\u001b[1G⠐ esprima@~1.0.4\u001b[0K\u001b[1G⠈ validate.io-nonnegative-integer@^1.0.0\u001b[0K\u001b[1G⠁ brace-expansion@^1.1.7\u001b[0K\u001b[1G⠂ robust-sum@^1.0.0\u001b[0K\u001b[1G⠄ function-bind@^1.1.1\u001b[0K\u001b[1G⡀ has-symbols@^1.0.1\u001b[0K\u001b[1G⢀ jupyter-matplotlib@file:../extensions/jupyter-matplotlib-0.5.0.tgz\u001b[0K\u001b[1G⠠ schema-utils@^1.0.0\u001b[0K\u001b[1G⠐ ajv-keywords@^3.1.0\u001b[0K\u001b[1G⠈ @jupyterlab/buildutils@^0.11.1\u001b[0K\u001b[1G⠁ @jupyterlab/buildutils@^0.11.1\u001b[0K\u001b[1G⠂ @jupyterlab/buildutils@^0.11.1\u001b[0K\u001b[1G⠄ @jupyterlab/buildutils@^0.11.1\u001b[0K\u001b[1G⡀ @jupyterlab/buildutils@^0.11.1\u001b[0K\u001b[1G⢀ universalify@^0.1.0\u001b[0K\u001b[1G⠠ graceful-fs@^4.1.6\u001b[0K\u001b[1G⠐ inherits@2.0.3\u001b[0K\u001b[1G⠈ p-finally@^1.0.0\u001b[0K\u001b[1G⠁ json-buffer@3.0.0\u001b[0K\u001b[1G⠂ has-flag@^1.0.0\u001b[0K\u001b[1G⠄ ansi-regex@^2.0.0\u001b[0K\u001b[1G⡀ postcss@^5.0.14\u001b[0K\u001b[1G⢀ postcss-value-parser@^3.0.2\u001b[0K\u001b[1G⠠ postcss-value-parser@^3.0.1\u001b[0K\u001b[2K\u001b[1G\u001b[33mwarning\u001b[39m css-loader > cssnano > autoprefixer > browserslist@1.7.7: Browserslist 2 could fail on reading Browserslist >3.0 config used in other tools.\n",
      "\u001b[2K\u001b[1G\u001b[33mwarning\u001b[39m css-loader > cssnano > postcss-merge-rules > browserslist@1.7.7: Browserslist 2 could fail on reading Browserslist >3.0 config used in other tools.\n",
      "\u001b[2K\u001b[1G\u001b[33mwarning\u001b[39m css-loader > cssnano > postcss-merge-rules > caniuse-api > browserslist@1.7.7: Browserslist 2 could fail on reading Browserslist >3.0 config used in other tools.\n",
      "\u001b[1G⠐ has@^1.0.1\u001b[0K\u001b[1G⠈ csso@~2.3.1\u001b[0K\u001b[1G⠁ sprintf-js@~1.0.2\u001b[0K\u001b[1G⠂ semver@^5.4.1\u001b[0K\u001b[1G⠄ handlebars@~4.0.11\u001b[0K\u001b[1G⡀ source-map@~0.6.1\u001b[0K\u001b[1G⢀ html-loader@^0.5.1\u001b[0K\u001b[1G⠠ through@~2.3.6\u001b[0K\u001b[1G⠐ lower-case@^1.1.1\u001b[0K\u001b[1G⠈ object-assign@^4.0.1\u001b[0K\u001b[1G⠁ renderkid@^2.0.1\u001b[0K\u001b[1G⠂ domelementtype@1\u001b[0K\u001b[1G⠄ rimraf@~2.6.2\u001b[0K\u001b[1G⡀ uglifyjs-webpack-plugin@~1.2.5\u001b[0K\u001b[1G⢀ glob@^7.1.3\u001b[0K\u001b[1G⠠ yallist@^2.1.2\u001b[0K\u001b[1G⠐ once@^1.3.1\u001b[0K\u001b[1G⠈ url-loader@~1.0.1\u001b[0K\u001b[1G⠁ webpack@~4.12.0\u001b[0K\u001b[1G⠂ worker-farm@^1.5.2\u001b[0K\u001b[1G⠄ debug@^3.1.0\u001b[0K\u001b[1G⡀ ieee754@^1.1.11\u001b[0K\u001b[1G⢀ to-regex@^3.0.1\u001b[0K\u001b[1G⠠ isarray@^1.0.0\u001b[0K\u001b[1G⠐ setimmediate@^1.0.4\u001b[0K\u001b[1G⠈ snapdragon-util@^3.0.1\u001b[0K\u001b[1G⠁ ret@~0.1.10\u001b[0K\u001b[1G⠂ remove-trailing-separator@^1.0.1\u001b[0K\u001b[1G⠄ kind-of@^3.0.2\u001b[0K\u001b[1G⡀ safe-buffer@^5.1.1\u001b[0K\u001b[1G⢀ minimalistic-crypto-utils@^1.0.0\u001b[0K\u001b[1G⠠ object-copy@^0.1.0\u001b[0K\u001b[1G⠐ yallist@^3.0.3\u001b[0K\u001b[1G⠈ npm-normalize-package-bin@^1.0.1\u001b[0K\u001b[1G⠁ string-width@^1.0.2 || 2\u001b[0K\u001b[1G⠂ string-width@^1.0.2 || 2\u001b[0K\u001b[1G⠄ string-width@^1.0.2 || 2\u001b[0K\u001b[1G⡀ string-width@^1.0.2 || 2\u001b[0K\u001b[1G⢀ p-try@^2.0.0\u001b[0K\u001b[1G⠠ resolve-from@^3.0.0\u001b[0K\u001b[1G⠐ parse-passwd@^1.0.0\u001b[0K\u001b[2K\u001b[1G\u001b[2K\u001b[1G\u001b[2m[3/5]\u001b[22m Fetching packages...\n",
      "\u001b[2K\u001b[1G\u001b[1G[----------------------------------------------------------------------] 0/1309\u001b[1G[###------------------------------------------------------------------] 58/1309\u001b[1G[######--------------------------------------------------------------] 111/1309\u001b[1G[########------------------------------------------------------------] 159/1309\u001b[1G[###########---------------------------------------------------------] 206/1309\u001b[1G[#############-------------------------------------------------------] 246/1309\u001b[1G[################----------------------------------------------------] 300/1309\u001b[1G[##################--------------------------------------------------] 340/1309\u001b[1G[#####################-----------------------------------------------] 396/1309\u001b[1G[#######################---------------------------------------------] 451/1309\u001b[1G[##########################------------------------------------------] 504/1309\u001b[1G[#############################---------------------------------------] 564/1309\u001b[1G[################################------------------------------------] 615/1309\u001b[1G[##################################----------------------------------] 664/1309\u001b[1G[#####################################-------------------------------] 712/1309\u001b[1G[########################################----------------------------] 763/1309\u001b[1G[##########################################--------------------------] 814/1309\u001b[1G[###########################################-------------------------] 837/1309\u001b[1G[##############################################----------------------] 887/1309\u001b[1G[#################################################-------------------] 936/1309\u001b[1G[###################################################-----------------] 987/1309\u001b[1G[#####################################################--------------] 1028/1309\u001b[1G[#######################################################------------] 1081/1309\u001b[1G[##########################################################---------] 1142/1309\u001b[1G[#############################################################------] 1195/1309\u001b[1G[################################################################---] 1249/1309\u001b[1G[###################################################################] 1301/1309\u001b[2K\u001b[1G\u001b[34minfo\u001b[39m fsevents@1.2.11: The platform \"linux\" is incompatible with this module.\n",
      "\u001b[2K\u001b[1G\u001b[34minfo\u001b[39m \"fsevents@1.2.11\" is an optional dependency and failed compatibility check. Excluding it from installation.\n",
      "\u001b[2K\u001b[1G\u001b[2m[4/5]\u001b[22m Linking dependencies...\n",
      "\u001b[2K\u001b[1G\u001b[33mwarning\u001b[39m \"@jupyterlab/vdom-extension > @nteract/transform-vdom@1.1.1\" has incorrect peer dependency \"react@^15.6.1\".\n",
      "\u001b[2K\u001b[1G\u001b[33mwarning\u001b[39m \"@jupyterlab/vega4-extension > vega-embed > vega-themes@2.8.2\" has unmet peer dependency \"vega@*\".\n",
      "\u001b[2K\u001b[1G\u001b[33mwarning\u001b[39m \"@jupyterlab/vega4-extension > vega-embed > vega-lite@2.7.0\" has unmet peer dependency \"vega@^3.0.0 || ^4.0.0\".\n",
      "\u001b[2K\u001b[1G\u001b[33mwarning\u001b[39m \"jupyter-gmaps > @jupyter-widgets/base > @jupyterlab/services > ws@7.2.3\" has unmet peer dependency \"bufferutil@^4.0.1\".\n",
      "\u001b[2K\u001b[1G\u001b[33mwarning\u001b[39m \"jupyter-gmaps > @jupyter-widgets/base > @jupyterlab/services > ws@7.2.3\" has unmet peer dependency \"utf-8-validate@^5.0.2\".\n",
      "\u001b[1G[###################################################################] 1309/1309\u001b[2K\u001b[1G\u001b[2K\u001b[1G\u001b[1G[----------------------------------------------------------------------] 0/1381\u001b[2K\u001b[1G\u001b[2K\u001b[1G\u001b[1G[----------------------------------------------------------------------] 0/2502\u001b[1G[##-------------------------------------------------------------------] 87/2502\u001b[1G[#########-----------------------------------------------------------] 317/2502\u001b[1G[############--------------------------------------------------------] 430/2502\u001b[1G[###############-----------------------------------------------------] 534/2502\u001b[1G[################----------------------------------------------------] 584/2502\u001b[1G[####################------------------------------------------------] 719/2502\u001b[1G[#########################-------------------------------------------] 921/2502\u001b[1G[############################---------------------------------------] 1037/2502\u001b[1G[################################-----------------------------------] 1186/2502\u001b[1G[###################################--------------------------------] 1322/2502\u001b[1G[#####################################------------------------------] 1382/2502\u001b[1G[######################################-----------------------------] 1403/2502\u001b[1G[######################################-----------------------------] 1417/2502\u001b[2K\u001b[1G\u001b[2m[5/5]\u001b[22m Building fresh packages...\n",
      "\u001b[1G[######################################-----------------------------] 1428/2502\u001b[2K\u001b[1G\n"
     ]
    },
    {
     "name": "stdout",
     "output_type": "stream",
     "text": [
      "\u001b[1G⠁ \u001b[0K\u001b[1G\u001b[1A⠁ \u001b[0K\u001b[1G\u001b[1B\u001b[1G\u001b[2m[2/2]\u001b[22m ⠂ jupyter-matplotlib\u001b[0K\u001b[1G\u001b[1A\u001b[2m[1/2]\u001b[22m ⠂ core-js\u001b[0K\u001b[1G\u001b[1B\u001b[1G\u001b[2m[2/2]\u001b[22m ⠄ jupyter-matplotlib\u001b[0K\u001b[1G\u001b[1A\u001b[2m[1/2]\u001b[22m ⠄ core-js\u001b[0K\u001b[1G\u001b[1B\u001b[1G\u001b[2m[2/2]\u001b[22m ⡀ jupyter-matplotlib\u001b[0K\u001b[1G\u001b[1A\u001b[2m[1/2]\u001b[22m ⡀ core-js\u001b[0K\u001b[1G\u001b[1B\u001b[1G\u001b[2m[2/2]\u001b[22m ⢀ jupyter-matplotlib\u001b[0K\u001b[1G\u001b[1A\u001b[2m[1/2]\u001b[22m ⢀ core-js\u001b[0K\u001b[1G\u001b[1B\u001b[1G\u001b[2m[2/2]\u001b[22m ⠠ jupyter-matplotlib\u001b[0K\u001b[1G\u001b[1A\u001b[2m[1/2]\u001b[22m ⠠ core-js\u001b[0K\u001b[1G\u001b[1B\u001b[1G\u001b[2m[2/2]\u001b[22m ⠐ jupyter-matplotlib\u001b[0K\u001b[1G\u001b[1A\u001b[2m[1/2]\u001b[22m ⠐ core-js\u001b[0K\u001b[1G\u001b[1B\u001b[1G\u001b[2m[2/2]\u001b[22m ⠈ jupyter-matplotlib\u001b[0K\u001b[1G\u001b[1A\u001b[2m[1/2]\u001b[22m ⠈ core-js\u001b[0K\u001b[1G\u001b[1B\u001b[1G\u001b[2m[2/2]\u001b[22m ⠁ jupyter-matplotlib\u001b[0K\u001b[1G\u001b[1A\u001b[2m[1/2]\u001b[22m ⠁ core-js\u001b[0K\u001b[1G\u001b[1B\u001b[1G\u001b[2m[2/2]\u001b[22m ⠂ jupyter-matplotlib\u001b[0K\u001b[1G\u001b[1A\u001b[2m[1/2]\u001b[22m ⠂ core-js\u001b[0K\u001b[1G\u001b[1B\u001b[1G\u001b[2m[2/2]\u001b[22m ⠄ jupyter-matplotlib\u001b[0K\u001b[1G\u001b[1A\u001b[2m[1/2]\u001b[22m ⠄ core-js\u001b[0K\u001b[1G\u001b[1B\u001b[1G\u001b[2m[2/2]\u001b[22m ⡀ jupyter-matplotlib\u001b[0K\u001b[1G\u001b[1A\u001b[2m[1/2]\u001b[22m ⡀ core-js\u001b[0K\u001b[1G\u001b[1B\u001b[1G\u001b[2m[2/2]\u001b[22m ⢀ jupyter-matplotlib\u001b[0K\u001b[1G\u001b[1A\u001b[2m[1/2]\u001b[22m ⢀ core-js\u001b[0K\u001b[1G\u001b[1B\u001b[1G\u001b[2m[2/2]\u001b[22m ⠠ jupyter-matplotlib\u001b[0K\u001b[1G\u001b[1A\u001b[2m[1/2]\u001b[22m ⠠ core-js\u001b[0K\u001b[1G\u001b[1B\u001b[1G\u001b[2m[2/2]\u001b[22m ⠐ jupyter-matplotlib\u001b[0K\u001b[1G\u001b[1A\u001b[2m[1/2]\u001b[22m ⠐ core-js\u001b[0K\u001b[1G\u001b[1B\u001b[1G\u001b[2m[2/2]\u001b[22m ⠈ jupyter-matplotlib\u001b[0K\u001b[1G\u001b[1A\u001b[2m[1/2]\u001b[22m ⠈ core-js\u001b[0K\u001b[1G\u001b[1B\u001b[1G\u001b[2m[2/2]\u001b[22m ⠁ jupyter-matplotlib\u001b[0K\u001b[1G\u001b[1A\u001b[2m[1/2]\u001b[22m ⠁ core-js\u001b[0K\u001b[1G\u001b[1B\u001b[1G\u001b[2m[2/2]\u001b[22m ⠂ jupyter-matplotlib\u001b[0K\u001b[1G\u001b[1A\u001b[2m[1/2]\u001b[22m ⠂ core-js\u001b[0K\u001b[1G\u001b[1B\u001b[1G\u001b[2m[2/2]\u001b[22m ⠄ jupyter-matplotlib\u001b[0K\u001b[1G\u001b[1A\u001b[2m[1/2]\u001b[22m ⠄ core-js\u001b[0K\u001b[1G\u001b[1B\u001b[1G\u001b[2m[2/2]\u001b[22m ⡀ jupyter-matplotlib\u001b[0K\u001b[1G\u001b[1A\u001b[2m[1/2]\u001b[22m ⡀ core-js\u001b[0K\u001b[1G\u001b[1B\u001b[1G\u001b[2m[2/2]\u001b[22m ⢀ jupyter-matplotlib\u001b[0K\u001b[1G\u001b[1A\u001b[2m[1/2]\u001b[22m ⢀ core-js\u001b[0K\u001b[1G\u001b[1B\u001b[1G\u001b[2m[2/2]\u001b[22m ⠠ jupyter-matplotlib\u001b[0K\u001b[1G\u001b[1A\u001b[2m[1/2]\u001b[22m ⠠ core-js\u001b[0K\u001b[1G\u001b[1B\u001b[1G\u001b[2m[2/2]\u001b[22m ⠐ jupyter-matplotlib\u001b[0K\u001b[1G\u001b[1A\u001b[2m[1/2]\u001b[22m ⠐ core-js\u001b[0K\u001b[1G\u001b[1B\u001b[1G\u001b[2m[2/2]\u001b[22m ⠈ jupyter-matplotlib\u001b[0K\u001b[1G\u001b[1A\u001b[2m[1/2]\u001b[22m ⠈ core-js\u001b[0K\u001b[1G\u001b[1B\u001b[1G\u001b[2m[2/2]\u001b[22m ⠁ jupyter-matplotlib\u001b[0K\u001b[1G\u001b[1A\u001b[2m[1/2]\u001b[22m ⠁ core-js\u001b[0K\u001b[1G\u001b[1B\u001b[1G\u001b[2m[2/2]\u001b[22m ⠂ jupyter-matplotlib\u001b[0K\u001b[1G\u001b[1A\u001b[2m[1/2]\u001b[22m ⠂ core-js\u001b[0K\u001b[1G\u001b[1B\u001b[1G\u001b[2m[2/2]\u001b[22m ⠄ jupyter-matplotlib\u001b[0K\u001b[1G\u001b[1A\u001b[2m[1/2]\u001b[22m ⠄ core-js\u001b[0K\u001b[1G\u001b[1B\u001b[1G\u001b[2m[2/2]\u001b[22m ⡀ jupyter-matplotlib\u001b[0K\u001b[1G\u001b[1A\u001b[2m[1/2]\u001b[22m ⡀ core-js\u001b[0K\u001b[1G\u001b[1B\u001b[1G\u001b[2m[2/2]\u001b[22m ⢀ jupyter-matplotlib\u001b[0K\u001b[1G\u001b[1A\u001b[2m[1/2]\u001b[22m ⢀ core-js\u001b[0K\u001b[1G\u001b[1B\u001b[1G\u001b[2m[2/2]\u001b[22m ⠠ jupyter-matplotlib\u001b[0K\u001b[1G\u001b[1A\u001b[2m[1/2]\u001b[22m ⠠ core-js\u001b[0K\u001b[1G\u001b[1B\u001b[1G\u001b[2m[2/2]\u001b[22m ⠐ jupyter-matplotlib\u001b[0K\u001b[1G\u001b[1A\u001b[2m[1/2]\u001b[22m ⠐ core-js\u001b[0K\u001b[1G\u001b[1B\u001b[1G\u001b[2m[2/2]\u001b[22m ⠈ jupyter-matplotlib\u001b[0K\u001b[1G\u001b[1A\u001b[2m[1/2]\u001b[22m ⠈ core-js\u001b[0K\u001b[1G\u001b[1B\u001b[1G\u001b[2m[2/2]\u001b[22m ⠁ jupyter-matplotlib\u001b[0K\u001b[1G\u001b[1A\u001b[2m[1/2]\u001b[22m ⠁ core-js\u001b[0K\u001b[1G\u001b[1B\u001b[1G\u001b[2m[2/2]\u001b[22m ⠂ jupyter-matplotlib\u001b[0K\u001b[1G\u001b[1A\u001b[2m[1/2]\u001b[22m ⠂ core-js\u001b[0K\u001b[1G\u001b[1B\u001b[1G\u001b[2m[2/2]\u001b[22m ⠄ jupyter-matplotlib\u001b[0K\u001b[1G\u001b[1A\u001b[2m[1/2]\u001b[22m ⠄ core-js\u001b[0K\u001b[1G\u001b[1B\u001b[1G\u001b[2m[2/2]\u001b[22m ⡀ jupyter-matplotlib\u001b[0K\u001b[1G\u001b[1A\u001b[2m[1/2]\u001b[22m ⡀ core-js\u001b[0K\u001b[1G\u001b[1B\u001b[1G\u001b[2m[2/2]\u001b[22m ⢀ jupyter-matplotlib\u001b[0K\u001b[1G\u001b[1A\u001b[2m[1/2]\u001b[22m ⢀ core-js\u001b[0K\u001b[1G\u001b[1B\u001b[1G\u001b[2m[2/2]\u001b[22m ⠠ jupyter-matplotlib\u001b[0K\u001b[1G\u001b[1A\u001b[2m[1/2]\u001b[22m ⠠ core-js\u001b[0K\u001b[1G\u001b[1B\u001b[1G\u001b[2m[2/2]\u001b[22m ⠐ jupyter-matplotlib\u001b[0K\u001b[1G\u001b[1A\u001b[2m[1/2]\u001b[22m ⠐ core-js\u001b[0K\u001b[1G\u001b[1B\u001b[1G\u001b[2m[2/2]\u001b[22m ⠈ jupyter-matplotlib\u001b[0K\u001b[1G\u001b[1A\u001b[2m[1/2]\u001b[22m ⠈ core-js\u001b[0K\u001b[1G\u001b[1B\u001b[1G\u001b[2m[2/2]\u001b[22m ⠁ jupyter-matplotlib\u001b[0K\u001b[1G\u001b[1A\u001b[2m[1/2]\u001b[22m ⠁ core-js\u001b[0K\u001b[1G\u001b[1B\u001b[1G\u001b[2m[2/2]\u001b[22m ⠂ jupyter-matplotlib\u001b[0K\u001b[1G\u001b[1A\u001b[2m[1/2]\u001b[22m ⠂ core-js\u001b[0K\u001b[1G\u001b[1B\u001b[1G\u001b[2m[2/2]\u001b[22m ⠄ jupyter-matplotlib\u001b[0K\u001b[1G\u001b[1A\u001b[2m[1/2]\u001b[22m ⠄ core-js\u001b[0K\u001b[1G\u001b[1B\u001b[1G\u001b[2m[2/2]\u001b[22m ⡀ jupyter-matplotlib\u001b[0K\u001b[1G\u001b[1A\u001b[2m[1/2]\u001b[22m ⡀ core-js\u001b[0K\u001b[1G\u001b[1B\u001b[1G\u001b[2m[2/2]\u001b[22m ⢀ jupyter-matplotlib\u001b[0K\u001b[1G\u001b[1A\u001b[2m[1/2]\u001b[22m ⢀ core-js\u001b[0K\u001b[1G\u001b[1B\u001b[1G\u001b[2m[2/2]\u001b[22m ⠠ jupyter-matplotlib\u001b[0K\u001b[1G\u001b[1A\u001b[2m[1/2]\u001b[22m ⠠ core-js\u001b[0K\u001b[1G\u001b[1B\u001b[1G\u001b[2m[2/2]\u001b[22m ⠐ jupyter-matplotlib\u001b[0K\u001b[1G\u001b[1A\u001b[2m[1/2]\u001b[22m ⠐ core-js\u001b[0K\u001b[1G\u001b[1B\u001b[1G\u001b[2m[2/2]\u001b[22m ⠈ jupyter-matplotlib\u001b[0K\u001b[1G\u001b[1A\u001b[2m[1/2]\u001b[22m ⠈ core-js\u001b[0K\u001b[1G\u001b[1B\u001b[1G\u001b[2m[2/2]\u001b[22m ⠁ jupyter-matplotlib\u001b[0K\u001b[1G\u001b[1A\u001b[2m[1/2]\u001b[22m ⠁ core-js\u001b[0K\u001b[1G\u001b[1B\u001b[1G\u001b[2m[2/2]\u001b[22m ⠂ jupyter-matplotlib\u001b[0K\u001b[1G\u001b[1A\u001b[2m[1/2]\u001b[22m ⠂ core-js\u001b[0K\u001b[1G\u001b[1B\u001b[1G\u001b[2m[2/2]\u001b[22m ⠄ jupyter-matplotlib\u001b[0K\u001b[1G\u001b[1A\u001b[2m[1/2]\u001b[22m ⠄ core-js\u001b[0K\u001b[1G\u001b[1B\u001b[1G\u001b[2m[2/2]\u001b[22m ⡀ jupyter-matplotlib\u001b[0K\u001b[1G\u001b[1A\u001b[2m[1/2]\u001b[22m ⡀ core-js\u001b[0K\u001b[1G\u001b[1B\u001b[1G\u001b[2m[2/2]\u001b[22m ⢀ jupyter-matplotlib\u001b[0K\u001b[1G\u001b[1A\u001b[2m[1/2]\u001b[22m ⢀ core-js\u001b[0K\u001b[1G\u001b[1B\u001b[1G\u001b[2m[2/2]\u001b[22m ⠠ jupyter-matplotlib\u001b[0K\u001b[1G\u001b[1A\u001b[2m[1/2]\u001b[22m ⠠ core-js\u001b[0K\u001b[1G\u001b[1B\u001b[1G\u001b[2m[2/2]\u001b[22m ⠐ jupyter-matplotlib\u001b[0K\u001b[1G\u001b[1A\u001b[2m[1/2]\u001b[22m ⠐ core-js\u001b[0K\u001b[1G\u001b[1B\u001b[1G\u001b[2m[2/2]\u001b[22m ⠈ jupyter-matplotlib\u001b[0K\u001b[1G\u001b[1A\u001b[2m[1/2]\u001b[22m ⠈ core-js\u001b[0K\u001b[1G\u001b[1B\u001b[1G\u001b[2m[2/2]\u001b[22m ⠁ jupyter-matplotlib\u001b[0K\u001b[1G\u001b[1A\u001b[2m[1/2]\u001b[22m ⠁ core-js\u001b[0K\u001b[1G\u001b[1B\u001b[1G\u001b[2m[2/2]\u001b[22m ⠂ jupyter-matplotlib\u001b[0K\u001b[1G\u001b[1A\u001b[2m[1/2]\u001b[22m ⠂ core-js\u001b[0K\u001b[1G\u001b[1B\u001b[1G\u001b[2m[2/2]\u001b[22m ⠄ jupyter-matplotlib\u001b[0K\u001b[1G\u001b[1A\u001b[2m[1/2]\u001b[22m ⠄ core-js\u001b[0K\u001b[1G\u001b[1B\u001b[1G\u001b[2m[2/2]\u001b[22m ⡀ jupyter-matplotlib\u001b[0K\u001b[1G\u001b[1A\u001b[2m[1/2]\u001b[22m ⡀ core-js\u001b[0K\u001b[1G\u001b[1B\u001b[1G\u001b[2m[2/2]\u001b[22m ⢀ jupyter-matplotlib\u001b[0K\u001b[1G\u001b[1A\u001b[2m[1/2]\u001b[22m ⢀ core-js\u001b[0K\u001b[1G\u001b[1B\u001b[1G\u001b[2m[2/2]\u001b[22m ⠠ jupyter-matplotlib\u001b[0K\u001b[1G\u001b[1A\u001b[2m[1/2]\u001b[22m ⠠ core-js\u001b[0K\u001b[1G\u001b[1B\u001b[1G\u001b[2m[2/2]\u001b[22m ⠐ jupyter-matplotlib\u001b[0K\u001b[1G\u001b[1A\u001b[2m[1/2]\u001b[22m ⠐ core-js\u001b[0K\u001b[1G\u001b[1B\u001b[1G\u001b[2m[2/2]\u001b[22m ⠈ jupyter-matplotlib\u001b[0K\u001b[1G\u001b[1A\u001b[2m[1/2]\u001b[22m ⠈ core-js\u001b[0K\u001b[1G\u001b[1B\u001b[1G\u001b[2m[2/2]\u001b[22m ⠁ jupyter-matplotlib\u001b[0K\u001b[1G\u001b[1A\u001b[2m[1/2]\u001b[22m ⠁ core-js\u001b[0K\u001b[1G\u001b[1B\u001b[1G\u001b[2m[2/2]\u001b[22m ⠂ jupyter-matplotlib\u001b[0K\u001b[1G\u001b[1A\u001b[2m[1/2]\u001b[22m ⠂ core-js\u001b[0K\u001b[1G\u001b[1B\u001b[1G\u001b[2m[2/2]\u001b[22m ⠄ jupyter-matplotlib\u001b[0K\u001b[1G\u001b[1A\u001b[2m[1/2]\u001b[22m ⠄ core-js\u001b[0K\u001b[1G\u001b[1B\u001b[1G\u001b[2m[2/2]\u001b[22m ⡀ jupyter-matplotlib\u001b[0K\u001b[1G\u001b[1A\u001b[2m[1/2]\u001b[22m ⡀ core-js\u001b[0K\u001b[1G\u001b[1B\u001b[1G\u001b[2m[2/2]\u001b[22m ⢀ jupyter-matplotlib\u001b[0K\u001b[1G\u001b[1A\u001b[2m[1/2]\u001b[22m ⢀ core-js\u001b[0K\u001b[1G\u001b[1B\u001b[1G\u001b[2m[2/2]\u001b[22m ⠠ jupyter-matplotlib\u001b[0K\u001b[1G\u001b[1A\u001b[2m[1/2]\u001b[22m ⠠ core-js\u001b[0K\u001b[1G\u001b[1B\u001b[1G\u001b[2m[2/2]\u001b[22m ⠐ jupyter-matplotlib\u001b[0K\u001b[1G\u001b[1A\u001b[2m[1/2]\u001b[22m ⠐ core-js\u001b[0K\u001b[1G\u001b[1B\u001b[1G\u001b[2m[2/2]\u001b[22m ⠈ jupyter-matplotlib\u001b[0K\u001b[1G\u001b[1A\u001b[2m[1/2]\u001b[22m ⠈ core-js\u001b[0K\u001b[1G\u001b[1B\u001b[1G\u001b[2m[2/2]\u001b[22m ⠁ jupyter-matplotlib\u001b[0K\u001b[1G\u001b[1A\u001b[2m[1/2]\u001b[22m ⠁ core-js\u001b[0K\u001b[1G\u001b[1B\u001b[1G\u001b[2m[2/2]\u001b[22m ⠂ jupyter-matplotlib\u001b[0K\u001b[1G\u001b[1A\u001b[2m[1/2]\u001b[22m ⠂ core-js\u001b[0K\u001b[1G\u001b[1B\u001b[1G\u001b[2m[2/2]\u001b[22m ⠄ jupyter-matplotlib\u001b[0K\u001b[1G\u001b[1A\u001b[2m[1/2]\u001b[22m ⠄ core-js\u001b[0K\u001b[1G\u001b[1B\u001b[1G\u001b[2m[2/2]\u001b[22m ⡀ jupyter-matplotlib\u001b[0K\u001b[1G\u001b[1A\u001b[2m[1/2]\u001b[22m ⡀ core-js\u001b[0K\u001b[1G\u001b[1B\u001b[1G\u001b[2m[2/2]\u001b[22m ⢀ jupyter-matplotlib\u001b[0K\u001b[1G\u001b[1A\u001b[2m[1/2]\u001b[22m ⢀ core-js\u001b[0K\u001b[1G\u001b[1B\u001b[1G\u001b[2m[2/2]\u001b[22m ⠠ jupyter-matplotlib\u001b[0K\u001b[1G\u001b[1A\u001b[2m[1/2]\u001b[22m ⠠ core-js\u001b[0K\u001b[1G\u001b[1B\u001b[1G\u001b[2m[2/2]\u001b[22m ⠐ jupyter-matplotlib\u001b[0K\u001b[1G\u001b[1A\u001b[2m[1/2]\u001b[22m ⠐ core-js\u001b[0K\u001b[1G\u001b[1B\u001b[1G\u001b[2m[2/2]\u001b[22m ⠈ jupyter-matplotlib\u001b[0K\u001b[1G\u001b[1A\u001b[2m[1/2]\u001b[22m ⠈ core-js\u001b[0K\u001b[1G\u001b[1B\u001b[1G\u001b[2m[2/2]\u001b[22m ⠁ jupyter-matplotlib\u001b[0K\u001b[1G\u001b[1A\u001b[2m[1/2]\u001b[22m ⠁ core-js\u001b[0K\u001b[1G\u001b[1B\u001b[1G\u001b[2m[2/2]\u001b[22m ⠂ jupyter-matplotlib\u001b[0K\u001b[1G\u001b[1A\u001b[2m[1/2]\u001b[22m ⠂ core-js\u001b[0K\u001b[1G\u001b[1B\u001b[1G\u001b[2m[2/2]\u001b[22m ⠄ jupyter-matplotlib\u001b[0K\u001b[1G\u001b[1A\u001b[2m[1/2]\u001b[22m ⠄ core-js\u001b[0K\u001b[1G\u001b[1B\u001b[1G\u001b[2m[2/2]\u001b[22m ⡀ jupyter-matplotlib\u001b[0K\u001b[1G\u001b[1A\u001b[2m[1/2]\u001b[22m ⡀ core-js\u001b[0K\u001b[1G\u001b[1B\u001b[1G\u001b[2m[2/2]\u001b[22m ⢀ jupyter-matplotlib\u001b[0K\u001b[1G\u001b[1A\u001b[2m[1/2]\u001b[22m ⢀ core-js\u001b[0K\u001b[1G\u001b[1B\u001b[1G\u001b[2m[2/2]\u001b[22m ⠠ jupyter-matplotlib\u001b[0K\u001b[1G\u001b[1A\u001b[2m[1/2]\u001b[22m ⠠ core-js\u001b[0K\u001b[1G\u001b[1B\u001b[1G\u001b[2m[2/2]\u001b[22m ⠐ jupyter-matplotlib\u001b[0K\u001b[1G\u001b[1A\u001b[2m[1/2]\u001b[22m ⠐ core-js\u001b[0K\u001b[1G\u001b[1B\u001b[1G\u001b[2m[2/2]\u001b[22m ⠈ jupyter-matplotlib\u001b[0K\u001b[1G\u001b[1A\u001b[2m[1/2]\u001b[22m ⠈ core-js\u001b[0K\u001b[1G\u001b[1B\u001b[1G\u001b[2m[2/2]\u001b[22m ⠁ jupyter-matplotlib\u001b[0K\u001b[1G\u001b[1A\u001b[2m[1/2]\u001b[22m ⠁ core-js\u001b[0K\u001b[1G\u001b[1B\u001b[1G\u001b[2m[2/2]\u001b[22m ⠂ jupyter-matplotlib\u001b[0K\u001b[1G\u001b[1A\u001b[2m[1/2]\u001b[22m ⠂ core-js\u001b[0K\u001b[1G\u001b[1B\u001b[1G\u001b[2m[2/2]\u001b[22m ⠄ jupyter-matplotlib\u001b[0K\u001b[1G\u001b[1A\u001b[2m[1/2]\u001b[22m ⠄ core-js\u001b[0K\u001b[1G\u001b[1B\u001b[1G\u001b[2m[2/2]\u001b[22m ⡀ jupyter-matplotlib\u001b[0K\u001b[1G\u001b[1A\u001b[2m[1/2]\u001b[22m ⡀ core-js\u001b[0K\u001b[1G\u001b[1B\u001b[1G\u001b[2m[2/2]\u001b[22m ⢀ jupyter-matplotlib\u001b[0K\u001b[1G\u001b[1A\u001b[2m[1/2]\u001b[22m ⢀ core-js\u001b[0K\u001b[1G\u001b[1B\u001b[1G\u001b[2m[2/2]\u001b[22m ⠠ jupyter-matplotlib\u001b[0K\u001b[1G\u001b[1A\u001b[2m[1/2]\u001b[22m ⠠ core-js\u001b[0K\u001b[1G\u001b[1B\u001b[1G\u001b[2m[2/2]\u001b[22m ⠐ jupyter-matplotlib\u001b[0K\u001b[1G\u001b[1A\u001b[2m[1/2]\u001b[22m ⠐ core-js\u001b[0K\u001b[1G\u001b[1B"
     ]
    },
    {
     "name": "stdout",
     "output_type": "stream",
     "text": [
      "\u001b[1G\u001b[2m[2/2]\u001b[22m ⠈ jupyter-matplotlib\u001b[0K\u001b[1G\u001b[1A\u001b[2m[1/2]\u001b[22m ⠈ core-js\u001b[0K\u001b[1G\u001b[1B\u001b[1G\u001b[2m[2/2]\u001b[22m ⠁ jupyter-matplotlib\u001b[0K\u001b[1G\u001b[1A\u001b[2m[1/2]\u001b[22m ⠁ core-js\u001b[0K\u001b[1G\u001b[1B\u001b[1G\u001b[2m[2/2]\u001b[22m ⠂ jupyter-matplotlib\u001b[0K\u001b[1G\u001b[1A\u001b[2m[1/2]\u001b[22m ⠂ core-js\u001b[0K\u001b[1G\u001b[1B\u001b[1G\u001b[2m[2/2]\u001b[22m ⠄ jupyter-matplotlib\u001b[0K\u001b[1G\u001b[1A\u001b[2m[1/2]\u001b[22m ⠄ core-js\u001b[0K\u001b[1G\u001b[1B\u001b[1G\u001b[2m[2/2]\u001b[22m ⡀ jupyter-matplotlib\u001b[0K\u001b[1G\u001b[1A\u001b[2m[1/2]\u001b[22m ⡀ core-js\u001b[0K\u001b[1G\u001b[1B\u001b[1G\u001b[2m[2/2]\u001b[22m ⢀ jupyter-matplotlib\u001b[0K\u001b[1G\u001b[1A\u001b[2m[1/2]\u001b[22m ⢀ core-js\u001b[0K\u001b[1G\u001b[1B\u001b[1G\u001b[2m[2/2]\u001b[22m ⠠ jupyter-matplotlib\u001b[0K\u001b[1G\u001b[1A\u001b[2m[1/2]\u001b[22m ⠠ core-js\u001b[0K\u001b[1G\u001b[1B\u001b[1G\u001b[2m[2/2]\u001b[22m ⠐ jupyter-matplotlib\u001b[0K\u001b[1G\u001b[1A\u001b[2m[1/2]\u001b[22m ⠐ core-js\u001b[0K\u001b[1G\u001b[1B\u001b[1G\u001b[2m[2/2]\u001b[22m ⠈ jupyter-matplotlib\u001b[0K\u001b[1G\u001b[1A\u001b[2m[1/2]\u001b[22m ⠈ core-js\u001b[0K\u001b[1G\u001b[1B\u001b[1G\u001b[2m[2/2]\u001b[22m ⠁ jupyter-matplotlib\u001b[0K\u001b[1G\u001b[1A\u001b[2m[1/2]\u001b[22m ⠁ core-js\u001b[0K\u001b[1G\u001b[1B\u001b[1G\u001b[2m[2/2]\u001b[22m ⠂ jupyter-matplotlib\u001b[0K\u001b[1G\u001b[1A\u001b[2m[1/2]\u001b[22m ⠂ core-js\u001b[0K\u001b[1G\u001b[1B\u001b[1G\u001b[2m[2/2]\u001b[22m ⠄ jupyter-matplotlib\u001b[0K\u001b[1G\u001b[1A\u001b[2m[1/2]\u001b[22m ⠄ core-js\u001b[0K\u001b[1G\u001b[1B\u001b[1G\u001b[2m[2/2]\u001b[22m ⡀ jupyter-matplotlib\u001b[0K\u001b[1G\u001b[1A\u001b[2m[1/2]\u001b[22m ⡀ core-js\u001b[0K\u001b[1G\u001b[1B\u001b[1G\u001b[2m[2/2]\u001b[22m ⢀ jupyter-matplotlib\u001b[0K\u001b[1G\u001b[1A\u001b[2m[1/2]\u001b[22m ⢀ core-js\u001b[0K\u001b[1G\u001b[1B\u001b[1G\u001b[2m[2/2]\u001b[22m ⠠ jupyter-matplotlib\u001b[0K\u001b[1G\u001b[1A\u001b[2m[1/2]\u001b[22m ⠠ core-js\u001b[0K\u001b[1G\u001b[1B\u001b[1G\u001b[2m[2/2]\u001b[22m ⠐ jupyter-matplotlib\u001b[0K\u001b[1G\u001b[1A\u001b[2m[1/2]\u001b[22m ⠐ core-js\u001b[0K\u001b[1G\u001b[1B\u001b[1G\u001b[2m[2/2]\u001b[22m ⠈ jupyter-matplotlib\u001b[0K\u001b[1G\u001b[1A\u001b[2m[1/2]\u001b[22m ⠈ core-js\u001b[0K\u001b[1G\u001b[1B\u001b[1G\u001b[2m[2/2]\u001b[22m ⠁ jupyter-matplotlib\u001b[0K\u001b[1G\u001b[1A\u001b[2m[1/2]\u001b[22m ⠁ core-js\u001b[0K\u001b[1G\u001b[1B\u001b[1G\u001b[2m[2/2]\u001b[22m ⠂ jupyter-matplotlib\u001b[0K\u001b[1G\u001b[1A\u001b[2m[1/2]\u001b[22m ⠂ core-js\u001b[0K\u001b[1G\u001b[1B\u001b[1G\u001b[2m[2/2]\u001b[22m ⠄ jupyter-matplotlib\u001b[0K\u001b[1G\u001b[1A\u001b[2m[1/2]\u001b[22m ⠄ core-js\u001b[0K\u001b[1G\u001b[1B\u001b[1G\u001b[2m[2/2]\u001b[22m ⡀ jupyter-matplotlib\u001b[0K\u001b[1G\u001b[1A\u001b[2m[1/2]\u001b[22m ⡀ core-js\u001b[0K\u001b[1G\u001b[1B\u001b[1G\u001b[2m[2/2]\u001b[22m ⢀ jupyter-matplotlib\u001b[0K\u001b[1G\u001b[1A\u001b[2m[1/2]\u001b[22m ⢀ core-js\u001b[0K\u001b[1G\u001b[1B\u001b[1G\u001b[2m[2/2]\u001b[22m ⠠ jupyter-matplotlib\u001b[0K\u001b[1G\u001b[1A\u001b[2m[1/2]\u001b[22m ⠠ core-js\u001b[0K\u001b[1G\u001b[1B\u001b[1G\u001b[2m[2/2]\u001b[22m ⠐ jupyter-matplotlib\u001b[0K\u001b[1G\u001b[1A\u001b[2m[1/2]\u001b[22m ⠐ core-js\u001b[0K\u001b[1G\u001b[1B\u001b[1G\u001b[2m[2/2]\u001b[22m ⠈ jupyter-matplotlib\u001b[0K\u001b[1G\u001b[1A\u001b[2m[1/2]\u001b[22m ⠈ core-js\u001b[0K\u001b[1G\u001b[1B\u001b[1G\u001b[2m[2/2]\u001b[22m ⠁ jupyter-matplotlib\u001b[0K\u001b[1G\u001b[1A\u001b[2m[1/2]\u001b[22m ⠁ core-js\u001b[0K\u001b[1G\u001b[1B\u001b[1G\u001b[2m[2/2]\u001b[22m ⠂ jupyter-matplotlib\u001b[0K\u001b[1G\u001b[1A\u001b[2m[1/2]\u001b[22m ⠂ core-js\u001b[0K\u001b[1G\u001b[1B\u001b[1G\u001b[2m[2/2]\u001b[22m ⠄ jupyter-matplotlib\u001b[0K\u001b[1G\u001b[1A\u001b[2m[1/2]\u001b[22m ⠄ core-js\u001b[0K\u001b[1G\u001b[1B\u001b[1G\u001b[2m[2/2]\u001b[22m ⡀ jupyter-matplotlib\u001b[0K\u001b[1G\u001b[1A\u001b[2m[1/2]\u001b[22m ⡀ core-js\u001b[0K\u001b[1G\u001b[1B\u001b[1G\u001b[2m[2/2]\u001b[22m ⢀ jupyter-matplotlib\u001b[0K\u001b[1G\u001b[1A\u001b[2m[1/2]\u001b[22m ⢀ core-js\u001b[0K\u001b[1G\u001b[1B\u001b[1G\u001b[2m[2/2]\u001b[22m ⠠ jupyter-matplotlib\u001b[0K\u001b[1G\u001b[1A\u001b[2m[1/2]\u001b[22m ⠠ core-js\u001b[0K\u001b[1G\u001b[1B\u001b[1G\u001b[2m[2/2]\u001b[22m ⠐ jupyter-matplotlib\u001b[0K\u001b[1G\u001b[1A\u001b[2m[1/2]\u001b[22m ⠐ core-js\u001b[0K\u001b[1G\u001b[1B\u001b[1G\u001b[2m[2/2]\u001b[22m ⠈ jupyter-matplotlib\u001b[0K\u001b[1G\u001b[1A\u001b[2m[1/2]\u001b[22m ⠈ core-js\u001b[0K\u001b[1G\u001b[1B\u001b[1G\u001b[2m[2/2]\u001b[22m ⠁ jupyter-matplotlib\u001b[0K\u001b[1G\u001b[1A\u001b[2m[1/2]\u001b[22m ⠁ core-js\u001b[0K\u001b[1G\u001b[1B\u001b[1G\u001b[2m[2/2]\u001b[22m ⠂ jupyter-matplotlib\u001b[0K\u001b[1G\u001b[1A\u001b[2m[1/2]\u001b[22m ⠂ core-js\u001b[0K\u001b[1G\u001b[1B\u001b[1G\u001b[2m[2/2]\u001b[22m ⠄ jupyter-matplotlib\u001b[0K\u001b[1G\u001b[1A\u001b[2m[1/2]\u001b[22m ⠄ core-js\u001b[0K\u001b[1G\u001b[1B\u001b[1G\u001b[2m[2/2]\u001b[22m ⡀ jupyter-matplotlib\u001b[0K\u001b[1G\u001b[1A\u001b[2m[1/2]\u001b[22m ⡀ core-js\u001b[0K\u001b[1G\u001b[1B\u001b[1G\u001b[2m[2/2]\u001b[22m ⢀ jupyter-matplotlib\u001b[0K\u001b[1G\u001b[1A\u001b[2m[1/2]\u001b[22m ⢀ core-js\u001b[0K\u001b[1G\u001b[1B\u001b[1G\u001b[2m[2/2]\u001b[22m ⠠ jupyter-matplotlib\u001b[0K\u001b[1G\u001b[1A\u001b[2m[1/2]\u001b[22m ⠠ core-js\u001b[0K\u001b[1G\u001b[1B\u001b[1G\u001b[2m[2/2]\u001b[22m ⠐ jupyter-matplotlib\u001b[0K\u001b[1G\u001b[1A\u001b[2m[1/2]\u001b[22m ⠐ core-js\u001b[0K\u001b[1G\u001b[1B\u001b[1G\u001b[2m[2/2]\u001b[22m ⠈ jupyter-matplotlib\u001b[0K\u001b[1G\u001b[1A\u001b[2m[1/2]\u001b[22m ⠈ core-js\u001b[0K\u001b[1G\u001b[1B\u001b[1G\u001b[2m[2/2]\u001b[22m ⠁ jupyter-matplotlib\u001b[0K\u001b[1G\u001b[1A\u001b[2m[1/2]\u001b[22m ⠁ core-js\u001b[0K\u001b[1G\u001b[1B\u001b[1G\u001b[2m[2/2]\u001b[22m ⠂ jupyter-matplotlib\u001b[0K\u001b[1G\u001b[1A\u001b[2m[1/2]\u001b[22m ⠂ core-js\u001b[0K\u001b[1G\u001b[1B\u001b[1G\u001b[2m[2/2]\u001b[22m ⠄ jupyter-matplotlib\u001b[0K\u001b[1G\u001b[1A\u001b[2m[1/2]\u001b[22m ⠄ core-js\u001b[0K\u001b[1G\u001b[1B\u001b[1G\u001b[2m[2/2]\u001b[22m ⡀ jupyter-matplotlib\u001b[0K\u001b[1G\u001b[1A\u001b[2m[1/2]\u001b[22m ⡀ core-js\u001b[0K\u001b[1G\u001b[1B\u001b[1G\u001b[2m[2/2]\u001b[22m ⢀ jupyter-matplotlib\u001b[0K\u001b[1G\u001b[1A\u001b[2m[1/2]\u001b[22m ⢀ core-js\u001b[0K\u001b[1G\u001b[1B\u001b[1G\u001b[2m[2/2]\u001b[22m ⠠ jupyter-matplotlib\u001b[0K\u001b[1G\u001b[1A\u001b[2m[1/2]\u001b[22m ⠠ core-js\u001b[0K\u001b[1G\u001b[1B\u001b[1G\u001b[2m[2/2]\u001b[22m ⠐ jupyter-matplotlib\u001b[0K\u001b[1G\u001b[1A\u001b[2m[1/2]\u001b[22m ⠐ core-js\u001b[0K\u001b[1G\u001b[1B\u001b[1G\u001b[2m[2/2]\u001b[22m ⠈ jupyter-matplotlib\u001b[0K\u001b[1G\u001b[1A\u001b[2m[1/2]\u001b[22m ⠈ core-js\u001b[0K\u001b[1G\u001b[1B\u001b[1G\u001b[2m[2/2]\u001b[22m ⠁ jupyter-matplotlib\u001b[0K\u001b[1G\u001b[1A\u001b[2m[1/2]\u001b[22m ⠁ core-js\u001b[0K\u001b[1G\u001b[1B\u001b[1G\u001b[2m[2/2]\u001b[22m ⠂ jupyter-matplotlib\u001b[0K\u001b[1G\u001b[1A\u001b[2m[1/2]\u001b[22m ⠂ core-js\u001b[0K\u001b[1G\u001b[1B\u001b[1G\u001b[2m[2/2]\u001b[22m ⠄ jupyter-matplotlib\u001b[0K\u001b[1G\u001b[1A\u001b[2m[1/2]\u001b[22m ⠄ core-js\u001b[0K\u001b[1G\u001b[1B\u001b[1G\u001b[2m[2/2]\u001b[22m ⡀ jupyter-matplotlib\u001b[0K\u001b[1G\u001b[1A\u001b[2m[1/2]\u001b[22m ⡀ core-js\u001b[0K\u001b[1G\u001b[1B\u001b[1G\u001b[2m[2/2]\u001b[22m ⢀ jupyter-matplotlib\u001b[0K\u001b[1G\u001b[1A\u001b[2m[1/2]\u001b[22m ⢀ core-js\u001b[0K\u001b[1G\u001b[1B\u001b[1G\u001b[2m[2/2]\u001b[22m ⠠ jupyter-matplotlib\u001b[0K\u001b[1G\u001b[1A\u001b[2m[1/2]\u001b[22m ⠠ core-js\u001b[0K\u001b[1G\u001b[1B\u001b[1G\u001b[2m[2/2]\u001b[22m ⠐ jupyter-matplotlib\u001b[0K\u001b[1G\u001b[1A\u001b[2m[1/2]\u001b[22m ⠐ core-js\u001b[0K\u001b[1G\u001b[1B\u001b[1G\u001b[2m[2/2]\u001b[22m ⠈ jupyter-matplotlib\u001b[0K\u001b[1G\u001b[1A\u001b[2m[1/2]\u001b[22m ⠈ core-js\u001b[0K\u001b[1G\u001b[1B\u001b[1G\u001b[2m[2/2]\u001b[22m ⠁ jupyter-matplotlib\u001b[0K\u001b[1G\u001b[1A\u001b[2m[1/2]\u001b[22m ⠁ core-js\u001b[0K\u001b[1G\u001b[1B\u001b[1G\u001b[2m[2/2]\u001b[22m ⠂ jupyter-matplotlib\u001b[0K\u001b[1G\u001b[1A\u001b[2m[1/2]\u001b[22m ⠂ core-js\u001b[0K\u001b[1G\u001b[1B\u001b[1G\u001b[2m[2/2]\u001b[22m ⠄ jupyter-matplotlib\u001b[0K\u001b[1G\u001b[1A\u001b[2m[1/2]\u001b[22m ⠄ core-js\u001b[0K\u001b[1G\u001b[1B\u001b[1G\u001b[2m[2/2]\u001b[22m ⡀ jupyter-matplotlib\u001b[0K\u001b[1G\u001b[1A\u001b[2m[1/2]\u001b[22m ⡀ core-js\u001b[0K\u001b[1G\u001b[1B\u001b[1G\u001b[2m[2/2]\u001b[22m ⢀ jupyter-matplotlib\u001b[0K\u001b[1G\u001b[1A\u001b[2m[1/2]\u001b[22m ⢀ core-js\u001b[0K\u001b[1G\u001b[1B\u001b[1G\u001b[2m[2/2]\u001b[22m ⠠ jupyter-matplotlib\u001b[0K\u001b[1G\u001b[1A\u001b[2m[1/2]\u001b[22m ⠠ core-js\u001b[0K\u001b[1G\u001b[1B\u001b[1G\u001b[2m[2/2]\u001b[22m ⠐ jupyter-matplotlib\u001b[0K\u001b[1G\u001b[1A\u001b[2m[1/2]\u001b[22m ⠐ core-js\u001b[0K\u001b[1G\u001b[1B\u001b[1G\u001b[2m[2/2]\u001b[22m ⠈ jupyter-matplotlib\u001b[0K\u001b[1G\u001b[1A\u001b[2m[1/2]\u001b[22m ⠈ core-js\u001b[0K\u001b[1G\u001b[1B\u001b[1G\u001b[2m[2/2]\u001b[22m ⠁ jupyter-matplotlib\u001b[0K\u001b[1G\u001b[1A\u001b[2m[1/2]\u001b[22m ⠁ core-js\u001b[0K\u001b[1G\u001b[1B\u001b[1G\u001b[2m[2/2]\u001b[22m ⠂ jupyter-matplotlib\u001b[0K\u001b[1G\u001b[1A\u001b[2m[1/2]\u001b[22m ⠂ core-js\u001b[0K\u001b[1G\u001b[1B\u001b[1G\u001b[2m[2/2]\u001b[22m ⠄ jupyter-matplotlib\u001b[0K\u001b[1G\u001b[1A\u001b[2m[1/2]\u001b[22m ⠄ core-js\u001b[0K\u001b[1G\u001b[1B\u001b[1G\u001b[2m[2/2]\u001b[22m ⡀ jupyter-matplotlib\u001b[0K\u001b[1G\u001b[1A\u001b[2m[1/2]\u001b[22m ⡀ core-js\u001b[0K\u001b[1G\u001b[1B\u001b[1G\u001b[2m[2/2]\u001b[22m ⢀ jupyter-matplotlib\u001b[0K\u001b[1G\u001b[1A\u001b[2m[1/2]\u001b[22m ⢀ core-js\u001b[0K\u001b[1G\u001b[1B\u001b[1G\u001b[2m[2/2]\u001b[22m ⠠ jupyter-matplotlib\u001b[0K\u001b[1G\u001b[1A\u001b[2m[1/2]\u001b[22m ⠠ core-js\u001b[0K\u001b[1G\u001b[1B\u001b[1G\u001b[2m[2/2]\u001b[22m ⠐ jupyter-matplotlib\u001b[0K\u001b[1G\u001b[1A\u001b[2m[1/2]\u001b[22m ⠐ core-js\u001b[0K\u001b[1G\u001b[1B\u001b[1G\u001b[2m[2/2]\u001b[22m ⠈ jupyter-matplotlib\u001b[0K\u001b[1G\u001b[1A\u001b[2m[1/2]\u001b[22m ⠈ core-js\u001b[0K\u001b[1G\u001b[1B\u001b[1G\u001b[2m[2/2]\u001b[22m ⠁ jupyter-matplotlib\u001b[0K\u001b[1G\u001b[1A\u001b[2m[1/2]\u001b[22m ⠁ core-js\u001b[0K\u001b[1G\u001b[1B\u001b[1G\u001b[2m[2/2]\u001b[22m ⠂ jupyter-matplotlib\u001b[0K\u001b[1G\u001b[1A\u001b[2m[1/2]\u001b[22m ⠂ core-js\u001b[0K\u001b[1G\u001b[1B\u001b[1G\u001b[2m[2/2]\u001b[22m ⠄ jupyter-matplotlib\u001b[0K\u001b[1G\u001b[1A\u001b[2m[1/2]\u001b[22m ⠄ core-js\u001b[0K\u001b[1G\u001b[1B\u001b[1G\u001b[2m[2/2]\u001b[22m ⡀ jupyter-matplotlib\u001b[0K\u001b[1G\u001b[1A\u001b[2m[1/2]\u001b[22m ⡀ core-js\u001b[0K\u001b[1G\u001b[1B\u001b[1G\u001b[2m[2/2]\u001b[22m ⢀ jupyter-matplotlib\u001b[0K\u001b[1G\u001b[1A\u001b[2m[1/2]\u001b[22m ⢀ core-js\u001b[0K\u001b[1G\u001b[1B\u001b[1G\u001b[2m[2/2]\u001b[22m ⠠ jupyter-matplotlib\u001b[0K\u001b[1G\u001b[1A\u001b[2m[1/2]\u001b[22m ⠠ core-js\u001b[0K\u001b[1G\u001b[1B\u001b[1G\u001b[2m[2/2]\u001b[22m ⠐ jupyter-matplotlib\u001b[0K\u001b[1G\u001b[1A\u001b[2m[1/2]\u001b[22m ⠐ core-js\u001b[0K\u001b[1G\u001b[1B\u001b[1G\u001b[2m[2/2]\u001b[22m ⠈ jupyter-matplotlib\u001b[0K\u001b[1G\u001b[1A\u001b[2m[1/2]\u001b[22m ⠈ core-js\u001b[0K\u001b[1G\u001b[1B\u001b[1G\u001b[2m[2/2]\u001b[22m ⠁ jupyter-matplotlib\u001b[0K\u001b[1G\u001b[1A\u001b[2m[1/2]\u001b[22m ⠁ core-js\u001b[0K\u001b[1G\u001b[1B\u001b[1G\u001b[2m[2/2]\u001b[22m ⠂ jupyter-matplotlib\u001b[0K\u001b[1G\u001b[1A\u001b[2m[1/2]\u001b[22m ⠂ core-js\u001b[0K\u001b[1G\u001b[1B\u001b[1G\u001b[2m[2/2]\u001b[22m ⠄ jupyter-matplotlib\u001b[0K\u001b[1G\u001b[1A\u001b[2m[1/2]\u001b[22m ⠄ core-js\u001b[0K\u001b[1G\u001b[1B\u001b[1G\u001b[2m[2/2]\u001b[22m ⡀ jupyter-matplotlib\u001b[0K\u001b[1G\u001b[1A\u001b[2m[1/2]\u001b[22m ⡀ core-js\u001b[0K\u001b[1G\u001b[1B\u001b[1G\u001b[2m[2/2]\u001b[22m ⢀ jupyter-matplotlib\u001b[0K\u001b[1G\u001b[1A\u001b[2m[1/2]\u001b[22m ⢀ core-js\u001b[0K\u001b[1G\u001b[1B\u001b[1G\u001b[2m[2/2]\u001b[22m ⠠ jupyter-matplotlib\u001b[0K\u001b[1G\u001b[1A\u001b[2m[1/2]\u001b[22m ⠠ core-js\u001b[0K\u001b[1G\u001b[1B\u001b[1G\u001b[2m[2/2]\u001b[22m ⠐ jupyter-matplotlib\u001b[0K\u001b[1G\u001b[1A\u001b[2m[1/2]\u001b[22m ⠐ core-js\u001b[0K\u001b[1G\u001b[1B\u001b[1G\u001b[2m[2/2]\u001b[22m ⠈ jupyter-matplotlib\u001b[0K\u001b[1G\u001b[1A\u001b[2m[1/2]\u001b[22m ⠈ core-js\u001b[0K\u001b[1G\u001b[1B\u001b[1G\u001b[2m[2/2]\u001b[22m ⠁ jupyter-matplotlib\u001b[0K\u001b[1G\u001b[1A\u001b[2m[1/2]\u001b[22m ⠁ core-js\u001b[0K\u001b[1G\u001b[1B\u001b[1G\u001b[2m[2/2]\u001b[22m ⠂ jupyter-matplotlib\u001b[0K\u001b[1G\u001b[1A\u001b[2m[1/2]\u001b[22m ⠂ core-js\u001b[0K\u001b[1G\u001b[1B\u001b[1G\u001b[2m[2/2]\u001b[22m ⠄ jupyter-matplotlib\u001b[0K\u001b[1G\u001b[1A\u001b[2m[1/2]\u001b[22m ⠄ core-js\u001b[0K\u001b[1G\u001b[1B\u001b[1G\u001b[2m[2/2]\u001b[22m ⡀ jupyter-matplotlib\u001b[0K\u001b[1G\u001b[1A\u001b[2m[1/2]\u001b[22m ⡀ core-js\u001b[0K\u001b[1G\u001b[1B\u001b[1G\u001b[2m[2/2]\u001b[22m ⢀ jupyter-matplotlib\u001b[0K\u001b[1G\u001b[1A\u001b[2m[1/2]\u001b[22m ⢀ core-js\u001b[0K\u001b[1G\u001b[1B\u001b[1G\u001b[2m[2/2]\u001b[22m ⠠ jupyter-matplotlib\u001b[0K\u001b[1G\u001b[1A\u001b[2m[1/2]\u001b[22m ⠠ core-js\u001b[0K\u001b[1G\u001b[1B"
     ]
    },
    {
     "name": "stdout",
     "output_type": "stream",
     "text": [
      "\u001b[1G\u001b[2m[2/2]\u001b[22m ⠐ jupyter-matplotlib\u001b[0K\u001b[1G\u001b[1A\u001b[2m[1/2]\u001b[22m ⠐ core-js\u001b[0K\u001b[1G\u001b[1B\u001b[1G\u001b[2m[2/2]\u001b[22m ⠈ jupyter-matplotlib\u001b[0K\u001b[1G\u001b[1A\u001b[2m[1/2]\u001b[22m ⠈ core-js\u001b[0K\u001b[1G\u001b[1B\u001b[1G\u001b[2m[2/2]\u001b[22m ⠁ jupyter-matplotlib\u001b[0K\u001b[1G\u001b[1A\u001b[2m[1/2]\u001b[22m ⠁ core-js\u001b[0K\u001b[1G\u001b[1B\u001b[1G\u001b[2m[2/2]\u001b[22m ⠂ jupyter-matplotlib\u001b[0K\u001b[1G\u001b[1A\u001b[2m[1/2]\u001b[22m ⠂ core-js\u001b[0K\u001b[1G\u001b[1B\u001b[1G\u001b[2m[2/2]\u001b[22m ⠄ jupyter-matplotlib\u001b[0K\u001b[1G\u001b[1A\u001b[2m[1/2]\u001b[22m ⠄ core-js\u001b[0K\u001b[1G\u001b[1B\u001b[1G\u001b[2m[2/2]\u001b[22m ⡀ jupyter-matplotlib\u001b[0K\u001b[1G\u001b[1A\u001b[2m[1/2]\u001b[22m ⡀ core-js\u001b[0K\u001b[1G\u001b[1B\u001b[1G\u001b[2m[2/2]\u001b[22m ⢀ jupyter-matplotlib\u001b[0K\u001b[1G\u001b[1A\u001b[2m[1/2]\u001b[22m ⢀ core-js\u001b[0K\u001b[1G\u001b[1B\u001b[1G\u001b[2m[2/2]\u001b[22m ⠠ jupyter-matplotlib\u001b[0K\u001b[1G\u001b[1A\u001b[2m[1/2]\u001b[22m ⠠ core-js\u001b[0K\u001b[1G\u001b[1B\u001b[1G\u001b[2m[2/2]\u001b[22m ⠐ jupyter-matplotlib\u001b[0K\u001b[1G\u001b[1A\u001b[2m[1/2]\u001b[22m ⠐ core-js\u001b[0K\u001b[1G\u001b[1B\u001b[1G\u001b[2m[2/2]\u001b[22m ⠈ jupyter-matplotlib\u001b[0K\u001b[1G\u001b[1A\u001b[2m[1/2]\u001b[22m ⠈ core-js\u001b[0K\u001b[1G\u001b[1B\u001b[1G\u001b[2m[2/2]\u001b[22m ⠁ jupyter-matplotlib\u001b[0K\u001b[1G\u001b[1A\u001b[2m[1/2]\u001b[22m ⠁ core-js\u001b[0K\u001b[1G\u001b[1B\u001b[1G\u001b[1A\u001b[2K\u001b[1B\u001b[2K\u001b[1G\u001b[1A\u001b[2K\u001b[1G\u001b[32msuccess\u001b[39m Saved lockfile.\n",
      "\u001b[2K\u001b[1G\u001b[2K\u001b[1GDone in 48.94s.\n",
      "> node /srv/app/venv/lib/python3.6/site-packages/jupyterlab/staging/yarn.js run build\n",
      "\u001b[2K\u001b[1G\u001b[1myarn run v1.9.4\u001b[22m\n",
      "\u001b[2K\u001b[1G\u001b[2m$ webpack\u001b[22m\n",
      "Killed\n",
      "\u001b[2K\u001b[1G\u001b[31merror\u001b[39m Command failed with exit code 137.\n",
      "\u001b[2K\u001b[1G\u001b[34minfo\u001b[39m Visit \u001b[1mhttps://yarnpkg.com/en/docs/cli/run\u001b[22m for documentation about this command.\n"
     ]
    }
   ],
   "source": [
    "!pip install ipywidgets\n",
    "!jupyter nbextension enable --py widgetsnbextension\n",
    "!jupyter labextension install @jupyter-widgets/jupyterlab-manager\n",
    "import ipywidgets as widgets\n",
    "from ipywidgets import interact, interact_manual"
   ]
  },
  {
   "cell_type": "code",
   "execution_count": 6,
   "metadata": {},
   "outputs": [],
   "source": [
    "user = \"mprakasam\"\n",
    "apikey = {'mprakasam':\"x6M5kQkjnIRGplxtj6JtiZIvMaWHjQWwIpKye4kH\"}"
   ]
  },
  {
   "cell_type": "markdown",
   "metadata": {},
   "source": [
    "### FDC Search\n",
    "This was used to create our price datasheet.\n",
    "\n"
   ]
  },
  {
   "cell_type": "code",
   "execution_count": 7,
   "metadata": {},
   "outputs": [
    {
     "data": {
      "text/html": [
       "<div>\n",
       "<style scoped>\n",
       "    .dataframe tbody tr th:only-of-type {\n",
       "        vertical-align: middle;\n",
       "    }\n",
       "\n",
       "    .dataframe tbody tr th {\n",
       "        vertical-align: top;\n",
       "    }\n",
       "\n",
       "    .dataframe thead th {\n",
       "        text-align: right;\n",
       "    }\n",
       "</style>\n",
       "<table border=\"1\" class=\"dataframe\">\n",
       "  <thead>\n",
       "    <tr style=\"text-align: right;\">\n",
       "      <th></th>\n",
       "      <th>additionalDescriptions</th>\n",
       "      <th>allHighlightFields</th>\n",
       "      <th>brandOwner</th>\n",
       "      <th>dataType</th>\n",
       "      <th>description</th>\n",
       "      <th>fdcId</th>\n",
       "      <th>foodCode</th>\n",
       "      <th>gtinUpc</th>\n",
       "      <th>ingredients</th>\n",
       "      <th>ndbNumber</th>\n",
       "      <th>publishedDate</th>\n",
       "      <th>scientificName</th>\n",
       "      <th>score</th>\n",
       "    </tr>\n",
       "  </thead>\n",
       "  <tbody>\n",
       "    <tr>\n",
       "      <th>0</th>\n",
       "      <td>NaN</td>\n",
       "      <td>&lt;b&gt;Ingredients&lt;/b&gt;: &lt;em&gt;WILD&lt;/em&gt; ALASKAN RED ...</td>\n",
       "      <td>Whole Foods Market, Inc.</td>\n",
       "      <td>Branded</td>\n",
       "      <td>WILD SALMON</td>\n",
       "      <td>388511</td>\n",
       "      <td>NaN</td>\n",
       "      <td>099482415990</td>\n",
       "      <td>WILD ALASKAN RED SOCKEYE SALMON, SALT.</td>\n",
       "      <td>NaN</td>\n",
       "      <td>2019-04-01</td>\n",
       "      <td>NaN</td>\n",
       "      <td>1108.69740</td>\n",
       "    </tr>\n",
       "    <tr>\n",
       "      <th>1</th>\n",
       "      <td>NaN</td>\n",
       "      <td>&lt;b&gt;Ingredients&lt;/b&gt;: PINK &lt;em&gt;SALMON&lt;/em&gt;, WATE...</td>\n",
       "      <td>Morey's Seafood International</td>\n",
       "      <td>Branded</td>\n",
       "      <td>WILD SALMON</td>\n",
       "      <td>458672</td>\n",
       "      <td>NaN</td>\n",
       "      <td>015292207075</td>\n",
       "      <td>PINK SALMON, WATER, OLIVE OIL BLEND (CANOLA OI...</td>\n",
       "      <td>NaN</td>\n",
       "      <td>2019-04-01</td>\n",
       "      <td>NaN</td>\n",
       "      <td>1105.65040</td>\n",
       "    </tr>\n",
       "    <tr>\n",
       "      <th>2</th>\n",
       "      <td>NaN</td>\n",
       "      <td>&lt;b&gt;Ingredients&lt;/b&gt;: PINK &lt;em&gt;SALMON&lt;/em&gt;, OLIV...</td>\n",
       "      <td>Morey's Seafood International</td>\n",
       "      <td>Branded</td>\n",
       "      <td>WILD SALMON</td>\n",
       "      <td>458649</td>\n",
       "      <td>NaN</td>\n",
       "      <td>015292204548</td>\n",
       "      <td>PINK SALMON, OLIVE OIL BLEND (CANOLA OIL AND O...</td>\n",
       "      <td>NaN</td>\n",
       "      <td>2019-04-01</td>\n",
       "      <td>NaN</td>\n",
       "      <td>1105.65040</td>\n",
       "    </tr>\n",
       "    <tr>\n",
       "      <th>3</th>\n",
       "      <td>NaN</td>\n",
       "      <td></td>\n",
       "      <td>NaN</td>\n",
       "      <td>SR Legacy</td>\n",
       "      <td>Fish, salmon, Atlantic, wild, raw</td>\n",
       "      <td>173686</td>\n",
       "      <td>NaN</td>\n",
       "      <td>NaN</td>\n",
       "      <td>NaN</td>\n",
       "      <td>15076</td>\n",
       "      <td>2019-04-01</td>\n",
       "      <td>Salmo salar L.</td>\n",
       "      <td>536.10596</td>\n",
       "    </tr>\n",
       "    <tr>\n",
       "      <th>4</th>\n",
       "      <td>NaN</td>\n",
       "      <td></td>\n",
       "      <td>NaN</td>\n",
       "      <td>SR Legacy</td>\n",
       "      <td>Fish, salmon, coho, wild, raw</td>\n",
       "      <td>175136</td>\n",
       "      <td>NaN</td>\n",
       "      <td>NaN</td>\n",
       "      <td>NaN</td>\n",
       "      <td>15081</td>\n",
       "      <td>2019-04-01</td>\n",
       "      <td>Oncorhynchus kisutch (Walbaum)</td>\n",
       "      <td>536.10596</td>\n",
       "    </tr>\n",
       "    <tr>\n",
       "      <th>5</th>\n",
       "      <td>NaN</td>\n",
       "      <td></td>\n",
       "      <td>NaN</td>\n",
       "      <td>SR Legacy</td>\n",
       "      <td>Fish, salmon, Atlantic, wild, cooked, dry heat</td>\n",
       "      <td>171998</td>\n",
       "      <td>NaN</td>\n",
       "      <td>NaN</td>\n",
       "      <td>NaN</td>\n",
       "      <td>15209</td>\n",
       "      <td>2019-04-01</td>\n",
       "      <td>NaN</td>\n",
       "      <td>458.15912</td>\n",
       "    </tr>\n",
       "    <tr>\n",
       "      <th>6</th>\n",
       "      <td>NaN</td>\n",
       "      <td></td>\n",
       "      <td>NaN</td>\n",
       "      <td>SR Legacy</td>\n",
       "      <td>Fish, salmon, coho, wild, cooked, dry heat</td>\n",
       "      <td>173719</td>\n",
       "      <td>NaN</td>\n",
       "      <td>NaN</td>\n",
       "      <td>NaN</td>\n",
       "      <td>15247</td>\n",
       "      <td>2019-04-01</td>\n",
       "      <td>NaN</td>\n",
       "      <td>458.15912</td>\n",
       "    </tr>\n",
       "    <tr>\n",
       "      <th>7</th>\n",
       "      <td>NaN</td>\n",
       "      <td></td>\n",
       "      <td>NaN</td>\n",
       "      <td>SR Legacy</td>\n",
       "      <td>Fish, salmon, coho, wild, cooked, moist heat</td>\n",
       "      <td>175137</td>\n",
       "      <td>NaN</td>\n",
       "      <td>NaN</td>\n",
       "      <td>NaN</td>\n",
       "      <td>15082</td>\n",
       "      <td>2019-04-01</td>\n",
       "      <td>NaN</td>\n",
       "      <td>458.15912</td>\n",
       "    </tr>\n",
       "    <tr>\n",
       "      <th>8</th>\n",
       "      <td>NaN</td>\n",
       "      <td></td>\n",
       "      <td>NaN</td>\n",
       "      <td>Survey (FNDDS)</td>\n",
       "      <td>Lomi salmon</td>\n",
       "      <td>338520</td>\n",
       "      <td>27450310</td>\n",
       "      <td>NaN</td>\n",
       "      <td>NaN</td>\n",
       "      <td>NaN</td>\n",
       "      <td>2019-04-01</td>\n",
       "      <td>NaN</td>\n",
       "      <td>376.27110</td>\n",
       "    </tr>\n",
       "    <tr>\n",
       "      <th>9</th>\n",
       "      <td>NaN</td>\n",
       "      <td></td>\n",
       "      <td>NaN</td>\n",
       "      <td>Survey (FNDDS)</td>\n",
       "      <td>Salmon loaf</td>\n",
       "      <td>338179</td>\n",
       "      <td>27250080</td>\n",
       "      <td>NaN</td>\n",
       "      <td>NaN</td>\n",
       "      <td>NaN</td>\n",
       "      <td>2019-04-01</td>\n",
       "      <td>NaN</td>\n",
       "      <td>376.27110</td>\n",
       "    </tr>\n",
       "    <tr>\n",
       "      <th>10</th>\n",
       "      <td>made with any dressing</td>\n",
       "      <td></td>\n",
       "      <td>NaN</td>\n",
       "      <td>Survey (FNDDS)</td>\n",
       "      <td>Salmon salad</td>\n",
       "      <td>338496</td>\n",
       "      <td>27450030</td>\n",
       "      <td>NaN</td>\n",
       "      <td>NaN</td>\n",
       "      <td>NaN</td>\n",
       "      <td>2019-04-01</td>\n",
       "      <td>NaN</td>\n",
       "      <td>376.27110</td>\n",
       "    </tr>\n",
       "    <tr>\n",
       "      <th>11</th>\n",
       "      <td>NaN</td>\n",
       "      <td></td>\n",
       "      <td>NaN</td>\n",
       "      <td>Survey (FNDDS)</td>\n",
       "      <td>Salmon, canned</td>\n",
       "      <td>337770</td>\n",
       "      <td>26137180</td>\n",
       "      <td>NaN</td>\n",
       "      <td>NaN</td>\n",
       "      <td>NaN</td>\n",
       "      <td>2019-04-01</td>\n",
       "      <td>NaN</td>\n",
       "      <td>376.27110</td>\n",
       "    </tr>\n",
       "    <tr>\n",
       "      <th>12</th>\n",
       "      <td>NaN</td>\n",
       "      <td></td>\n",
       "      <td>NaN</td>\n",
       "      <td>Survey (FNDDS)</td>\n",
       "      <td>Salmon, dried</td>\n",
       "      <td>337769</td>\n",
       "      <td>26137170</td>\n",
       "      <td>NaN</td>\n",
       "      <td>NaN</td>\n",
       "      <td>NaN</td>\n",
       "      <td>2019-04-01</td>\n",
       "      <td>NaN</td>\n",
       "      <td>376.27110</td>\n",
       "    </tr>\n",
       "    <tr>\n",
       "      <th>13</th>\n",
       "      <td>saltwater trout; sashimi</td>\n",
       "      <td></td>\n",
       "      <td>NaN</td>\n",
       "      <td>Survey (FNDDS)</td>\n",
       "      <td>Salmon, raw</td>\n",
       "      <td>337751</td>\n",
       "      <td>26137100</td>\n",
       "      <td>NaN</td>\n",
       "      <td>NaN</td>\n",
       "      <td>NaN</td>\n",
       "      <td>2019-04-01</td>\n",
       "      <td>NaN</td>\n",
       "      <td>376.27110</td>\n",
       "    </tr>\n",
       "    <tr>\n",
       "      <th>14</th>\n",
       "      <td>lox</td>\n",
       "      <td></td>\n",
       "      <td>NaN</td>\n",
       "      <td>Survey (FNDDS)</td>\n",
       "      <td>Salmon, smoked</td>\n",
       "      <td>337771</td>\n",
       "      <td>26137190</td>\n",
       "      <td>NaN</td>\n",
       "      <td>NaN</td>\n",
       "      <td>NaN</td>\n",
       "      <td>2019-04-01</td>\n",
       "      <td>NaN</td>\n",
       "      <td>376.27110</td>\n",
       "    </tr>\n",
       "    <tr>\n",
       "      <th>15</th>\n",
       "      <td>salmon croquette</td>\n",
       "      <td>&lt;b&gt;Includes&lt;/b&gt;: &lt;em&gt;salmon&lt;/em&gt; croquette</td>\n",
       "      <td>NaN</td>\n",
       "      <td>Survey (FNDDS)</td>\n",
       "      <td>Salmon cake or patty</td>\n",
       "      <td>338178</td>\n",
       "      <td>27250070</td>\n",
       "      <td>NaN</td>\n",
       "      <td>NaN</td>\n",
       "      <td>NaN</td>\n",
       "      <td>2019-04-01</td>\n",
       "      <td>NaN</td>\n",
       "      <td>361.97488</td>\n",
       "    </tr>\n",
       "    <tr>\n",
       "      <th>16</th>\n",
       "      <td>NaN</td>\n",
       "      <td></td>\n",
       "      <td>NaN</td>\n",
       "      <td>Survey (FNDDS)</td>\n",
       "      <td>Stewed salmon, Puerto Rican style (Salmon guis...</td>\n",
       "      <td>338210</td>\n",
       "      <td>27251010</td>\n",
       "      <td>NaN</td>\n",
       "      <td>NaN</td>\n",
       "      <td>NaN</td>\n",
       "      <td>2019-04-01</td>\n",
       "      <td>NaN</td>\n",
       "      <td>347.55225</td>\n",
       "    </tr>\n",
       "    <tr>\n",
       "      <th>17</th>\n",
       "      <td>NaN</td>\n",
       "      <td></td>\n",
       "      <td>NaN</td>\n",
       "      <td>SR Legacy</td>\n",
       "      <td>Fish oil, salmon</td>\n",
       "      <td>172343</td>\n",
       "      <td>NaN</td>\n",
       "      <td>NaN</td>\n",
       "      <td>NaN</td>\n",
       "      <td>4593</td>\n",
       "      <td>2019-04-01</td>\n",
       "      <td>NaN</td>\n",
       "      <td>337.70273</td>\n",
       "    </tr>\n",
       "    <tr>\n",
       "      <th>18</th>\n",
       "      <td>saltwater trout</td>\n",
       "      <td></td>\n",
       "      <td>NaN</td>\n",
       "      <td>Survey (FNDDS)</td>\n",
       "      <td>Salmon, steamed or poached</td>\n",
       "      <td>337768</td>\n",
       "      <td>26137160</td>\n",
       "      <td>NaN</td>\n",
       "      <td>NaN</td>\n",
       "      <td>NaN</td>\n",
       "      <td>2019-04-01</td>\n",
       "      <td>NaN</td>\n",
       "      <td>337.70273</td>\n",
       "    </tr>\n",
       "    <tr>\n",
       "      <th>19</th>\n",
       "      <td>NaN</td>\n",
       "      <td></td>\n",
       "      <td>NaN</td>\n",
       "      <td>Survey (FNDDS)</td>\n",
       "      <td>Goose, wild, roasted</td>\n",
       "      <td>337405</td>\n",
       "      <td>24311010</td>\n",
       "      <td>NaN</td>\n",
       "      <td>NaN</td>\n",
       "      <td>NaN</td>\n",
       "      <td>2019-04-01</td>\n",
       "      <td>NaN</td>\n",
       "      <td>309.39395</td>\n",
       "    </tr>\n",
       "    <tr>\n",
       "      <th>20</th>\n",
       "      <td>NaN</td>\n",
       "      <td></td>\n",
       "      <td>NaN</td>\n",
       "      <td>Survey (FNDDS)</td>\n",
       "      <td>Rabbit, wild, cooked</td>\n",
       "      <td>337053</td>\n",
       "      <td>23311200</td>\n",
       "      <td>NaN</td>\n",
       "      <td>NaN</td>\n",
       "      <td>NaN</td>\n",
       "      <td>2019-04-01</td>\n",
       "      <td>NaN</td>\n",
       "      <td>309.39395</td>\n",
       "    </tr>\n",
       "    <tr>\n",
       "      <th>21</th>\n",
       "      <td>NaN</td>\n",
       "      <td></td>\n",
       "      <td>NaN</td>\n",
       "      <td>Survey (FNDDS)</td>\n",
       "      <td>Wild pig, smoked</td>\n",
       "      <td>337074</td>\n",
       "      <td>23345100</td>\n",
       "      <td>NaN</td>\n",
       "      <td>NaN</td>\n",
       "      <td>NaN</td>\n",
       "      <td>2019-04-01</td>\n",
       "      <td>NaN</td>\n",
       "      <td>309.39395</td>\n",
       "    </tr>\n",
       "    <tr>\n",
       "      <th>22</th>\n",
       "      <td>NaN</td>\n",
       "      <td></td>\n",
       "      <td>NaN</td>\n",
       "      <td>SR Legacy</td>\n",
       "      <td>Wild rice, cooked</td>\n",
       "      <td>168897</td>\n",
       "      <td>NaN</td>\n",
       "      <td>NaN</td>\n",
       "      <td>NaN</td>\n",
       "      <td>20089</td>\n",
       "      <td>2019-04-01</td>\n",
       "      <td>NaN</td>\n",
       "      <td>309.39395</td>\n",
       "    </tr>\n",
       "    <tr>\n",
       "      <th>23</th>\n",
       "      <td>NaN</td>\n",
       "      <td></td>\n",
       "      <td>NaN</td>\n",
       "      <td>SR Legacy</td>\n",
       "      <td>Wild rice, raw</td>\n",
       "      <td>169726</td>\n",
       "      <td>NaN</td>\n",
       "      <td>NaN</td>\n",
       "      <td>NaN</td>\n",
       "      <td>20088</td>\n",
       "      <td>2019-04-01</td>\n",
       "      <td>Zizania spp.</td>\n",
       "      <td>309.39395</td>\n",
       "    </tr>\n",
       "    <tr>\n",
       "      <th>24</th>\n",
       "      <td>NaN</td>\n",
       "      <td></td>\n",
       "      <td>NaN</td>\n",
       "      <td>SR Legacy</td>\n",
       "      <td>Fish, salmon, chinook, raw</td>\n",
       "      <td>173688</td>\n",
       "      <td>NaN</td>\n",
       "      <td>NaN</td>\n",
       "      <td>NaN</td>\n",
       "      <td>15078</td>\n",
       "      <td>2019-04-01</td>\n",
       "      <td>Oncorhynchus tshawytscha (Walbaum)</td>\n",
       "      <td>306.32320</td>\n",
       "    </tr>\n",
       "    <tr>\n",
       "      <th>25</th>\n",
       "      <td>NaN</td>\n",
       "      <td></td>\n",
       "      <td>NaN</td>\n",
       "      <td>SR Legacy</td>\n",
       "      <td>Fish, salmon, chinook, smoked</td>\n",
       "      <td>173687</td>\n",
       "      <td>NaN</td>\n",
       "      <td>NaN</td>\n",
       "      <td>NaN</td>\n",
       "      <td>15077</td>\n",
       "      <td>2019-04-01</td>\n",
       "      <td>NaN</td>\n",
       "      <td>306.32320</td>\n",
       "    </tr>\n",
       "    <tr>\n",
       "      <th>26</th>\n",
       "      <td>NaN</td>\n",
       "      <td></td>\n",
       "      <td>NaN</td>\n",
       "      <td>SR Legacy</td>\n",
       "      <td>Fish, salmon, chum, raw</td>\n",
       "      <td>173689</td>\n",
       "      <td>NaN</td>\n",
       "      <td>NaN</td>\n",
       "      <td>NaN</td>\n",
       "      <td>15079</td>\n",
       "      <td>2019-04-01</td>\n",
       "      <td>Oncorhynchus keta (Walbaum)</td>\n",
       "      <td>306.32320</td>\n",
       "    </tr>\n",
       "    <tr>\n",
       "      <th>27</th>\n",
       "      <td>NaN</td>\n",
       "      <td></td>\n",
       "      <td>NaN</td>\n",
       "      <td>SR Legacy</td>\n",
       "      <td>Fish, salmon, pink, raw</td>\n",
       "      <td>175138</td>\n",
       "      <td>NaN</td>\n",
       "      <td>NaN</td>\n",
       "      <td>NaN</td>\n",
       "      <td>15083</td>\n",
       "      <td>2019-04-01</td>\n",
       "      <td>Oncorhynchus gorbuscha (Walbaum)</td>\n",
       "      <td>306.32320</td>\n",
       "    </tr>\n",
       "    <tr>\n",
       "      <th>28</th>\n",
       "      <td>NaN</td>\n",
       "      <td></td>\n",
       "      <td>NaN</td>\n",
       "      <td>SR Legacy</td>\n",
       "      <td>Fish, salmon, sockeye, raw</td>\n",
       "      <td>173691</td>\n",
       "      <td>NaN</td>\n",
       "      <td>NaN</td>\n",
       "      <td>NaN</td>\n",
       "      <td>15085</td>\n",
       "      <td>2019-04-01</td>\n",
       "      <td>NaN</td>\n",
       "      <td>306.32320</td>\n",
       "    </tr>\n",
       "    <tr>\n",
       "      <th>29</th>\n",
       "      <td>NaN</td>\n",
       "      <td></td>\n",
       "      <td>NaN</td>\n",
       "      <td>Survey (FNDDS)</td>\n",
       "      <td>Salmon soup, cream style</td>\n",
       "      <td>338972</td>\n",
       "      <td>28355350</td>\n",
       "      <td>NaN</td>\n",
       "      <td>NaN</td>\n",
       "      <td>NaN</td>\n",
       "      <td>2019-04-01</td>\n",
       "      <td>NaN</td>\n",
       "      <td>306.32320</td>\n",
       "    </tr>\n",
       "    <tr>\n",
       "      <th>30</th>\n",
       "      <td>NaN</td>\n",
       "      <td></td>\n",
       "      <td>NaN</td>\n",
       "      <td>Survey (FNDDS)</td>\n",
       "      <td>Sushi (Nigiri), topped with salmon</td>\n",
       "      <td>341180</td>\n",
       "      <td>58151420</td>\n",
       "      <td>NaN</td>\n",
       "      <td>NaN</td>\n",
       "      <td>NaN</td>\n",
       "      <td>2019-04-01</td>\n",
       "      <td>NaN</td>\n",
       "      <td>306.32320</td>\n",
       "    </tr>\n",
       "    <tr>\n",
       "      <th>31</th>\n",
       "      <td>flavored brown rice</td>\n",
       "      <td></td>\n",
       "      <td>NaN</td>\n",
       "      <td>Survey (FNDDS)</td>\n",
       "      <td>Flavored rice, brown and wild</td>\n",
       "      <td>341296</td>\n",
       "      <td>58163360</td>\n",
       "      <td>NaN</td>\n",
       "      <td>NaN</td>\n",
       "      <td>NaN</td>\n",
       "      <td>2019-04-01</td>\n",
       "      <td>NaN</td>\n",
       "      <td>280.65274</td>\n",
       "    </tr>\n",
       "    <tr>\n",
       "      <th>32</th>\n",
       "      <td>NaN</td>\n",
       "      <td></td>\n",
       "      <td>NaN</td>\n",
       "      <td>SR Legacy</td>\n",
       "      <td>Fish, salmon, Atlantic, farmed, raw</td>\n",
       "      <td>175167</td>\n",
       "      <td>NaN</td>\n",
       "      <td>NaN</td>\n",
       "      <td>NaN</td>\n",
       "      <td>15236</td>\n",
       "      <td>2019-04-01</td>\n",
       "      <td>Salmo salar L.</td>\n",
       "      <td>280.29400</td>\n",
       "    </tr>\n",
       "    <tr>\n",
       "      <th>33</th>\n",
       "      <td>NaN</td>\n",
       "      <td></td>\n",
       "      <td>NaN</td>\n",
       "      <td>SR Legacy</td>\n",
       "      <td>Fish, salmon, coho, farmed, raw</td>\n",
       "      <td>173715</td>\n",
       "      <td>NaN</td>\n",
       "      <td>NaN</td>\n",
       "      <td>NaN</td>\n",
       "      <td>15238</td>\n",
       "      <td>2019-04-01</td>\n",
       "      <td>Oncorhynchus kisutch (Walbaum)</td>\n",
       "      <td>280.29400</td>\n",
       "    </tr>\n",
       "    <tr>\n",
       "      <th>34</th>\n",
       "      <td>NaN</td>\n",
       "      <td></td>\n",
       "      <td>NaN</td>\n",
       "      <td>SR Legacy</td>\n",
       "      <td>Salmon nuggets, breaded, frozen, heated</td>\n",
       "      <td>173721</td>\n",
       "      <td>NaN</td>\n",
       "      <td>NaN</td>\n",
       "      <td>NaN</td>\n",
       "      <td>15251</td>\n",
       "      <td>2019-04-01</td>\n",
       "      <td>NaN</td>\n",
       "      <td>280.29400</td>\n",
       "    </tr>\n",
       "    <tr>\n",
       "      <th>35</th>\n",
       "      <td>NaN</td>\n",
       "      <td></td>\n",
       "      <td>NaN</td>\n",
       "      <td>SR Legacy</td>\n",
       "      <td>Salmon nuggets, cooked as purchased, unheated</td>\n",
       "      <td>173722</td>\n",
       "      <td>NaN</td>\n",
       "      <td>NaN</td>\n",
       "      <td>NaN</td>\n",
       "      <td>15252</td>\n",
       "      <td>2019-04-01</td>\n",
       "      <td>NaN</td>\n",
       "      <td>280.29400</td>\n",
       "    </tr>\n",
       "    <tr>\n",
       "      <th>36</th>\n",
       "      <td>sauteed; fried with no coating; made with anim...</td>\n",
       "      <td></td>\n",
       "      <td>NaN</td>\n",
       "      <td>Survey (FNDDS)</td>\n",
       "      <td>Salmon, baked or broiled, made with butter</td>\n",
       "      <td>337754</td>\n",
       "      <td>26137121</td>\n",
       "      <td>NaN</td>\n",
       "      <td>NaN</td>\n",
       "      <td>NaN</td>\n",
       "      <td>2019-04-01</td>\n",
       "      <td>NaN</td>\n",
       "      <td>280.29400</td>\n",
       "    </tr>\n",
       "    <tr>\n",
       "      <th>37</th>\n",
       "      <td>sauteed; fried with no coating; made with shor...</td>\n",
       "      <td></td>\n",
       "      <td>NaN</td>\n",
       "      <td>Survey (FNDDS)</td>\n",
       "      <td>Salmon, baked or broiled, made with margarine</td>\n",
       "      <td>337755</td>\n",
       "      <td>26137122</td>\n",
       "      <td>NaN</td>\n",
       "      <td>NaN</td>\n",
       "      <td>NaN</td>\n",
       "      <td>2019-04-01</td>\n",
       "      <td>NaN</td>\n",
       "      <td>280.29400</td>\n",
       "    </tr>\n",
       "    <tr>\n",
       "      <th>38</th>\n",
       "      <td>saltwater trout; NS as to fat added in cooking...</td>\n",
       "      <td></td>\n",
       "      <td>NaN</td>\n",
       "      <td>Survey (FNDDS)</td>\n",
       "      <td>Salmon, baked or broiled, made with oil</td>\n",
       "      <td>337753</td>\n",
       "      <td>26137120</td>\n",
       "      <td>NaN</td>\n",
       "      <td>NaN</td>\n",
       "      <td>NaN</td>\n",
       "      <td>2019-04-01</td>\n",
       "      <td>NaN</td>\n",
       "      <td>280.29400</td>\n",
       "    </tr>\n",
       "    <tr>\n",
       "      <th>39</th>\n",
       "      <td>saltwater trout; fried, NS as to coating; made...</td>\n",
       "      <td></td>\n",
       "      <td>NaN</td>\n",
       "      <td>Survey (FNDDS)</td>\n",
       "      <td>Salmon, coated, fried, made with butter</td>\n",
       "      <td>337764</td>\n",
       "      <td>26137141</td>\n",
       "      <td>NaN</td>\n",
       "      <td>NaN</td>\n",
       "      <td>NaN</td>\n",
       "      <td>2019-04-01</td>\n",
       "      <td>NaN</td>\n",
       "      <td>280.29400</td>\n",
       "    </tr>\n",
       "    <tr>\n",
       "      <th>40</th>\n",
       "      <td>fried, NS as to coating; made with shortening;...</td>\n",
       "      <td></td>\n",
       "      <td>NaN</td>\n",
       "      <td>Survey (FNDDS)</td>\n",
       "      <td>Salmon, coated, fried, made with margarine</td>\n",
       "      <td>337765</td>\n",
       "      <td>26137142</td>\n",
       "      <td>NaN</td>\n",
       "      <td>NaN</td>\n",
       "      <td>NaN</td>\n",
       "      <td>2019-04-01</td>\n",
       "      <td>NaN</td>\n",
       "      <td>280.29400</td>\n",
       "    </tr>\n",
       "    <tr>\n",
       "      <th>41</th>\n",
       "      <td>fried, NS as to coating; saltwater trout; NS a...</td>\n",
       "      <td></td>\n",
       "      <td>NaN</td>\n",
       "      <td>Survey (FNDDS)</td>\n",
       "      <td>Salmon, coated, fried, made with oil</td>\n",
       "      <td>337763</td>\n",
       "      <td>26137140</td>\n",
       "      <td>NaN</td>\n",
       "      <td>NaN</td>\n",
       "      <td>NaN</td>\n",
       "      <td>2019-04-01</td>\n",
       "      <td>NaN</td>\n",
       "      <td>280.29400</td>\n",
       "    </tr>\n",
       "    <tr>\n",
       "      <th>42</th>\n",
       "      <td>saltwater trout</td>\n",
       "      <td></td>\n",
       "      <td>NaN</td>\n",
       "      <td>Survey (FNDDS)</td>\n",
       "      <td>Salmon, cooked, NS as to cooking method</td>\n",
       "      <td>337752</td>\n",
       "      <td>26137110</td>\n",
       "      <td>NaN</td>\n",
       "      <td>NaN</td>\n",
       "      <td>NaN</td>\n",
       "      <td>2019-04-01</td>\n",
       "      <td>NaN</td>\n",
       "      <td>280.29400</td>\n",
       "    </tr>\n",
       "    <tr>\n",
       "      <th>43</th>\n",
       "      <td>NS as to rolled or topped</td>\n",
       "      <td></td>\n",
       "      <td>NaN</td>\n",
       "      <td>Survey (FNDDS)</td>\n",
       "      <td>Sushi roll (maki or temaki), salmon</td>\n",
       "      <td>341174</td>\n",
       "      <td>58151200</td>\n",
       "      <td>NaN</td>\n",
       "      <td>NaN</td>\n",
       "      <td>NaN</td>\n",
       "      <td>2019-04-01</td>\n",
       "      <td>NaN</td>\n",
       "      <td>280.29400</td>\n",
       "    </tr>\n",
       "    <tr>\n",
       "      <th>44</th>\n",
       "      <td>NaN</td>\n",
       "      <td></td>\n",
       "      <td>NaN</td>\n",
       "      <td>SR Legacy</td>\n",
       "      <td>Fish, salmon, chinook, cooked, dry heat</td>\n",
       "      <td>171999</td>\n",
       "      <td>NaN</td>\n",
       "      <td>NaN</td>\n",
       "      <td>NaN</td>\n",
       "      <td>15210</td>\n",
       "      <td>2019-04-01</td>\n",
       "      <td>NaN</td>\n",
       "      <td>258.35422</td>\n",
       "    </tr>\n",
       "    <tr>\n",
       "      <th>45</th>\n",
       "      <td>NaN</td>\n",
       "      <td></td>\n",
       "      <td>NaN</td>\n",
       "      <td>SR Legacy</td>\n",
       "      <td>Fish, salmon, chinook, smoked, (lox), regular</td>\n",
       "      <td>171985</td>\n",
       "      <td>NaN</td>\n",
       "      <td>NaN</td>\n",
       "      <td>NaN</td>\n",
       "      <td>15179</td>\n",
       "      <td>2019-04-01</td>\n",
       "      <td>NaN</td>\n",
       "      <td>258.35422</td>\n",
       "    </tr>\n",
       "    <tr>\n",
       "      <th>46</th>\n",
       "      <td>NaN</td>\n",
       "      <td></td>\n",
       "      <td>NaN</td>\n",
       "      <td>SR Legacy</td>\n",
       "      <td>Fish, salmon, chum, cooked, dry heat</td>\n",
       "      <td>172000</td>\n",
       "      <td>NaN</td>\n",
       "      <td>NaN</td>\n",
       "      <td>NaN</td>\n",
       "      <td>15211</td>\n",
       "      <td>2019-04-01</td>\n",
       "      <td>NaN</td>\n",
       "      <td>258.35422</td>\n",
       "    </tr>\n",
       "    <tr>\n",
       "      <th>47</th>\n",
       "      <td>NaN</td>\n",
       "      <td></td>\n",
       "      <td>NaN</td>\n",
       "      <td>SR Legacy</td>\n",
       "      <td>Fish, salmon, chum, dried (Alaska Native)</td>\n",
       "      <td>168054</td>\n",
       "      <td>NaN</td>\n",
       "      <td>NaN</td>\n",
       "      <td>NaN</td>\n",
       "      <td>35171</td>\n",
       "      <td>2019-04-01</td>\n",
       "      <td>NaN</td>\n",
       "      <td>258.35422</td>\n",
       "    </tr>\n",
       "    <tr>\n",
       "      <th>48</th>\n",
       "      <td>NaN</td>\n",
       "      <td></td>\n",
       "      <td>NaN</td>\n",
       "      <td>SR Legacy</td>\n",
       "      <td>Fish, Salmon, Chum, raw (Alaska Native)</td>\n",
       "      <td>168046</td>\n",
       "      <td>NaN</td>\n",
       "      <td>NaN</td>\n",
       "      <td>NaN</td>\n",
       "      <td>35152</td>\n",
       "      <td>2019-04-01</td>\n",
       "      <td>NaN</td>\n",
       "      <td>258.35422</td>\n",
       "    </tr>\n",
       "    <tr>\n",
       "      <th>49</th>\n",
       "      <td>NaN</td>\n",
       "      <td></td>\n",
       "      <td>NaN</td>\n",
       "      <td>SR Legacy</td>\n",
       "      <td>Fish, salmon, pink, canned, drained solids</td>\n",
       "      <td>175175</td>\n",
       "      <td>NaN</td>\n",
       "      <td>NaN</td>\n",
       "      <td>NaN</td>\n",
       "      <td>15260</td>\n",
       "      <td>2019-04-01</td>\n",
       "      <td>NaN</td>\n",
       "      <td>258.35422</td>\n",
       "    </tr>\n",
       "  </tbody>\n",
       "</table>\n",
       "</div>"
      ],
      "text/plain": [
       "                               additionalDescriptions  \\\n",
       "0                                                 NaN   \n",
       "1                                                 NaN   \n",
       "2                                                 NaN   \n",
       "3                                                 NaN   \n",
       "4                                                 NaN   \n",
       "5                                                 NaN   \n",
       "6                                                 NaN   \n",
       "7                                                 NaN   \n",
       "8                                                 NaN   \n",
       "9                                                 NaN   \n",
       "10                             made with any dressing   \n",
       "11                                                NaN   \n",
       "12                                                NaN   \n",
       "13                           saltwater trout; sashimi   \n",
       "14                                                lox   \n",
       "15                                   salmon croquette   \n",
       "16                                                NaN   \n",
       "17                                                NaN   \n",
       "18                                    saltwater trout   \n",
       "19                                                NaN   \n",
       "20                                                NaN   \n",
       "21                                                NaN   \n",
       "22                                                NaN   \n",
       "23                                                NaN   \n",
       "24                                                NaN   \n",
       "25                                                NaN   \n",
       "26                                                NaN   \n",
       "27                                                NaN   \n",
       "28                                                NaN   \n",
       "29                                                NaN   \n",
       "30                                                NaN   \n",
       "31                                flavored brown rice   \n",
       "32                                                NaN   \n",
       "33                                                NaN   \n",
       "34                                                NaN   \n",
       "35                                                NaN   \n",
       "36  sauteed; fried with no coating; made with anim...   \n",
       "37  sauteed; fried with no coating; made with shor...   \n",
       "38  saltwater trout; NS as to fat added in cooking...   \n",
       "39  saltwater trout; fried, NS as to coating; made...   \n",
       "40  fried, NS as to coating; made with shortening;...   \n",
       "41  fried, NS as to coating; saltwater trout; NS a...   \n",
       "42                                    saltwater trout   \n",
       "43                          NS as to rolled or topped   \n",
       "44                                                NaN   \n",
       "45                                                NaN   \n",
       "46                                                NaN   \n",
       "47                                                NaN   \n",
       "48                                                NaN   \n",
       "49                                                NaN   \n",
       "\n",
       "                                   allHighlightFields  \\\n",
       "0   <b>Ingredients</b>: <em>WILD</em> ALASKAN RED ...   \n",
       "1   <b>Ingredients</b>: PINK <em>SALMON</em>, WATE...   \n",
       "2   <b>Ingredients</b>: PINK <em>SALMON</em>, OLIV...   \n",
       "3                                                       \n",
       "4                                                       \n",
       "5                                                       \n",
       "6                                                       \n",
       "7                                                       \n",
       "8                                                       \n",
       "9                                                       \n",
       "10                                                      \n",
       "11                                                      \n",
       "12                                                      \n",
       "13                                                      \n",
       "14                                                      \n",
       "15         <b>Includes</b>: <em>salmon</em> croquette   \n",
       "16                                                      \n",
       "17                                                      \n",
       "18                                                      \n",
       "19                                                      \n",
       "20                                                      \n",
       "21                                                      \n",
       "22                                                      \n",
       "23                                                      \n",
       "24                                                      \n",
       "25                                                      \n",
       "26                                                      \n",
       "27                                                      \n",
       "28                                                      \n",
       "29                                                      \n",
       "30                                                      \n",
       "31                                                      \n",
       "32                                                      \n",
       "33                                                      \n",
       "34                                                      \n",
       "35                                                      \n",
       "36                                                      \n",
       "37                                                      \n",
       "38                                                      \n",
       "39                                                      \n",
       "40                                                      \n",
       "41                                                      \n",
       "42                                                      \n",
       "43                                                      \n",
       "44                                                      \n",
       "45                                                      \n",
       "46                                                      \n",
       "47                                                      \n",
       "48                                                      \n",
       "49                                                      \n",
       "\n",
       "                       brandOwner        dataType  \\\n",
       "0        Whole Foods Market, Inc.         Branded   \n",
       "1   Morey's Seafood International         Branded   \n",
       "2   Morey's Seafood International         Branded   \n",
       "3                             NaN       SR Legacy   \n",
       "4                             NaN       SR Legacy   \n",
       "5                             NaN       SR Legacy   \n",
       "6                             NaN       SR Legacy   \n",
       "7                             NaN       SR Legacy   \n",
       "8                             NaN  Survey (FNDDS)   \n",
       "9                             NaN  Survey (FNDDS)   \n",
       "10                            NaN  Survey (FNDDS)   \n",
       "11                            NaN  Survey (FNDDS)   \n",
       "12                            NaN  Survey (FNDDS)   \n",
       "13                            NaN  Survey (FNDDS)   \n",
       "14                            NaN  Survey (FNDDS)   \n",
       "15                            NaN  Survey (FNDDS)   \n",
       "16                            NaN  Survey (FNDDS)   \n",
       "17                            NaN       SR Legacy   \n",
       "18                            NaN  Survey (FNDDS)   \n",
       "19                            NaN  Survey (FNDDS)   \n",
       "20                            NaN  Survey (FNDDS)   \n",
       "21                            NaN  Survey (FNDDS)   \n",
       "22                            NaN       SR Legacy   \n",
       "23                            NaN       SR Legacy   \n",
       "24                            NaN       SR Legacy   \n",
       "25                            NaN       SR Legacy   \n",
       "26                            NaN       SR Legacy   \n",
       "27                            NaN       SR Legacy   \n",
       "28                            NaN       SR Legacy   \n",
       "29                            NaN  Survey (FNDDS)   \n",
       "30                            NaN  Survey (FNDDS)   \n",
       "31                            NaN  Survey (FNDDS)   \n",
       "32                            NaN       SR Legacy   \n",
       "33                            NaN       SR Legacy   \n",
       "34                            NaN       SR Legacy   \n",
       "35                            NaN       SR Legacy   \n",
       "36                            NaN  Survey (FNDDS)   \n",
       "37                            NaN  Survey (FNDDS)   \n",
       "38                            NaN  Survey (FNDDS)   \n",
       "39                            NaN  Survey (FNDDS)   \n",
       "40                            NaN  Survey (FNDDS)   \n",
       "41                            NaN  Survey (FNDDS)   \n",
       "42                            NaN  Survey (FNDDS)   \n",
       "43                            NaN  Survey (FNDDS)   \n",
       "44                            NaN       SR Legacy   \n",
       "45                            NaN       SR Legacy   \n",
       "46                            NaN       SR Legacy   \n",
       "47                            NaN       SR Legacy   \n",
       "48                            NaN       SR Legacy   \n",
       "49                            NaN       SR Legacy   \n",
       "\n",
       "                                          description   fdcId  foodCode  \\\n",
       "0                                         WILD SALMON  388511       NaN   \n",
       "1                                         WILD SALMON  458672       NaN   \n",
       "2                                         WILD SALMON  458649       NaN   \n",
       "3                   Fish, salmon, Atlantic, wild, raw  173686       NaN   \n",
       "4                       Fish, salmon, coho, wild, raw  175136       NaN   \n",
       "5      Fish, salmon, Atlantic, wild, cooked, dry heat  171998       NaN   \n",
       "6          Fish, salmon, coho, wild, cooked, dry heat  173719       NaN   \n",
       "7        Fish, salmon, coho, wild, cooked, moist heat  175137       NaN   \n",
       "8                                         Lomi salmon  338520  27450310   \n",
       "9                                         Salmon loaf  338179  27250080   \n",
       "10                                       Salmon salad  338496  27450030   \n",
       "11                                     Salmon, canned  337770  26137180   \n",
       "12                                      Salmon, dried  337769  26137170   \n",
       "13                                        Salmon, raw  337751  26137100   \n",
       "14                                     Salmon, smoked  337771  26137190   \n",
       "15                               Salmon cake or patty  338178  27250070   \n",
       "16  Stewed salmon, Puerto Rican style (Salmon guis...  338210  27251010   \n",
       "17                                   Fish oil, salmon  172343       NaN   \n",
       "18                         Salmon, steamed or poached  337768  26137160   \n",
       "19                               Goose, wild, roasted  337405  24311010   \n",
       "20                               Rabbit, wild, cooked  337053  23311200   \n",
       "21                                   Wild pig, smoked  337074  23345100   \n",
       "22                                  Wild rice, cooked  168897       NaN   \n",
       "23                                     Wild rice, raw  169726       NaN   \n",
       "24                         Fish, salmon, chinook, raw  173688       NaN   \n",
       "25                      Fish, salmon, chinook, smoked  173687       NaN   \n",
       "26                            Fish, salmon, chum, raw  173689       NaN   \n",
       "27                            Fish, salmon, pink, raw  175138       NaN   \n",
       "28                         Fish, salmon, sockeye, raw  173691       NaN   \n",
       "29                           Salmon soup, cream style  338972  28355350   \n",
       "30                 Sushi (Nigiri), topped with salmon  341180  58151420   \n",
       "31                      Flavored rice, brown and wild  341296  58163360   \n",
       "32                Fish, salmon, Atlantic, farmed, raw  175167       NaN   \n",
       "33                    Fish, salmon, coho, farmed, raw  173715       NaN   \n",
       "34            Salmon nuggets, breaded, frozen, heated  173721       NaN   \n",
       "35      Salmon nuggets, cooked as purchased, unheated  173722       NaN   \n",
       "36         Salmon, baked or broiled, made with butter  337754  26137121   \n",
       "37      Salmon, baked or broiled, made with margarine  337755  26137122   \n",
       "38            Salmon, baked or broiled, made with oil  337753  26137120   \n",
       "39            Salmon, coated, fried, made with butter  337764  26137141   \n",
       "40         Salmon, coated, fried, made with margarine  337765  26137142   \n",
       "41               Salmon, coated, fried, made with oil  337763  26137140   \n",
       "42            Salmon, cooked, NS as to cooking method  337752  26137110   \n",
       "43                Sushi roll (maki or temaki), salmon  341174  58151200   \n",
       "44            Fish, salmon, chinook, cooked, dry heat  171999       NaN   \n",
       "45      Fish, salmon, chinook, smoked, (lox), regular  171985       NaN   \n",
       "46               Fish, salmon, chum, cooked, dry heat  172000       NaN   \n",
       "47          Fish, salmon, chum, dried (Alaska Native)  168054       NaN   \n",
       "48            Fish, Salmon, Chum, raw (Alaska Native)  168046       NaN   \n",
       "49         Fish, salmon, pink, canned, drained solids  175175       NaN   \n",
       "\n",
       "         gtinUpc                                        ingredients ndbNumber  \\\n",
       "0   099482415990             WILD ALASKAN RED SOCKEYE SALMON, SALT.       NaN   \n",
       "1   015292207075  PINK SALMON, WATER, OLIVE OIL BLEND (CANOLA OI...       NaN   \n",
       "2   015292204548  PINK SALMON, OLIVE OIL BLEND (CANOLA OIL AND O...       NaN   \n",
       "3            NaN                                                NaN     15076   \n",
       "4            NaN                                                NaN     15081   \n",
       "5            NaN                                                NaN     15209   \n",
       "6            NaN                                                NaN     15247   \n",
       "7            NaN                                                NaN     15082   \n",
       "8            NaN                                                NaN       NaN   \n",
       "9            NaN                                                NaN       NaN   \n",
       "10           NaN                                                NaN       NaN   \n",
       "11           NaN                                                NaN       NaN   \n",
       "12           NaN                                                NaN       NaN   \n",
       "13           NaN                                                NaN       NaN   \n",
       "14           NaN                                                NaN       NaN   \n",
       "15           NaN                                                NaN       NaN   \n",
       "16           NaN                                                NaN       NaN   \n",
       "17           NaN                                                NaN      4593   \n",
       "18           NaN                                                NaN       NaN   \n",
       "19           NaN                                                NaN       NaN   \n",
       "20           NaN                                                NaN       NaN   \n",
       "21           NaN                                                NaN       NaN   \n",
       "22           NaN                                                NaN     20089   \n",
       "23           NaN                                                NaN     20088   \n",
       "24           NaN                                                NaN     15078   \n",
       "25           NaN                                                NaN     15077   \n",
       "26           NaN                                                NaN     15079   \n",
       "27           NaN                                                NaN     15083   \n",
       "28           NaN                                                NaN     15085   \n",
       "29           NaN                                                NaN       NaN   \n",
       "30           NaN                                                NaN       NaN   \n",
       "31           NaN                                                NaN       NaN   \n",
       "32           NaN                                                NaN     15236   \n",
       "33           NaN                                                NaN     15238   \n",
       "34           NaN                                                NaN     15251   \n",
       "35           NaN                                                NaN     15252   \n",
       "36           NaN                                                NaN       NaN   \n",
       "37           NaN                                                NaN       NaN   \n",
       "38           NaN                                                NaN       NaN   \n",
       "39           NaN                                                NaN       NaN   \n",
       "40           NaN                                                NaN       NaN   \n",
       "41           NaN                                                NaN       NaN   \n",
       "42           NaN                                                NaN       NaN   \n",
       "43           NaN                                                NaN       NaN   \n",
       "44           NaN                                                NaN     15210   \n",
       "45           NaN                                                NaN     15179   \n",
       "46           NaN                                                NaN     15211   \n",
       "47           NaN                                                NaN     35171   \n",
       "48           NaN                                                NaN     35152   \n",
       "49           NaN                                                NaN     15260   \n",
       "\n",
       "   publishedDate                      scientificName       score  \n",
       "0     2019-04-01                                 NaN  1108.69740  \n",
       "1     2019-04-01                                 NaN  1105.65040  \n",
       "2     2019-04-01                                 NaN  1105.65040  \n",
       "3     2019-04-01                      Salmo salar L.   536.10596  \n",
       "4     2019-04-01      Oncorhynchus kisutch (Walbaum)   536.10596  \n",
       "5     2019-04-01                                 NaN   458.15912  \n",
       "6     2019-04-01                                 NaN   458.15912  \n",
       "7     2019-04-01                                 NaN   458.15912  \n",
       "8     2019-04-01                                 NaN   376.27110  \n",
       "9     2019-04-01                                 NaN   376.27110  \n",
       "10    2019-04-01                                 NaN   376.27110  \n",
       "11    2019-04-01                                 NaN   376.27110  \n",
       "12    2019-04-01                                 NaN   376.27110  \n",
       "13    2019-04-01                                 NaN   376.27110  \n",
       "14    2019-04-01                                 NaN   376.27110  \n",
       "15    2019-04-01                                 NaN   361.97488  \n",
       "16    2019-04-01                                 NaN   347.55225  \n",
       "17    2019-04-01                                 NaN   337.70273  \n",
       "18    2019-04-01                                 NaN   337.70273  \n",
       "19    2019-04-01                                 NaN   309.39395  \n",
       "20    2019-04-01                                 NaN   309.39395  \n",
       "21    2019-04-01                                 NaN   309.39395  \n",
       "22    2019-04-01                                 NaN   309.39395  \n",
       "23    2019-04-01                        Zizania spp.   309.39395  \n",
       "24    2019-04-01  Oncorhynchus tshawytscha (Walbaum)   306.32320  \n",
       "25    2019-04-01                                 NaN   306.32320  \n",
       "26    2019-04-01         Oncorhynchus keta (Walbaum)   306.32320  \n",
       "27    2019-04-01    Oncorhynchus gorbuscha (Walbaum)   306.32320  \n",
       "28    2019-04-01                                 NaN   306.32320  \n",
       "29    2019-04-01                                 NaN   306.32320  \n",
       "30    2019-04-01                                 NaN   306.32320  \n",
       "31    2019-04-01                                 NaN   280.65274  \n",
       "32    2019-04-01                      Salmo salar L.   280.29400  \n",
       "33    2019-04-01      Oncorhynchus kisutch (Walbaum)   280.29400  \n",
       "34    2019-04-01                                 NaN   280.29400  \n",
       "35    2019-04-01                                 NaN   280.29400  \n",
       "36    2019-04-01                                 NaN   280.29400  \n",
       "37    2019-04-01                                 NaN   280.29400  \n",
       "38    2019-04-01                                 NaN   280.29400  \n",
       "39    2019-04-01                                 NaN   280.29400  \n",
       "40    2019-04-01                                 NaN   280.29400  \n",
       "41    2019-04-01                                 NaN   280.29400  \n",
       "42    2019-04-01                                 NaN   280.29400  \n",
       "43    2019-04-01                                 NaN   280.29400  \n",
       "44    2019-04-01                                 NaN   258.35422  \n",
       "45    2019-04-01                                 NaN   258.35422  \n",
       "46    2019-04-01                                 NaN   258.35422  \n",
       "47    2019-04-01                                 NaN   258.35422  \n",
       "48    2019-04-01                                 NaN   258.35422  \n",
       "49    2019-04-01                                 NaN   258.35422  "
      ]
     },
     "execution_count": 7,
     "metadata": {},
     "output_type": "execute_result"
    }
   ],
   "source": [
    "import fooddatacentral as fdc\n",
    "\n",
    "fdc.search(apikey[user],\"wild salmon\")"
   ]
  },
  {
   "cell_type": "markdown",
   "metadata": {},
   "source": [
    "### FDC Nutrients\n",
    "\n"
   ]
  },
  {
   "cell_type": "code",
   "execution_count": 8,
   "metadata": {},
   "outputs": [
    {
     "data": {
      "text/html": [
       "<div>\n",
       "<style scoped>\n",
       "    .dataframe tbody tr th:only-of-type {\n",
       "        vertical-align: middle;\n",
       "    }\n",
       "\n",
       "    .dataframe tbody tr th {\n",
       "        vertical-align: top;\n",
       "    }\n",
       "\n",
       "    .dataframe thead th {\n",
       "        text-align: right;\n",
       "    }\n",
       "</style>\n",
       "<table border=\"1\" class=\"dataframe\">\n",
       "  <thead>\n",
       "    <tr style=\"text-align: right;\">\n",
       "      <th></th>\n",
       "      <th>Quantity</th>\n",
       "      <th>Units</th>\n",
       "    </tr>\n",
       "  </thead>\n",
       "  <tbody>\n",
       "    <tr>\n",
       "      <th>Calcium, Ca</th>\n",
       "      <td>35.000</td>\n",
       "      <td>mg</td>\n",
       "    </tr>\n",
       "    <tr>\n",
       "      <th>Carbohydrate, by difference</th>\n",
       "      <td>1.770</td>\n",
       "      <td>g</td>\n",
       "    </tr>\n",
       "    <tr>\n",
       "      <th>Cholesterol</th>\n",
       "      <td>4.000</td>\n",
       "      <td>mg</td>\n",
       "    </tr>\n",
       "    <tr>\n",
       "      <th>Energy</th>\n",
       "      <td>53.000</td>\n",
       "      <td>kcal</td>\n",
       "    </tr>\n",
       "    <tr>\n",
       "      <th>Fatty acids, total saturated</th>\n",
       "      <td>0.000</td>\n",
       "      <td>g</td>\n",
       "    </tr>\n",
       "    <tr>\n",
       "      <th>Fatty acids, total trans</th>\n",
       "      <td>0.000</td>\n",
       "      <td>g</td>\n",
       "    </tr>\n",
       "    <tr>\n",
       "      <th>Fiber, total dietary</th>\n",
       "      <td>0.900</td>\n",
       "      <td>g</td>\n",
       "    </tr>\n",
       "    <tr>\n",
       "      <th>Iron, Fe</th>\n",
       "      <td>1.590</td>\n",
       "      <td>mg</td>\n",
       "    </tr>\n",
       "    <tr>\n",
       "      <th>Pantothenic acid</th>\n",
       "      <td>1.327</td>\n",
       "      <td>mg</td>\n",
       "    </tr>\n",
       "    <tr>\n",
       "      <th>Potassium, K</th>\n",
       "      <td>150.000</td>\n",
       "      <td>mg</td>\n",
       "    </tr>\n",
       "    <tr>\n",
       "      <th>Protein</th>\n",
       "      <td>9.730</td>\n",
       "      <td>g</td>\n",
       "    </tr>\n",
       "    <tr>\n",
       "      <th>Riboflavin</th>\n",
       "      <td>1.204</td>\n",
       "      <td>mg</td>\n",
       "    </tr>\n",
       "    <tr>\n",
       "      <th>Sodium, Na</th>\n",
       "      <td>195.000</td>\n",
       "      <td>mg</td>\n",
       "    </tr>\n",
       "    <tr>\n",
       "      <th>Sugars, total including NLEA</th>\n",
       "      <td>0.000</td>\n",
       "      <td>g</td>\n",
       "    </tr>\n",
       "    <tr>\n",
       "      <th>Total lipid (fat)</th>\n",
       "      <td>0.000</td>\n",
       "      <td>g</td>\n",
       "    </tr>\n",
       "    <tr>\n",
       "      <th>Vitamin A, IU</th>\n",
       "      <td>885.000</td>\n",
       "      <td>IU</td>\n",
       "    </tr>\n",
       "    <tr>\n",
       "      <th>Vitamin B-12</th>\n",
       "      <td>0.530</td>\n",
       "      <td>µg</td>\n",
       "    </tr>\n",
       "    <tr>\n",
       "      <th>Vitamin B-6</th>\n",
       "      <td>0.142</td>\n",
       "      <td>mg</td>\n",
       "    </tr>\n",
       "    <tr>\n",
       "      <th>Vitamin C, total ascorbic acid</th>\n",
       "      <td>0.000</td>\n",
       "      <td>mg</td>\n",
       "    </tr>\n",
       "    <tr>\n",
       "      <th>Vitamin D (D2 + D3), International Units</th>\n",
       "      <td>53.000</td>\n",
       "      <td>IU</td>\n",
       "    </tr>\n",
       "    <tr>\n",
       "      <th>Zinc, Zn</th>\n",
       "      <td>1.060</td>\n",
       "      <td>mg</td>\n",
       "    </tr>\n",
       "  </tbody>\n",
       "</table>\n",
       "</div>"
      ],
      "text/plain": [
       "                                          Quantity Units\n",
       "Calcium, Ca                                 35.000    mg\n",
       "Carbohydrate, by difference                  1.770     g\n",
       "Cholesterol                                  4.000    mg\n",
       "Energy                                      53.000  kcal\n",
       "Fatty acids, total saturated                 0.000     g\n",
       "Fatty acids, total trans                     0.000     g\n",
       "Fiber, total dietary                         0.900     g\n",
       "Iron, Fe                                     1.590    mg\n",
       "Pantothenic acid                             1.327    mg\n",
       "Potassium, K                               150.000    mg\n",
       "Protein                                      9.730     g\n",
       "Riboflavin                                   1.204    mg\n",
       "Sodium, Na                                 195.000    mg\n",
       "Sugars, total including NLEA                 0.000     g\n",
       "Total lipid (fat)                            0.000     g\n",
       "Vitamin A, IU                              885.000    IU\n",
       "Vitamin B-12                                 0.530    µg\n",
       "Vitamin B-6                                  0.142    mg\n",
       "Vitamin C, total ascorbic acid               0.000    mg\n",
       "Vitamin D (D2 + D3), International Units    53.000    IU\n",
       "Zinc, Zn                                     1.060    mg"
      ]
     },
     "execution_count": 8,
     "metadata": {},
     "output_type": "execute_result"
    }
   ],
   "source": [
    "id = 358339\n",
    "fdc.nutrients(apikey[user],fdc_id=id)"
   ]
  },
  {
   "cell_type": "markdown",
   "metadata": {},
   "source": [
    "### Compile data on food prices\n",
    "\n"
   ]
  },
  {
   "cell_type": "code",
   "execution_count": 9,
   "metadata": {},
   "outputs": [
    {
     "data": {
      "text/html": [
       "<div>\n",
       "<style scoped>\n",
       "    .dataframe tbody tr th:only-of-type {\n",
       "        vertical-align: middle;\n",
       "    }\n",
       "\n",
       "    .dataframe tbody tr th {\n",
       "        vertical-align: top;\n",
       "    }\n",
       "\n",
       "    .dataframe thead th {\n",
       "        text-align: right;\n",
       "    }\n",
       "</style>\n",
       "<table border=\"1\" class=\"dataframe\">\n",
       "  <thead>\n",
       "    <tr style=\"text-align: right;\">\n",
       "      <th></th>\n",
       "      <th>Food</th>\n",
       "      <th>Type</th>\n",
       "      <th>Price</th>\n",
       "      <th>Quantity</th>\n",
       "      <th>Units</th>\n",
       "      <th>Location</th>\n",
       "      <th>City</th>\n",
       "      <th>FDC</th>\n",
       "    </tr>\n",
       "  </thead>\n",
       "  <tbody>\n",
       "    <tr>\n",
       "      <th>0</th>\n",
       "      <td>Ground Turkey</td>\n",
       "      <td>Protein</td>\n",
       "      <td>0.4369</td>\n",
       "      <td>1.00</td>\n",
       "      <td>ounce</td>\n",
       "      <td>Whole Foods</td>\n",
       "      <td>Berkeley</td>\n",
       "      <td>402531</td>\n",
       "    </tr>\n",
       "    <tr>\n",
       "      <th>1</th>\n",
       "      <td>Ground Turkey</td>\n",
       "      <td>Protein</td>\n",
       "      <td>6.4900</td>\n",
       "      <td>1.00</td>\n",
       "      <td>lbs</td>\n",
       "      <td>Berkeley Bowl</td>\n",
       "      <td>Berkeley</td>\n",
       "      <td>402531</td>\n",
       "    </tr>\n",
       "    <tr>\n",
       "      <th>2</th>\n",
       "      <td>Ground Turkey</td>\n",
       "      <td>Protein</td>\n",
       "      <td>4.4900</td>\n",
       "      <td>1.00</td>\n",
       "      <td>lbs</td>\n",
       "      <td>Trader Joe's</td>\n",
       "      <td>Berkeley</td>\n",
       "      <td>402531</td>\n",
       "    </tr>\n",
       "    <tr>\n",
       "      <th>3</th>\n",
       "      <td>Ground Turkey</td>\n",
       "      <td>Protein</td>\n",
       "      <td>2.5000</td>\n",
       "      <td>1.00</td>\n",
       "      <td>lbs</td>\n",
       "      <td>Foods Co</td>\n",
       "      <td>Richmond</td>\n",
       "      <td>402531</td>\n",
       "    </tr>\n",
       "    <tr>\n",
       "      <th>4</th>\n",
       "      <td>Legumes(Lentils)</td>\n",
       "      <td>Protein</td>\n",
       "      <td>0.1000</td>\n",
       "      <td>1.00</td>\n",
       "      <td>ounce</td>\n",
       "      <td>Whole Foods</td>\n",
       "      <td>Berkeley</td>\n",
       "      <td>402024</td>\n",
       "    </tr>\n",
       "    <tr>\n",
       "      <th>5</th>\n",
       "      <td>Legumes(Lentils)</td>\n",
       "      <td>Protein</td>\n",
       "      <td>2.7900</td>\n",
       "      <td>1.00</td>\n",
       "      <td>lbs</td>\n",
       "      <td>Berkeley Bowl</td>\n",
       "      <td>Berkeley</td>\n",
       "      <td>402024</td>\n",
       "    </tr>\n",
       "    <tr>\n",
       "      <th>6</th>\n",
       "      <td>Legumes(Lentils)</td>\n",
       "      <td>Protein</td>\n",
       "      <td>NaN</td>\n",
       "      <td>NaN</td>\n",
       "      <td>NaN</td>\n",
       "      <td>Trader Joe's</td>\n",
       "      <td>Berkeley</td>\n",
       "      <td>402024</td>\n",
       "    </tr>\n",
       "    <tr>\n",
       "      <th>7</th>\n",
       "      <td>Legumes(Lentils)</td>\n",
       "      <td>Protein</td>\n",
       "      <td>1.4900</td>\n",
       "      <td>1.00</td>\n",
       "      <td>lbs</td>\n",
       "      <td>Foods Co</td>\n",
       "      <td>Richmond</td>\n",
       "      <td>402024</td>\n",
       "    </tr>\n",
       "    <tr>\n",
       "      <th>8</th>\n",
       "      <td>Eggs</td>\n",
       "      <td>Protein</td>\n",
       "      <td>2.9900</td>\n",
       "      <td>12.00</td>\n",
       "      <td>eggs</td>\n",
       "      <td>Whole Foods</td>\n",
       "      <td>Berkeley</td>\n",
       "      <td>358339</td>\n",
       "    </tr>\n",
       "    <tr>\n",
       "      <th>9</th>\n",
       "      <td>Eggs</td>\n",
       "      <td>Protein</td>\n",
       "      <td>3.4900</td>\n",
       "      <td>12.00</td>\n",
       "      <td>eggs</td>\n",
       "      <td>Berkeley Bowl</td>\n",
       "      <td>Berkeley</td>\n",
       "      <td>358339</td>\n",
       "    </tr>\n",
       "    <tr>\n",
       "      <th>10</th>\n",
       "      <td>Eggs</td>\n",
       "      <td>Protein</td>\n",
       "      <td>1.9900</td>\n",
       "      <td>12.00</td>\n",
       "      <td>eggs</td>\n",
       "      <td>Trader Joe's</td>\n",
       "      <td>Berkeley</td>\n",
       "      <td>358339</td>\n",
       "    </tr>\n",
       "    <tr>\n",
       "      <th>11</th>\n",
       "      <td>Eggs</td>\n",
       "      <td>Protein</td>\n",
       "      <td>1.9900</td>\n",
       "      <td>12.00</td>\n",
       "      <td>eggs</td>\n",
       "      <td>Foods Co</td>\n",
       "      <td>Richmond</td>\n",
       "      <td>358339</td>\n",
       "    </tr>\n",
       "    <tr>\n",
       "      <th>12</th>\n",
       "      <td>Wild Salmon</td>\n",
       "      <td>Protein</td>\n",
       "      <td>12.9900</td>\n",
       "      <td>1.00</td>\n",
       "      <td>lbs</td>\n",
       "      <td>Whole Foods</td>\n",
       "      <td>Berkeley</td>\n",
       "      <td>388511</td>\n",
       "    </tr>\n",
       "    <tr>\n",
       "      <th>13</th>\n",
       "      <td>Wild Salmon</td>\n",
       "      <td>Protein</td>\n",
       "      <td>14.9900</td>\n",
       "      <td>1.00</td>\n",
       "      <td>lbs</td>\n",
       "      <td>Berkeley Bowl</td>\n",
       "      <td>Berkeley</td>\n",
       "      <td>388511</td>\n",
       "    </tr>\n",
       "    <tr>\n",
       "      <th>14</th>\n",
       "      <td>Wild Salmon</td>\n",
       "      <td>Protein</td>\n",
       "      <td>9.9900</td>\n",
       "      <td>1.00</td>\n",
       "      <td>lbs</td>\n",
       "      <td>Trader Joe's</td>\n",
       "      <td>Berkeley</td>\n",
       "      <td>388511</td>\n",
       "    </tr>\n",
       "    <tr>\n",
       "      <th>15</th>\n",
       "      <td>Wild Salmon</td>\n",
       "      <td>Protein</td>\n",
       "      <td>7.9900</td>\n",
       "      <td>1.00</td>\n",
       "      <td>lbs</td>\n",
       "      <td>Foods Co</td>\n",
       "      <td>Richmond</td>\n",
       "      <td>388511</td>\n",
       "    </tr>\n",
       "    <tr>\n",
       "      <th>16</th>\n",
       "      <td>Scallop</td>\n",
       "      <td>Protein</td>\n",
       "      <td>22.9900</td>\n",
       "      <td>1.00</td>\n",
       "      <td>lbs</td>\n",
       "      <td>Whole Foods</td>\n",
       "      <td>Berkeley</td>\n",
       "      <td>343572</td>\n",
       "    </tr>\n",
       "    <tr>\n",
       "      <th>17</th>\n",
       "      <td>Scallop</td>\n",
       "      <td>Protein</td>\n",
       "      <td>23.9900</td>\n",
       "      <td>1.00</td>\n",
       "      <td>lbs</td>\n",
       "      <td>Berkeley Bowl</td>\n",
       "      <td>Berkeley</td>\n",
       "      <td>343572</td>\n",
       "    </tr>\n",
       "    <tr>\n",
       "      <th>18</th>\n",
       "      <td>Scallop</td>\n",
       "      <td>Protein</td>\n",
       "      <td>17.9900</td>\n",
       "      <td>1.00</td>\n",
       "      <td>lbs</td>\n",
       "      <td>Trader Joe's</td>\n",
       "      <td>Berkeley</td>\n",
       "      <td>343572</td>\n",
       "    </tr>\n",
       "    <tr>\n",
       "      <th>19</th>\n",
       "      <td>Scallop</td>\n",
       "      <td>Protein</td>\n",
       "      <td>NaN</td>\n",
       "      <td>NaN</td>\n",
       "      <td>NaN</td>\n",
       "      <td>Foods Co</td>\n",
       "      <td>Richmond</td>\n",
       "      <td>343572</td>\n",
       "    </tr>\n",
       "    <tr>\n",
       "      <th>20</th>\n",
       "      <td>Shrimp</td>\n",
       "      <td>Protein</td>\n",
       "      <td>9.9900</td>\n",
       "      <td>1.00</td>\n",
       "      <td>lbs</td>\n",
       "      <td>Whole Foods</td>\n",
       "      <td>Berkeley</td>\n",
       "      <td>452111</td>\n",
       "    </tr>\n",
       "    <tr>\n",
       "      <th>21</th>\n",
       "      <td>Shrimp</td>\n",
       "      <td>Protein</td>\n",
       "      <td>11.9900</td>\n",
       "      <td>1.00</td>\n",
       "      <td>lbs</td>\n",
       "      <td>Berkeley Bowl</td>\n",
       "      <td>Berkeley</td>\n",
       "      <td>452111</td>\n",
       "    </tr>\n",
       "    <tr>\n",
       "      <th>22</th>\n",
       "      <td>Shrimp</td>\n",
       "      <td>Protein</td>\n",
       "      <td>9.9900</td>\n",
       "      <td>1.00</td>\n",
       "      <td>lbs</td>\n",
       "      <td>Trader Joe's</td>\n",
       "      <td>Berkeley</td>\n",
       "      <td>452111</td>\n",
       "    </tr>\n",
       "    <tr>\n",
       "      <th>23</th>\n",
       "      <td>Shrimp</td>\n",
       "      <td>Protein</td>\n",
       "      <td>9.7900</td>\n",
       "      <td>1.00</td>\n",
       "      <td>lbs</td>\n",
       "      <td>Foods Co</td>\n",
       "      <td>Richmond</td>\n",
       "      <td>452111</td>\n",
       "    </tr>\n",
       "    <tr>\n",
       "      <th>24</th>\n",
       "      <td>Milk</td>\n",
       "      <td>Protein</td>\n",
       "      <td>5.9900</td>\n",
       "      <td>1.00</td>\n",
       "      <td>gallon</td>\n",
       "      <td>Whole Foods</td>\n",
       "      <td>Berkeley</td>\n",
       "      <td>576507</td>\n",
       "    </tr>\n",
       "    <tr>\n",
       "      <th>25</th>\n",
       "      <td>Milk</td>\n",
       "      <td>Protein</td>\n",
       "      <td>2.9900</td>\n",
       "      <td>0.50</td>\n",
       "      <td>gallon</td>\n",
       "      <td>Berkeley Bowl</td>\n",
       "      <td>Berkeley</td>\n",
       "      <td>576507</td>\n",
       "    </tr>\n",
       "    <tr>\n",
       "      <th>26</th>\n",
       "      <td>Milk</td>\n",
       "      <td>Protein</td>\n",
       "      <td>6.9800</td>\n",
       "      <td>1.00</td>\n",
       "      <td>gallon</td>\n",
       "      <td>Trader Joe's</td>\n",
       "      <td>Berkeley</td>\n",
       "      <td>576507</td>\n",
       "    </tr>\n",
       "    <tr>\n",
       "      <th>27</th>\n",
       "      <td>Milk</td>\n",
       "      <td>Protein</td>\n",
       "      <td>3.2900</td>\n",
       "      <td>1.00</td>\n",
       "      <td>gallon</td>\n",
       "      <td>Foods Co</td>\n",
       "      <td>Richmond</td>\n",
       "      <td>576507</td>\n",
       "    </tr>\n",
       "    <tr>\n",
       "      <th>28</th>\n",
       "      <td>Yogurt</td>\n",
       "      <td>Protein</td>\n",
       "      <td>0.8900</td>\n",
       "      <td>6.00</td>\n",
       "      <td>ounce</td>\n",
       "      <td>Berkeley Bowl</td>\n",
       "      <td>Berkeley</td>\n",
       "      <td>542027</td>\n",
       "    </tr>\n",
       "    <tr>\n",
       "      <th>29</th>\n",
       "      <td>Yogurt</td>\n",
       "      <td>Protein</td>\n",
       "      <td>0.1400</td>\n",
       "      <td>1.00</td>\n",
       "      <td>ounce</td>\n",
       "      <td>Whole Foods</td>\n",
       "      <td>Berkeley</td>\n",
       "      <td>482381</td>\n",
       "    </tr>\n",
       "    <tr>\n",
       "      <th>...</th>\n",
       "      <td>...</td>\n",
       "      <td>...</td>\n",
       "      <td>...</td>\n",
       "      <td>...</td>\n",
       "      <td>...</td>\n",
       "      <td>...</td>\n",
       "      <td>...</td>\n",
       "      <td>...</td>\n",
       "    </tr>\n",
       "    <tr>\n",
       "      <th>138</th>\n",
       "      <td>Quinoa</td>\n",
       "      <td>Carbohydrate</td>\n",
       "      <td>3.9900</td>\n",
       "      <td>1.00</td>\n",
       "      <td>lbs</td>\n",
       "      <td>Trader's Joe</td>\n",
       "      <td>Berkeley</td>\n",
       "      <td>487393</td>\n",
       "    </tr>\n",
       "    <tr>\n",
       "      <th>139</th>\n",
       "      <td>Quinoa</td>\n",
       "      <td>Carbohydrate</td>\n",
       "      <td>3.2900</td>\n",
       "      <td>1.00</td>\n",
       "      <td>lbs</td>\n",
       "      <td>Foods Co</td>\n",
       "      <td>Richmond</td>\n",
       "      <td>487393</td>\n",
       "    </tr>\n",
       "    <tr>\n",
       "      <th>140</th>\n",
       "      <td>Steel-cut oatmeal</td>\n",
       "      <td>Carbohydrate</td>\n",
       "      <td>0.3265</td>\n",
       "      <td>1.00</td>\n",
       "      <td>ounce</td>\n",
       "      <td>Whole Foods</td>\n",
       "      <td>Berkeley</td>\n",
       "      <td>553513</td>\n",
       "    </tr>\n",
       "    <tr>\n",
       "      <th>141</th>\n",
       "      <td>Steel-cut oatmeal</td>\n",
       "      <td>Carbohydrate</td>\n",
       "      <td>2.9900</td>\n",
       "      <td>1.00</td>\n",
       "      <td>lbs</td>\n",
       "      <td>Berkeley Bowl</td>\n",
       "      <td>Berkeley</td>\n",
       "      <td>553513</td>\n",
       "    </tr>\n",
       "    <tr>\n",
       "      <th>142</th>\n",
       "      <td>Steel-cut oatmeal</td>\n",
       "      <td>Carbohydrate</td>\n",
       "      <td>NaN</td>\n",
       "      <td>NaN</td>\n",
       "      <td>NaN</td>\n",
       "      <td>Trader's Joe</td>\n",
       "      <td>Berkeley</td>\n",
       "      <td>553513</td>\n",
       "    </tr>\n",
       "    <tr>\n",
       "      <th>143</th>\n",
       "      <td>Steel-cut oatmeal</td>\n",
       "      <td>Carbohydrate</td>\n",
       "      <td>NaN</td>\n",
       "      <td>NaN</td>\n",
       "      <td>NaN</td>\n",
       "      <td>Foods Co</td>\n",
       "      <td>Richmond</td>\n",
       "      <td>553513</td>\n",
       "    </tr>\n",
       "    <tr>\n",
       "      <th>144</th>\n",
       "      <td>Chia Seed</td>\n",
       "      <td>Carbohydrate</td>\n",
       "      <td>5.4900</td>\n",
       "      <td>1.00</td>\n",
       "      <td>lbs</td>\n",
       "      <td>Whole Foods</td>\n",
       "      <td>Berkeley</td>\n",
       "      <td>588610</td>\n",
       "    </tr>\n",
       "    <tr>\n",
       "      <th>145</th>\n",
       "      <td>Chia Seed</td>\n",
       "      <td>Carbohydrate</td>\n",
       "      <td>4.2900</td>\n",
       "      <td>1.00</td>\n",
       "      <td>lbs</td>\n",
       "      <td>Berkeley Bowl</td>\n",
       "      <td>Berkeley</td>\n",
       "      <td>588610</td>\n",
       "    </tr>\n",
       "    <tr>\n",
       "      <th>146</th>\n",
       "      <td>Chia Seed</td>\n",
       "      <td>Carbohydrate</td>\n",
       "      <td>NaN</td>\n",
       "      <td>NaN</td>\n",
       "      <td>NaN</td>\n",
       "      <td>Trader's Joe</td>\n",
       "      <td>Berkeley</td>\n",
       "      <td>588610</td>\n",
       "    </tr>\n",
       "    <tr>\n",
       "      <th>147</th>\n",
       "      <td>Chia Seed</td>\n",
       "      <td>Carbohydrate</td>\n",
       "      <td>NaN</td>\n",
       "      <td>NaN</td>\n",
       "      <td>NaN</td>\n",
       "      <td>Foods Co</td>\n",
       "      <td>Richmond</td>\n",
       "      <td>588610</td>\n",
       "    </tr>\n",
       "    <tr>\n",
       "      <th>148</th>\n",
       "      <td>Salt</td>\n",
       "      <td>Spices</td>\n",
       "      <td>1.6900</td>\n",
       "      <td>1.00</td>\n",
       "      <td>lbs</td>\n",
       "      <td>Whole Foods</td>\n",
       "      <td>Berkeley</td>\n",
       "      <td>554984</td>\n",
       "    </tr>\n",
       "    <tr>\n",
       "      <th>149</th>\n",
       "      <td>Salt</td>\n",
       "      <td>Spices</td>\n",
       "      <td>1.3900</td>\n",
       "      <td>1.00</td>\n",
       "      <td>lbs</td>\n",
       "      <td>Berkeley Bowl</td>\n",
       "      <td>Berkeley</td>\n",
       "      <td>554984</td>\n",
       "    </tr>\n",
       "    <tr>\n",
       "      <th>150</th>\n",
       "      <td>Salt</td>\n",
       "      <td>Spices</td>\n",
       "      <td>1.6900</td>\n",
       "      <td>1.00</td>\n",
       "      <td>lbs</td>\n",
       "      <td>Trader's Joe</td>\n",
       "      <td>Berkeley</td>\n",
       "      <td>554984</td>\n",
       "    </tr>\n",
       "    <tr>\n",
       "      <th>151</th>\n",
       "      <td>Salt</td>\n",
       "      <td>Spices</td>\n",
       "      <td>NaN</td>\n",
       "      <td>NaN</td>\n",
       "      <td>NaN</td>\n",
       "      <td>Foods Co</td>\n",
       "      <td>Richmond</td>\n",
       "      <td>554984</td>\n",
       "    </tr>\n",
       "    <tr>\n",
       "      <th>152</th>\n",
       "      <td>Pepper</td>\n",
       "      <td>Spices</td>\n",
       "      <td>3.9900</td>\n",
       "      <td>1.80</td>\n",
       "      <td>ounce</td>\n",
       "      <td>Whole Foods</td>\n",
       "      <td>Berkeley</td>\n",
       "      <td>777846</td>\n",
       "    </tr>\n",
       "    <tr>\n",
       "      <th>153</th>\n",
       "      <td>Pepper</td>\n",
       "      <td>Spices</td>\n",
       "      <td>2.9900</td>\n",
       "      <td>28.00</td>\n",
       "      <td>grams</td>\n",
       "      <td>Berkeley Bowl</td>\n",
       "      <td>Berkeley</td>\n",
       "      <td>777846</td>\n",
       "    </tr>\n",
       "    <tr>\n",
       "      <th>154</th>\n",
       "      <td>Pepper</td>\n",
       "      <td>Spices</td>\n",
       "      <td>1.9900</td>\n",
       "      <td>2.12</td>\n",
       "      <td>ounce</td>\n",
       "      <td>Trader Joe's</td>\n",
       "      <td>Berkeley</td>\n",
       "      <td>777846</td>\n",
       "    </tr>\n",
       "    <tr>\n",
       "      <th>155</th>\n",
       "      <td>Pepper</td>\n",
       "      <td>Spices</td>\n",
       "      <td>NaN</td>\n",
       "      <td>NaN</td>\n",
       "      <td>NaN</td>\n",
       "      <td>Foods Co</td>\n",
       "      <td>Berkeley</td>\n",
       "      <td>777846</td>\n",
       "    </tr>\n",
       "    <tr>\n",
       "      <th>156</th>\n",
       "      <td>Olive Oil</td>\n",
       "      <td>Spices</td>\n",
       "      <td>21.4900</td>\n",
       "      <td>1.00</td>\n",
       "      <td>liter</td>\n",
       "      <td>Whole Foods</td>\n",
       "      <td>Berkeley</td>\n",
       "      <td>436593</td>\n",
       "    </tr>\n",
       "    <tr>\n",
       "      <th>157</th>\n",
       "      <td>Olive Oil</td>\n",
       "      <td>Spices</td>\n",
       "      <td>9.9900</td>\n",
       "      <td>750.00</td>\n",
       "      <td>ml</td>\n",
       "      <td>Berkeley Bowl</td>\n",
       "      <td>Berkeley</td>\n",
       "      <td>436593</td>\n",
       "    </tr>\n",
       "    <tr>\n",
       "      <th>158</th>\n",
       "      <td>Olive Oil</td>\n",
       "      <td>Spices</td>\n",
       "      <td>5.9900</td>\n",
       "      <td>1.00</td>\n",
       "      <td>liter</td>\n",
       "      <td>Trader Joe's</td>\n",
       "      <td>Berkeley</td>\n",
       "      <td>436593</td>\n",
       "    </tr>\n",
       "    <tr>\n",
       "      <th>159</th>\n",
       "      <td>Olive Oil</td>\n",
       "      <td>Spices</td>\n",
       "      <td>NaN</td>\n",
       "      <td>NaN</td>\n",
       "      <td>NaN</td>\n",
       "      <td>Foods Co</td>\n",
       "      <td>Richmond</td>\n",
       "      <td>436593</td>\n",
       "    </tr>\n",
       "    <tr>\n",
       "      <th>160</th>\n",
       "      <td>While Balsamic Vinegar</td>\n",
       "      <td>Spices</td>\n",
       "      <td>2.4900</td>\n",
       "      <td>1.00</td>\n",
       "      <td>quart</td>\n",
       "      <td>Whole Foods</td>\n",
       "      <td>Berkeley</td>\n",
       "      <td>738378</td>\n",
       "    </tr>\n",
       "    <tr>\n",
       "      <th>161</th>\n",
       "      <td>While Balsamic Vinegar</td>\n",
       "      <td>Spices</td>\n",
       "      <td>10.9900</td>\n",
       "      <td>750.00</td>\n",
       "      <td>ml</td>\n",
       "      <td>Berkeley Bowl</td>\n",
       "      <td>Berkeley</td>\n",
       "      <td>738378</td>\n",
       "    </tr>\n",
       "    <tr>\n",
       "      <th>162</th>\n",
       "      <td>While Balsamic Vinegar</td>\n",
       "      <td>Spices</td>\n",
       "      <td>2.2900</td>\n",
       "      <td>500.00</td>\n",
       "      <td>ml</td>\n",
       "      <td>Trader Joe's</td>\n",
       "      <td>Berkeley</td>\n",
       "      <td>738378</td>\n",
       "    </tr>\n",
       "    <tr>\n",
       "      <th>163</th>\n",
       "      <td>While Balsamic Vinegar</td>\n",
       "      <td>Spices</td>\n",
       "      <td>NaN</td>\n",
       "      <td>NaN</td>\n",
       "      <td>NaN</td>\n",
       "      <td>Foods Co</td>\n",
       "      <td>Richmond</td>\n",
       "      <td>738378</td>\n",
       "    </tr>\n",
       "    <tr>\n",
       "      <th>164</th>\n",
       "      <td>Cinnamon</td>\n",
       "      <td>Spices</td>\n",
       "      <td>1.4950</td>\n",
       "      <td>1.00</td>\n",
       "      <td>ounce</td>\n",
       "      <td>Whole Foods</td>\n",
       "      <td>Berkeley</td>\n",
       "      <td>545150</td>\n",
       "    </tr>\n",
       "    <tr>\n",
       "      <th>165</th>\n",
       "      <td>Cinnamon</td>\n",
       "      <td>Spices</td>\n",
       "      <td>7.9900</td>\n",
       "      <td>1.00</td>\n",
       "      <td>lbs</td>\n",
       "      <td>Berkeley Bowl</td>\n",
       "      <td>Berkeley</td>\n",
       "      <td>545150</td>\n",
       "    </tr>\n",
       "    <tr>\n",
       "      <th>166</th>\n",
       "      <td>Cinnamon</td>\n",
       "      <td>Spices</td>\n",
       "      <td>1.9900</td>\n",
       "      <td>1.50</td>\n",
       "      <td>ounce</td>\n",
       "      <td>Trader Joe's</td>\n",
       "      <td>Berkeley</td>\n",
       "      <td>545150</td>\n",
       "    </tr>\n",
       "    <tr>\n",
       "      <th>167</th>\n",
       "      <td>Cinnamon</td>\n",
       "      <td>Spices</td>\n",
       "      <td>NaN</td>\n",
       "      <td>NaN</td>\n",
       "      <td>NaN</td>\n",
       "      <td>Foods Co</td>\n",
       "      <td>Richmond</td>\n",
       "      <td>545150</td>\n",
       "    </tr>\n",
       "  </tbody>\n",
       "</table>\n",
       "<p>168 rows × 8 columns</p>\n",
       "</div>"
      ],
      "text/plain": [
       "                       Food          Type    Price  Quantity   Units  \\\n",
       "0             Ground Turkey       Protein   0.4369      1.00   ounce   \n",
       "1             Ground Turkey       Protein   6.4900      1.00     lbs   \n",
       "2             Ground Turkey       Protein   4.4900      1.00     lbs   \n",
       "3             Ground Turkey       Protein   2.5000      1.00     lbs   \n",
       "4          Legumes(Lentils)       Protein   0.1000      1.00   ounce   \n",
       "5          Legumes(Lentils)       Protein   2.7900      1.00     lbs   \n",
       "6          Legumes(Lentils)       Protein      NaN       NaN     NaN   \n",
       "7          Legumes(Lentils)       Protein   1.4900      1.00     lbs   \n",
       "8                      Eggs       Protein   2.9900     12.00    eggs   \n",
       "9                      Eggs       Protein   3.4900     12.00    eggs   \n",
       "10                     Eggs       Protein   1.9900     12.00    eggs   \n",
       "11                     Eggs       Protein   1.9900     12.00    eggs   \n",
       "12              Wild Salmon       Protein  12.9900      1.00     lbs   \n",
       "13              Wild Salmon       Protein  14.9900      1.00     lbs   \n",
       "14              Wild Salmon       Protein   9.9900      1.00     lbs   \n",
       "15              Wild Salmon       Protein   7.9900      1.00     lbs   \n",
       "16                  Scallop       Protein  22.9900      1.00     lbs   \n",
       "17                  Scallop       Protein  23.9900      1.00     lbs   \n",
       "18                  Scallop       Protein  17.9900      1.00     lbs   \n",
       "19                  Scallop       Protein      NaN       NaN     NaN   \n",
       "20                   Shrimp       Protein   9.9900      1.00     lbs   \n",
       "21                   Shrimp       Protein  11.9900      1.00     lbs   \n",
       "22                   Shrimp       Protein   9.9900      1.00     lbs   \n",
       "23                   Shrimp       Protein   9.7900      1.00     lbs   \n",
       "24                     Milk       Protein   5.9900      1.00  gallon   \n",
       "25                     Milk       Protein   2.9900      0.50  gallon   \n",
       "26                     Milk       Protein   6.9800      1.00  gallon   \n",
       "27                     Milk       Protein   3.2900      1.00  gallon   \n",
       "28                   Yogurt       Protein   0.8900      6.00   ounce   \n",
       "29                   Yogurt       Protein   0.1400      1.00   ounce   \n",
       "..                      ...           ...      ...       ...     ...   \n",
       "138                  Quinoa  Carbohydrate   3.9900      1.00     lbs   \n",
       "139                  Quinoa  Carbohydrate   3.2900      1.00     lbs   \n",
       "140       Steel-cut oatmeal  Carbohydrate   0.3265      1.00   ounce   \n",
       "141       Steel-cut oatmeal  Carbohydrate   2.9900      1.00     lbs   \n",
       "142       Steel-cut oatmeal  Carbohydrate      NaN       NaN     NaN   \n",
       "143       Steel-cut oatmeal  Carbohydrate      NaN       NaN     NaN   \n",
       "144               Chia Seed  Carbohydrate   5.4900      1.00     lbs   \n",
       "145               Chia Seed  Carbohydrate   4.2900      1.00     lbs   \n",
       "146               Chia Seed  Carbohydrate      NaN       NaN     NaN   \n",
       "147               Chia Seed  Carbohydrate      NaN       NaN     NaN   \n",
       "148                    Salt        Spices   1.6900      1.00     lbs   \n",
       "149                    Salt        Spices   1.3900      1.00     lbs   \n",
       "150                    Salt        Spices   1.6900      1.00     lbs   \n",
       "151                    Salt        Spices      NaN       NaN     NaN   \n",
       "152                  Pepper        Spices   3.9900      1.80   ounce   \n",
       "153                  Pepper        Spices   2.9900     28.00   grams   \n",
       "154                  Pepper        Spices   1.9900      2.12   ounce   \n",
       "155                  Pepper        Spices      NaN       NaN     NaN   \n",
       "156               Olive Oil        Spices  21.4900      1.00   liter   \n",
       "157               Olive Oil        Spices   9.9900    750.00      ml   \n",
       "158               Olive Oil        Spices   5.9900      1.00   liter   \n",
       "159               Olive Oil        Spices      NaN       NaN     NaN   \n",
       "160  While Balsamic Vinegar        Spices   2.4900      1.00   quart   \n",
       "161  While Balsamic Vinegar        Spices  10.9900    750.00      ml   \n",
       "162  While Balsamic Vinegar        Spices   2.2900    500.00      ml   \n",
       "163  While Balsamic Vinegar        Spices      NaN       NaN     NaN   \n",
       "164                Cinnamon        Spices   1.4950      1.00   ounce   \n",
       "165                Cinnamon        Spices   7.9900      1.00     lbs   \n",
       "166                Cinnamon        Spices   1.9900      1.50   ounce   \n",
       "167                Cinnamon        Spices      NaN       NaN     NaN   \n",
       "\n",
       "          Location      City     FDC  \n",
       "0      Whole Foods  Berkeley  402531  \n",
       "1    Berkeley Bowl  Berkeley  402531  \n",
       "2     Trader Joe's  Berkeley  402531  \n",
       "3         Foods Co  Richmond  402531  \n",
       "4      Whole Foods  Berkeley  402024  \n",
       "5    Berkeley Bowl  Berkeley  402024  \n",
       "6     Trader Joe's  Berkeley  402024  \n",
       "7         Foods Co  Richmond  402024  \n",
       "8      Whole Foods  Berkeley  358339  \n",
       "9    Berkeley Bowl  Berkeley  358339  \n",
       "10    Trader Joe's  Berkeley  358339  \n",
       "11        Foods Co  Richmond  358339  \n",
       "12     Whole Foods  Berkeley  388511  \n",
       "13   Berkeley Bowl  Berkeley  388511  \n",
       "14    Trader Joe's  Berkeley  388511  \n",
       "15        Foods Co  Richmond  388511  \n",
       "16     Whole Foods  Berkeley  343572  \n",
       "17   Berkeley Bowl  Berkeley  343572  \n",
       "18    Trader Joe's  Berkeley  343572  \n",
       "19        Foods Co  Richmond  343572  \n",
       "20     Whole Foods  Berkeley  452111  \n",
       "21   Berkeley Bowl  Berkeley  452111  \n",
       "22    Trader Joe's  Berkeley  452111  \n",
       "23        Foods Co  Richmond  452111  \n",
       "24     Whole Foods  Berkeley  576507  \n",
       "25   Berkeley Bowl  Berkeley  576507  \n",
       "26    Trader Joe's  Berkeley  576507  \n",
       "27        Foods Co  Richmond  576507  \n",
       "28   Berkeley Bowl  Berkeley  542027  \n",
       "29     Whole Foods  Berkeley  482381  \n",
       "..             ...       ...     ...  \n",
       "138   Trader's Joe  Berkeley  487393  \n",
       "139       Foods Co  Richmond  487393  \n",
       "140    Whole Foods  Berkeley  553513  \n",
       "141  Berkeley Bowl  Berkeley  553513  \n",
       "142   Trader's Joe  Berkeley  553513  \n",
       "143       Foods Co  Richmond  553513  \n",
       "144    Whole Foods  Berkeley  588610  \n",
       "145  Berkeley Bowl  Berkeley  588610  \n",
       "146   Trader's Joe  Berkeley  588610  \n",
       "147       Foods Co  Richmond  588610  \n",
       "148    Whole Foods  Berkeley  554984  \n",
       "149  Berkeley Bowl  Berkeley  554984  \n",
       "150   Trader's Joe  Berkeley  554984  \n",
       "151       Foods Co  Richmond  554984  \n",
       "152    Whole Foods  Berkeley  777846  \n",
       "153  Berkeley Bowl  Berkeley  777846  \n",
       "154   Trader Joe's  Berkeley  777846  \n",
       "155      Foods Co   Berkeley  777846  \n",
       "156    Whole Foods  Berkeley  436593  \n",
       "157  Berkeley Bowl  Berkeley  436593  \n",
       "158  Trader Joe's   Berkeley  436593  \n",
       "159       Foods Co  Richmond  436593  \n",
       "160    Whole Foods  Berkeley  738378  \n",
       "161  Berkeley Bowl  Berkeley  738378  \n",
       "162  Trader Joe's   Berkeley  738378  \n",
       "163       Foods Co  Richmond  738378  \n",
       "164    Whole Foods  Berkeley  545150  \n",
       "165  Berkeley Bowl  Berkeley  545150  \n",
       "166  Trader Joe's   Berkeley  545150  \n",
       "167       Foods Co  Richmond  545150  \n",
       "\n",
       "[168 rows x 8 columns]"
      ]
     },
     "execution_count": 9,
     "metadata": {},
     "output_type": "execute_result"
    }
   ],
   "source": [
    "import pandas as pd\n",
    "import warnings\n",
    "\n",
    "df = pd.read_csv(\"PriceData.csv\")\n",
    "df"
   ]
  },
  {
   "cell_type": "markdown",
   "metadata": {},
   "source": [
    "### Get nutritional dataframe"
   ]
  },
  {
   "cell_type": "code",
   "execution_count": 10,
   "metadata": {},
   "outputs": [],
   "source": [
    "import fooddatacentral as fdc\n",
    "\n",
    "D = {}\n",
    "count = 0\n",
    "for food in  df.Food.tolist():\n",
    "    try:\n",
    "        FDC = df.loc[df.Food==food,:].FDC[count]\n",
    "        count+=1\n",
    "        D[food] = fdc.nutrients(apikey[user],FDC).Quantity\n",
    "    except AttributeError: \n",
    "        warnings.warn(\"Couldn't find FDC Code %s for food %s.\" % (food,FDC))        \n",
    "\n",
    "D = pd.DataFrame(D,dtype=float)"
   ]
  },
  {
   "cell_type": "markdown",
   "metadata": {},
   "source": [
    "### Determining Min Cost Daily Diet\n",
    "\n"
   ]
  },
  {
   "cell_type": "code",
   "execution_count": 11,
   "metadata": {},
   "outputs": [],
   "source": [
    "from  scipy.optimize import linprog as lp\n",
    "import numpy as np"
   ]
  },
  {
   "cell_type": "markdown",
   "metadata": {},
   "source": [
    "<strong> Options for ```location```: </strong>\n",
    "<br/>```\"all\"``` (will use all locations within the DataFrame)\n",
    "<br/>\n",
    "<br/> <em> Cities </em> \n",
    "<br/> ```\"Richmond\"``` (must make ```city=True```)\n",
    "<br/>```\"Berkeley\"``` (must make ```city=True```)\n",
    "<br/>\n",
    "<br/> <em> Grocery Stores </em> \n",
    "<br/>```\"Trader Joe's\"```\n",
    "<br/>```\"Whole Foods\"```\n",
    "<br/>```\"Foods Co\"```\n",
    "<br/>```\"Berkeley Bowl\"```"
   ]
  },
  {
   "cell_type": "code",
   "execution_count": 12,
   "metadata": {},
   "outputs": [],
   "source": [
    "def get_location_df(location, city):\n",
    "    # Convert food quantities to FDC units\n",
    "    df.dropna(how='any', inplace=True) # Drop food with any missing data\n",
    "    \n",
    "    if location == \"all\":\n",
    "        df_spliced = df.copy()\n",
    "    else:\n",
    "        if city == True:\n",
    "            df_spliced = df[df[\"City\"] == location]\n",
    "        else:\n",
    "            df_spliced = df[df[\"Location\"] == location] \n",
    "        \n",
    "\n",
    "    df_spliced['FDC Quantity'] = df_spliced[['Quantity','Units']].T.apply(lambda x : fdc.units(x['Quantity'],x['Units']))\n",
    "\n",
    "    # Now may want to filter df by time or place--need to get a unique set of food names.\n",
    "    df_spliced['FDC Price'] = df_spliced['Price']/df_spliced['FDC Quantity']\n",
    "\n",
    "    # To use minimum price observed\n",
    "    prices = df_spliced.groupby('Food')['FDC Price'].min()\n",
    "\n",
    "    return df_spliced, prices"
   ]
  },
  {
   "cell_type": "code",
   "execution_count": 13,
   "metadata": {},
   "outputs": [],
   "source": [
    "def get_age_sex_group(sex, age):\n",
    "    if ((age >= 1) and (age <= 3)):\n",
    "        group = \"C 1-3\"\n",
    "    elif ((age >= 4) and (age <= 8)):\n",
    "        group = \" 4-8\"\n",
    "        group = str(sex) + group\n",
    "    elif ((age >= 9) and (age <= 13)):\n",
    "        group = \" 9-13\"\n",
    "        group = str(sex) + group\n",
    "    elif ((age >= 14) and (age <= 18)):\n",
    "        group = \" 14-18\"\n",
    "        group = str(sex) + group\n",
    "    elif ((age >= 19) and (age <= 30)):\n",
    "        group = \" 19-30\"\n",
    "        group = str(sex) + group\n",
    "    elif ((age >= 31) and (age <= 50)):\n",
    "        group = \" 31-50\"\n",
    "        group = str(sex) + group\n",
    "    elif (age >= 51):\n",
    "        group = \" 51+\"\n",
    "        group = str(sex) + group\n",
    "    return group"
   ]
  },
  {
   "cell_type": "code",
   "execution_count": 14,
   "metadata": {},
   "outputs": [],
   "source": [
    "def min_cost_function(sex, age, location, city=False):\n",
    "    #Defining age-sex group\n",
    "    if age == 0:\n",
    "        raise ValueError(\"Age must be >= 1.\")\n",
    "    \n",
    "    group = get_age_sex_group(sex, age)\n",
    "    \n",
    "    foods, prices = get_location_df(location, city)\n",
    "    \n",
    "    # Define *minimums*\n",
    "    bmin = pd.read_csv('./diabetic_minimums.csv').set_index('Nutrition')[group]\n",
    "\n",
    "    # Define *maximums*\n",
    "    bmax = pd.read_csv('./diabetic_maximums.csv').set_index('Nutrition')[group]\n",
    "    \n",
    "    c = prices.apply(lambda x:x.magnitude).dropna()\n",
    "\n",
    "    # Compile list that we have both prices and nutritional info for; drop if either missing\n",
    "    use = list(set(c.index.tolist()).intersection(D.columns.tolist()))\n",
    "    c = c[use]\n",
    "    \n",
    "    # Drop nutritional information for foods we don't know the price of,\n",
    "    # and replace missing nutrients with zeros.\n",
    "    Aall = D[c.index].fillna(0)\n",
    "\n",
    "    # Drop rows of A that we don't have constraints for.\n",
    "    Amin = Aall.loc[bmin.index]\n",
    "\n",
    "    Amax = Aall.loc[bmax.index]\n",
    "\n",
    "    # Minimum requirements involve multiplying constraint by -1 to make <=.\n",
    "    A = pd.concat([Amin,-Amax])\n",
    "    \n",
    "    b = pd.concat([bmin,-bmax])\n",
    "    \n",
    "    tol = 1e-6 # Numbers in solution smaller than this (in absolute value) treated as zeros\n",
    "\n",
    "    result = lp(c, -A, -b, method='interior-point')\n",
    "\n",
    "    print(\"Cost of diet for %s is $%4.2f per day.\" % (group,result.fun))\n",
    "    \n",
    "    diet = pd.Series(result.x,index=c.index)\n",
    "\n",
    "    print(\"\\nYou'll be eating (in 100s of grams or milliliters):\")\n",
    "    print(diet[diet >= tol])  # Drop items with quantities less than precision of calculation.\n",
    "    \n",
    "    tab = pd.DataFrame({\"Outcome\":np.abs(A).dot(diet),\"Recommendation\":np.abs(b)})\n",
    "    print(\"\\nWith the following nutritional outcomes of interest:\")\n",
    "    print(tab)\n",
    "    print(\"\\nConstraining nutrients are:\")\n",
    "    excess = tab.diff(axis=1).iloc[:,1]\n",
    "    print(excess.loc[np.abs(excess) < tol].index.tolist())\n",
    "\n",
    "    return"
   ]
  },
  {
   "cell_type": "code",
   "execution_count": 16,
   "metadata": {},
   "outputs": [
    {
     "data": {
      "application/vnd.jupyter.widget-view+json": {
       "model_id": "e22dfc79afa84330ad15552cc0ec14be",
       "version_major": 2,
       "version_minor": 0
      },
      "text/plain": [
       "interactive(children=(Dropdown(description='sex', options=('M', 'F'), value='M'), IntSlider(value=60, descript…"
      ]
     },
     "metadata": {},
     "output_type": "display_data"
    }
   ],
   "source": [
    "@interact\n",
    "def min_cost_interactive(sex=[\"M\",\"F\"], age=(1, 120), location=\"all\", city=False):\n",
    "    return min_cost_function(sex, age, location, city)"
   ]
  },
  {
   "cell_type": "markdown",
   "metadata": {},
   "source": [
    "### Price Sensitivity"
   ]
  },
  {
   "cell_type": "code",
   "execution_count": 17,
   "metadata": {},
   "outputs": [
    {
     "name": "stdout",
     "output_type": "stream",
     "text": [
      "Requirement already satisfied: cufflinks in /srv/app/venv/lib/python3.6/site-packages\n",
      "Requirement already satisfied: ipython>=5.3.0 in /srv/app/venv/lib/python3.6/site-packages (from cufflinks)\n",
      "Requirement already satisfied: colorlover>=0.2.1 in /srv/app/venv/lib/python3.6/site-packages (from cufflinks)\n",
      "Requirement already satisfied: numpy>=1.9.2 in /srv/app/venv/lib/python3.6/site-packages (from cufflinks)\n",
      "Requirement already satisfied: ipywidgets>=7.0.0 in /srv/app/venv/lib/python3.6/site-packages (from cufflinks)\n",
      "Requirement already satisfied: setuptools>=34.4.1 in /srv/app/venv/lib/python3.6/site-packages (from cufflinks)\n",
      "Requirement already satisfied: plotly>=4.1.1 in /srv/app/venv/lib/python3.6/site-packages (from cufflinks)\n",
      "Requirement already satisfied: six>=1.9.0 in /srv/app/venv/lib/python3.6/site-packages (from cufflinks)\n",
      "Requirement already satisfied: pandas>=0.19.2 in /srv/app/venv/lib/python3.6/site-packages (from cufflinks)\n",
      "Requirement already satisfied: decorator in /srv/app/venv/lib/python3.6/site-packages (from ipython>=5.3.0->cufflinks)\n",
      "Requirement already satisfied: pygments in /srv/app/venv/lib/python3.6/site-packages (from ipython>=5.3.0->cufflinks)\n",
      "Requirement already satisfied: pickleshare in /srv/app/venv/lib/python3.6/site-packages (from ipython>=5.3.0->cufflinks)\n",
      "Requirement already satisfied: pexpect; sys_platform != \"win32\" in /srv/app/venv/lib/python3.6/site-packages (from ipython>=5.3.0->cufflinks)\n",
      "Requirement already satisfied: traitlets>=4.2 in /srv/app/venv/lib/python3.6/site-packages (from ipython>=5.3.0->cufflinks)\n",
      "Requirement already satisfied: prompt-toolkit!=3.0.0,!=3.0.1,<3.1.0,>=2.0.0 in /srv/app/venv/lib/python3.6/site-packages (from ipython>=5.3.0->cufflinks)\n",
      "Requirement already satisfied: backcall in /srv/app/venv/lib/python3.6/site-packages (from ipython>=5.3.0->cufflinks)\n",
      "Requirement already satisfied: jedi>=0.10 in /srv/app/venv/lib/python3.6/site-packages (from ipython>=5.3.0->cufflinks)\n",
      "Requirement already satisfied: ipykernel>=4.5.1 in /srv/app/venv/lib/python3.6/site-packages (from ipywidgets>=7.0.0->cufflinks)\n",
      "Requirement already satisfied: nbformat>=4.2.0 in /srv/app/venv/lib/python3.6/site-packages (from ipywidgets>=7.0.0->cufflinks)\n",
      "Requirement already satisfied: widgetsnbextension~=3.2.0 in /srv/app/venv/lib/python3.6/site-packages (from ipywidgets>=7.0.0->cufflinks)\n",
      "Requirement already satisfied: retrying>=1.3.3 in /srv/app/venv/lib/python3.6/site-packages (from plotly>=4.1.1->cufflinks)\n",
      "Requirement already satisfied: python-dateutil>=2.5.0 in /srv/app/venv/lib/python3.6/site-packages (from pandas>=0.19.2->cufflinks)\n",
      "Requirement already satisfied: pytz>=2011k in /srv/app/venv/lib/python3.6/site-packages (from pandas>=0.19.2->cufflinks)\n",
      "Requirement already satisfied: ptyprocess>=0.5 in /srv/app/venv/lib/python3.6/site-packages (from pexpect; sys_platform != \"win32\"->ipython>=5.3.0->cufflinks)\n",
      "Requirement already satisfied: ipython-genutils in /srv/app/venv/lib/python3.6/site-packages (from traitlets>=4.2->ipython>=5.3.0->cufflinks)\n",
      "Requirement already satisfied: wcwidth in /srv/app/venv/lib/python3.6/site-packages (from prompt-toolkit!=3.0.0,!=3.0.1,<3.1.0,>=2.0.0->ipython>=5.3.0->cufflinks)\n",
      "Requirement already satisfied: parso>=0.5.2 in /srv/app/venv/lib/python3.6/site-packages (from jedi>=0.10->ipython>=5.3.0->cufflinks)\n",
      "Requirement already satisfied: tornado>=4.2 in /srv/app/venv/lib/python3.6/site-packages (from ipykernel>=4.5.1->ipywidgets>=7.0.0->cufflinks)\n",
      "Requirement already satisfied: jupyter-client in /srv/app/venv/lib/python3.6/site-packages (from ipykernel>=4.5.1->ipywidgets>=7.0.0->cufflinks)\n",
      "Requirement already satisfied: jsonschema!=2.5.0,>=2.4 in /srv/app/venv/lib/python3.6/site-packages (from nbformat>=4.2.0->ipywidgets>=7.0.0->cufflinks)\n",
      "Requirement already satisfied: jupyter-core in /srv/app/venv/lib/python3.6/site-packages (from nbformat>=4.2.0->ipywidgets>=7.0.0->cufflinks)\n",
      "Requirement already satisfied: notebook>=4.4.1 in /srv/app/venv/lib/python3.6/site-packages (from widgetsnbextension~=3.2.0->ipywidgets>=7.0.0->cufflinks)\n",
      "Requirement already satisfied: pyzmq>=13 in /srv/app/venv/lib/python3.6/site-packages (from jupyter-client->ipykernel>=4.5.1->ipywidgets>=7.0.0->cufflinks)\n",
      "Requirement already satisfied: pyrsistent>=0.14.0 in /srv/app/venv/lib/python3.6/site-packages (from jsonschema!=2.5.0,>=2.4->nbformat>=4.2.0->ipywidgets>=7.0.0->cufflinks)\n",
      "Requirement already satisfied: importlib-metadata; python_version < \"3.8\" in /srv/app/venv/lib/python3.6/site-packages (from jsonschema!=2.5.0,>=2.4->nbformat>=4.2.0->ipywidgets>=7.0.0->cufflinks)\n",
      "Requirement already satisfied: attrs>=17.4.0 in /srv/app/venv/lib/python3.6/site-packages (from jsonschema!=2.5.0,>=2.4->nbformat>=4.2.0->ipywidgets>=7.0.0->cufflinks)\n",
      "Requirement already satisfied: jinja2 in /srv/app/venv/lib/python3.6/site-packages (from notebook>=4.4.1->widgetsnbextension~=3.2.0->ipywidgets>=7.0.0->cufflinks)\n",
      "Requirement already satisfied: prometheus-client in /srv/app/venv/lib/python3.6/site-packages (from notebook>=4.4.1->widgetsnbextension~=3.2.0->ipywidgets>=7.0.0->cufflinks)\n",
      "Requirement already satisfied: terminado>=0.8.1 in /srv/app/venv/lib/python3.6/site-packages (from notebook>=4.4.1->widgetsnbextension~=3.2.0->ipywidgets>=7.0.0->cufflinks)\n",
      "Requirement already satisfied: nbconvert in /srv/app/venv/lib/python3.6/site-packages (from notebook>=4.4.1->widgetsnbextension~=3.2.0->ipywidgets>=7.0.0->cufflinks)\n",
      "Requirement already satisfied: Send2Trash in /srv/app/venv/lib/python3.6/site-packages (from notebook>=4.4.1->widgetsnbextension~=3.2.0->ipywidgets>=7.0.0->cufflinks)\n",
      "Requirement already satisfied: zipp>=0.5 in /srv/app/venv/lib/python3.6/site-packages (from importlib-metadata; python_version < \"3.8\"->jsonschema!=2.5.0,>=2.4->nbformat>=4.2.0->ipywidgets>=7.0.0->cufflinks)\n",
      "Requirement already satisfied: MarkupSafe>=0.23 in /srv/app/venv/lib/python3.6/site-packages (from jinja2->notebook>=4.4.1->widgetsnbextension~=3.2.0->ipywidgets>=7.0.0->cufflinks)\n",
      "Requirement already satisfied: bleach in /srv/app/venv/lib/python3.6/site-packages (from nbconvert->notebook>=4.4.1->widgetsnbextension~=3.2.0->ipywidgets>=7.0.0->cufflinks)\n",
      "Requirement already satisfied: mistune<2,>=0.8.1 in /srv/app/venv/lib/python3.6/site-packages (from nbconvert->notebook>=4.4.1->widgetsnbextension~=3.2.0->ipywidgets>=7.0.0->cufflinks)\n",
      "Requirement already satisfied: pandocfilters>=1.4.1 in /srv/app/venv/lib/python3.6/site-packages (from nbconvert->notebook>=4.4.1->widgetsnbextension~=3.2.0->ipywidgets>=7.0.0->cufflinks)\n",
      "Requirement already satisfied: testpath in /srv/app/venv/lib/python3.6/site-packages (from nbconvert->notebook>=4.4.1->widgetsnbextension~=3.2.0->ipywidgets>=7.0.0->cufflinks)\n",
      "Requirement already satisfied: defusedxml in /srv/app/venv/lib/python3.6/site-packages (from nbconvert->notebook>=4.4.1->widgetsnbextension~=3.2.0->ipywidgets>=7.0.0->cufflinks)\n",
      "Requirement already satisfied: entrypoints>=0.2.2 in /srv/app/venv/lib/python3.6/site-packages (from nbconvert->notebook>=4.4.1->widgetsnbextension~=3.2.0->ipywidgets>=7.0.0->cufflinks)\n",
      "Requirement already satisfied: webencodings in /srv/app/venv/lib/python3.6/site-packages (from bleach->nbconvert->notebook>=4.4.1->widgetsnbextension~=3.2.0->ipywidgets>=7.0.0->cufflinks)\n",
      "\u001b[33mYou are using pip version 9.0.3, however version 20.0.2 is available.\n",
      "You should consider upgrading via the 'pip install --upgrade pip' command.\u001b[0m\n"
     ]
    },
    {
     "data": {
      "text/html": [
       "        <script type=\"text/javascript\">\n",
       "        window.PlotlyConfig = {MathJaxConfig: 'local'};\n",
       "        if (window.MathJax) {MathJax.Hub.Config({SVG: {font: \"STIX-Web\"}});}\n",
       "        if (typeof require !== 'undefined') {\n",
       "        require.undef(\"plotly\");\n",
       "        requirejs.config({\n",
       "            paths: {\n",
       "                'plotly': ['https://cdn.plot.ly/plotly-latest.min']\n",
       "            }\n",
       "        });\n",
       "        require(['plotly'], function(Plotly) {\n",
       "            window._Plotly = Plotly;\n",
       "        });\n",
       "        }\n",
       "        </script>\n",
       "        "
      ]
     },
     "metadata": {},
     "output_type": "display_data"
    }
   ],
   "source": [
    "!pip install cufflinks\n",
    "import cufflinks as cf\n",
    "cf.go_offline()"
   ]
  },
  {
   "cell_type": "code",
   "execution_count": 18,
   "metadata": {},
   "outputs": [],
   "source": [
    "df.dropna(how='any', inplace=True) # Drop food with any missing data\n",
    "\n",
    "# Convert food quantities to FDC units\n",
    "df['FDC Quantity'] = df[['Quantity','Units']].T.apply(lambda x : fdc.units(x['Quantity'],x['Units']))\n",
    "\n",
    "# Now may want to filter df by time or place--need to get a unique set of food names.\n",
    "df['FDC Price'] = df['Price']/df['FDC Quantity']\n",
    "\n",
    "# To use minimum price observed\n",
    "prices = df.groupby('Food',sort=False)['FDC Price'].min()"
   ]
  },
  {
   "cell_type": "code",
   "execution_count": 19,
   "metadata": {},
   "outputs": [],
   "source": [
    "def solve_subsistence_problem(nutrients, prices, sex, age, location, city=False, tol=1e-6):\n",
    "    #Defining age-sex group\n",
    "    if age == 0:\n",
    "        raise ValueError(\"Age must be >= 1.\")\n",
    "    \n",
    "    group = get_age_sex_group(sex, age)\n",
    "    \n",
    "    foods, _ = get_location_df(location, city)\n",
    "    \n",
    "    # Define *minimums*\n",
    "    bmin = pd.read_csv('./diabetic_minimums.csv').set_index('Nutrition')[group]\n",
    "\n",
    "    # Define *maximums*\n",
    "    bmax = pd.read_csv('./diabetic_maximums.csv').set_index('Nutrition')[group]\n",
    "    \n",
    "    c = prices.apply(lambda x:x.magnitude).dropna()\n",
    "\n",
    "    # Compile list that we have both prices and nutritional info for; drop if either missing\n",
    "    use = list(set(c.index.tolist()).intersection(nutrients.columns.tolist()))\n",
    "    c = c[use]\n",
    "    \n",
    "    # Drop nutritional information for foods we don't know the price of,\n",
    "    # and replace missing nutrients with zeros.\n",
    "    Aall = nutrients[c.index].fillna(0)\n",
    "\n",
    "    # Drop rows of A that we don't have constraints for.\n",
    "    Amin = Aall.loc[bmin.index]\n",
    "\n",
    "    Amax = Aall.loc[bmax.index]\n",
    "\n",
    "    # Minimum requirements involve multiplying constraint by -1 to make <=.\n",
    "    A = pd.concat([Amin,-Amax])\n",
    "    \n",
    "    b = pd.concat([bmin,-bmax])\n",
    "    \n",
    "    tol = 1e-6 # Numbers in solution smaller than this (in absolute value) treated as zeros\n",
    "\n",
    "    result = lp(c, -A, -b, method='interior-point')\n",
    "    \n",
    "    return result"
   ]
  },
  {
   "cell_type": "code",
   "execution_count": 20,
   "metadata": {},
   "outputs": [],
   "source": [
    "def sensitivity(sex, age, location, city=False):\n",
    "    scale = [.5,.6,.7,.8,.9,1.,1.1,1.2,1.3,1.4,1.5]\n",
    "    scale = [.5,1,2]\n",
    "\n",
    "    _, prices = get_location_df(location, city)\n",
    "\n",
    "    cost0 = solve_subsistence_problem(D,prices,sex,age,location,city).fun\n",
    "\n",
    "    Price_response={}\n",
    "    for s in scale:\n",
    "        cost = {}\n",
    "        for i,p in enumerate(prices):\n",
    "            my_p = prices.copy()\n",
    "            my_p[i] = p*s\n",
    "            result = solve_subsistence_problem(D,my_p,sex,age,location,city)\n",
    "            cost[prices.index[i]] = np.log(result.fun/cost0)\n",
    "        Price_response[np.log(s)] = cost\n",
    "\n",
    "    Price_response = pd.DataFrame(Price_response).T\n",
    "    Price_response\n",
    "    Price_response.iplot(xTitle='log price change',yTitle='log cost change')\n",
    "    return"
   ]
  },
  {
   "cell_type": "code",
   "execution_count": 21,
   "metadata": {},
   "outputs": [
    {
     "data": {
      "application/vnd.plotly.v1+json": {
       "config": {
        "linkText": "Export to plot.ly",
        "plotlyServerURL": "https://plot.ly",
        "showLink": true
       },
       "data": [
        {
         "line": {
          "color": "rgba(255, 153, 51, 1.0)",
          "dash": "solid",
          "shape": "linear",
          "width": 1.3
         },
         "mode": "lines",
         "name": "Apple",
         "text": "",
         "type": "scatter",
         "x": [
          -0.6931471805599453,
          0,
          0.6931471805599453
         ],
         "y": [
          -0.03344414433004265,
          0,
          0.06370894834921785
         ]
        },
        {
         "line": {
          "color": "rgba(55, 128, 191, 1.0)",
          "dash": "solid",
          "shape": "linear",
          "width": 1.3
         },
         "mode": "lines",
         "name": "Artichoke",
         "text": "",
         "type": "scatter",
         "x": [
          -0.6931471805599453,
          0,
          0.6931471805599453
         ],
         "y": [
          -8.609503114141135e-10,
          0,
          -2.4972668380761175e-10
         ]
        },
        {
         "line": {
          "color": "rgba(50, 171, 96, 1.0)",
          "dash": "solid",
          "shape": "linear",
          "width": 1.3
         },
         "mode": "lines",
         "name": "Asparagus",
         "text": "",
         "type": "scatter",
         "x": [
          -0.6931471805599453,
          0,
          0.6931471805599453
         ],
         "y": [
          8.002524178736614e-07,
          0,
          -8.206918481505157e-10
         ]
        },
        {
         "line": {
          "color": "rgba(128, 0, 128, 1.0)",
          "dash": "solid",
          "shape": "linear",
          "width": 1.3
         },
         "mode": "lines",
         "name": "Avacado",
         "text": "",
         "type": "scatter",
         "x": [
          -0.6931471805599453,
          0,
          0.6931471805599453
         ],
         "y": [
          1.7984906390022514e-07,
          0,
          -5.068504506274787e-10
         ]
        },
        {
         "line": {
          "color": "rgba(219, 64, 82, 1.0)",
          "dash": "solid",
          "shape": "linear",
          "width": 1.3
         },
         "mode": "lines",
         "name": "Blueberry",
         "text": "",
         "type": "scatter",
         "x": [
          -0.6931471805599453,
          0,
          0.6931471805599453
         ],
         "y": [
          -7.201239607219046e-10,
          0,
          7.605973625806761e-10
         ]
        },
        {
         "line": {
          "color": "rgba(0, 128, 128, 1.0)",
          "dash": "solid",
          "shape": "linear",
          "width": 1.3
         },
         "mode": "lines",
         "name": "Bok choy",
         "text": "",
         "type": "scatter",
         "x": [
          -0.6931471805599453,
          0,
          0.6931471805599453
         ],
         "y": [
          -0.05208293986612766,
          0,
          8.966130080555369e-08
         ]
        },
        {
         "line": {
          "color": "rgba(255, 255, 51, 1.0)",
          "dash": "solid",
          "shape": "linear",
          "width": 1.3
         },
         "mode": "lines",
         "name": "Broccoli",
         "text": "",
         "type": "scatter",
         "x": [
          -0.6931471805599453,
          0,
          0.6931471805599453
         ],
         "y": [
          -2.353639505791574e-10,
          0,
          -2.415692091098721e-10
         ]
        },
        {
         "line": {
          "color": "rgba(128, 128, 0, 1.0)",
          "dash": "solid",
          "shape": "linear",
          "width": 1.3
         },
         "mode": "lines",
         "name": "Brown rice",
         "text": "",
         "type": "scatter",
         "x": [
          -0.6931471805599453,
          0,
          0.6931471805599453
         ],
         "y": [
          -7.054986597411849e-10,
          0,
          -3.8958725142407817e-10
         ]
        },
        {
         "line": {
          "color": "rgba(251, 128, 114, 1.0)",
          "dash": "solid",
          "shape": "linear",
          "width": 1.3
         },
         "mode": "lines",
         "name": "Cauliflower",
         "text": "",
         "type": "scatter",
         "x": [
          -0.6931471805599453,
          0,
          0.6931471805599453
         ],
         "y": [
          -4.989108016851818e-10,
          0,
          3.4526899057932032e-09
         ]
        },
        {
         "line": {
          "color": "rgba(128, 177, 211, 1.0)",
          "dash": "solid",
          "shape": "linear",
          "width": 1.3
         },
         "mode": "lines",
         "name": "Celery",
         "text": "",
         "type": "scatter",
         "x": [
          -0.6931471805599453,
          0,
          0.6931471805599453
         ],
         "y": [
          -2.1827972765004795e-10,
          0,
          -7.554010753107901e-10
         ]
        },
        {
         "line": {
          "color": "rgba(128, 177, 211, 0.8999999999999999)",
          "dash": "solid",
          "shape": "linear",
          "width": 1.3
         },
         "mode": "lines",
         "name": "Chia Seed",
         "text": "",
         "type": "scatter",
         "x": [
          -0.6931471805599453,
          0,
          0.6931471805599453
         ],
         "y": [
          -0.07323400894694894,
          0,
          -5.304521268087138e-10
         ]
        },
        {
         "line": {
          "color": "rgba(255, 153, 51, 0.8999999999999999)",
          "dash": "solid",
          "shape": "linear",
          "width": 1.3
         },
         "mode": "lines",
         "name": "Chicken",
         "text": "",
         "type": "scatter",
         "x": [
          -0.6931471805599453,
          0,
          0.6931471805599453
         ],
         "y": [
          -8.571159341506716e-10,
          0,
          -5.839980722939197e-10
         ]
        },
        {
         "line": {
          "color": "rgba(55, 128, 191, 0.8999999999999999)",
          "dash": "solid",
          "shape": "linear",
          "width": 1.3
         },
         "mode": "lines",
         "name": "Cinnamon",
         "text": "",
         "type": "scatter",
         "x": [
          -0.6931471805599453,
          0,
          0.6931471805599453
         ],
         "y": [
          -8.343215011236051e-10,
          0,
          -7.650401426402159e-10
         ]
        },
        {
         "line": {
          "color": "rgba(50, 171, 96, 0.8999999999999999)",
          "dash": "solid",
          "shape": "linear",
          "width": 1.3
         },
         "mode": "lines",
         "name": "Eggplant",
         "text": "",
         "type": "scatter",
         "x": [
          -0.6931471805599453,
          0,
          0.6931471805599453
         ],
         "y": [
          2.214856740002345e-09,
          0,
          3.989994771058928e-09
         ]
        },
        {
         "line": {
          "color": "rgba(128, 0, 128, 0.8999999999999999)",
          "dash": "solid",
          "shape": "linear",
          "width": 1.3
         },
         "mode": "lines",
         "name": "Eggs",
         "text": "",
         "type": "scatter",
         "x": [
          -0.6931471805599453,
          0,
          0.6931471805599453
         ],
         "y": [
          -0.17956646993087913,
          0,
          0.2640814559691723
         ]
        },
        {
         "line": {
          "color": "rgba(219, 64, 82, 0.8999999999999999)",
          "dash": "solid",
          "shape": "linear",
          "width": 1.3
         },
         "mode": "lines",
         "name": "Grape",
         "text": "",
         "type": "scatter",
         "x": [
          -0.6931471805599453,
          0,
          0.6931471805599453
         ],
         "y": [
          -7.757704481814848e-10,
          0,
          -3.0228752838773783e-10
         ]
        },
        {
         "line": {
          "color": "rgba(0, 128, 128, 0.8999999999999999)",
          "dash": "solid",
          "shape": "linear",
          "width": 1.3
         },
         "mode": "lines",
         "name": "Grapefruit",
         "text": "",
         "type": "scatter",
         "x": [
          -0.6931471805599453,
          0,
          0.6931471805599453
         ],
         "y": [
          -8.930196586200478e-10,
          0,
          4.6662154031751975e-09
         ]
        },
        {
         "line": {
          "color": "rgba(255, 255, 51, 0.8999999999999999)",
          "dash": "solid",
          "shape": "linear",
          "width": 1.3
         },
         "mode": "lines",
         "name": "Green beans",
         "text": "",
         "type": "scatter",
         "x": [
          -0.6931471805599453,
          0,
          0.6931471805599453
         ],
         "y": [
          -6.104006189390974e-13,
          0,
          -7.936816762518178e-10
         ]
        },
        {
         "line": {
          "color": "rgba(128, 128, 0, 0.8999999999999999)",
          "dash": "solid",
          "shape": "linear",
          "width": 1.3
         },
         "mode": "lines",
         "name": "Ground Turkey",
         "text": "",
         "type": "scatter",
         "x": [
          -0.6931471805599453,
          0,
          0.6931471805599453
         ],
         "y": [
          -6.092079065291234e-10,
          0,
          -8.920393316884287e-10
         ]
        },
        {
         "line": {
          "color": "rgba(251, 128, 114, 0.8999999999999999)",
          "dash": "solid",
          "shape": "linear",
          "width": 1.3
         },
         "mode": "lines",
         "name": "Legumes(Lentils)",
         "text": "",
         "type": "scatter",
         "x": [
          -0.6931471805599453,
          0,
          0.6931471805599453
         ],
         "y": [
          2.435353406597847e-07,
          0,
          1.4616238178395899e-06
         ]
        },
        {
         "line": {
          "color": "rgba(251, 128, 114, 0.7999999999999998)",
          "dash": "solid",
          "shape": "linear",
          "width": 1.3
         },
         "mode": "lines",
         "name": "Lettuce",
         "text": "",
         "type": "scatter",
         "x": [
          -0.6931471805599453,
          0,
          0.6931471805599453
         ],
         "y": [
          -0.00048727027021419,
          0,
          -5.727854858725351e-10
         ]
        },
        {
         "line": {
          "color": "rgba(128, 177, 211, 0.7999999999999998)",
          "dash": "solid",
          "shape": "linear",
          "width": 1.3
         },
         "mode": "lines",
         "name": "Lime",
         "text": "",
         "type": "scatter",
         "x": [
          -0.6931471805599453,
          0,
          0.6931471805599453
         ],
         "y": [
          -1.5821111089139622e-10,
          0,
          -1.474698141488086e-10
         ]
        },
        {
         "line": {
          "color": "rgba(255, 153, 51, 0.7999999999999998)",
          "dash": "solid",
          "shape": "linear",
          "width": 1.3
         },
         "mode": "lines",
         "name": "Milk",
         "text": "",
         "type": "scatter",
         "x": [
          -0.6931471805599453,
          0,
          0.6931471805599453
         ],
         "y": [
          -0.08714498453353321,
          0,
          0.03332763514226484
         ]
        },
        {
         "line": {
          "color": "rgba(55, 128, 191, 0.7999999999999998)",
          "dash": "solid",
          "shape": "linear",
          "width": 1.3
         },
         "mode": "lines",
         "name": "Olive Oil",
         "text": "",
         "type": "scatter",
         "x": [
          -0.6931471805599453,
          0,
          0.6931471805599453
         ],
         "y": [
          9.56129482124627e-09,
          0,
          8.811269487933287e-10
         ]
        },
        {
         "line": {
          "color": "rgba(50, 171, 96, 0.7999999999999998)",
          "dash": "solid",
          "shape": "linear",
          "width": 1.3
         },
         "mode": "lines",
         "name": "Orange",
         "text": "",
         "type": "scatter",
         "x": [
          -0.6931471805599453,
          0,
          0.6931471805599453
         ],
         "y": [
          -0.0001828514723674402,
          0,
          -2.8494451247037116e-10
         ]
        },
        {
         "line": {
          "color": "rgba(128, 0, 128, 0.7999999999999998)",
          "dash": "solid",
          "shape": "linear",
          "width": 1.3
         },
         "mode": "lines",
         "name": "Peach",
         "text": "",
         "type": "scatter",
         "x": [
          -0.6931471805599453,
          0,
          0.6931471805599453
         ],
         "y": [
          -7.405515092784142e-10,
          0,
          1.608989384875955e-09
         ]
        },
        {
         "line": {
          "color": "rgba(219, 64, 82, 0.7999999999999998)",
          "dash": "solid",
          "shape": "linear",
          "width": 1.3
         },
         "mode": "lines",
         "name": "Pear",
         "text": "",
         "type": "scatter",
         "x": [
          -0.6931471805599453,
          0,
          0.6931471805599453
         ],
         "y": [
          -4.5479175980848334e-12,
          0,
          -6.913237762420809e-10
         ]
        },
        {
         "line": {
          "color": "rgba(0, 128, 128, 0.7999999999999998)",
          "dash": "solid",
          "shape": "linear",
          "width": 1.3
         },
         "mode": "lines",
         "name": "Pepper",
         "text": "",
         "type": "scatter",
         "x": [
          -0.6931471805599453,
          0,
          0.6931471805599453
         ],
         "y": [
          0,
          0,
          0
         ]
        },
        {
         "line": {
          "color": "rgba(255, 255, 51, 0.7999999999999998)",
          "dash": "solid",
          "shape": "linear",
          "width": 1.3
         },
         "mode": "lines",
         "name": "Peppers",
         "text": "",
         "type": "scatter",
         "x": [
          -0.6931471805599453,
          0,
          0.6931471805599453
         ],
         "y": [
          -0.26707882159421537,
          0,
          0.36197958186634505
         ]
        },
        {
         "line": {
          "color": "rgba(128, 128, 0, 0.7999999999999998)",
          "dash": "solid",
          "shape": "linear",
          "width": 1.3
         },
         "mode": "lines",
         "name": "Plum",
         "text": "",
         "type": "scatter",
         "x": [
          -0.6931471805599453,
          0,
          0.6931471805599453
         ],
         "y": [
          -2.4218671515631797e-10,
          0,
          -9.464498078630897e-10
         ]
        },
        {
         "line": {
          "color": "rgba(128, 128, 0, 0.7)",
          "dash": "solid",
          "shape": "linear",
          "width": 1.3
         },
         "mode": "lines",
         "name": "Quinoa",
         "text": "",
         "type": "scatter",
         "x": [
          -0.6931471805599453,
          0,
          0.6931471805599453
         ],
         "y": [
          -9.06976383297474e-10,
          0,
          -4.372746609344739e-11
         ]
        },
        {
         "line": {
          "color": "rgba(251, 128, 114, 0.7)",
          "dash": "solid",
          "shape": "linear",
          "width": 1.3
         },
         "mode": "lines",
         "name": "Salt",
         "text": "",
         "type": "scatter",
         "x": [
          -0.6931471805599453,
          0,
          0.6931471805599453
         ],
         "y": [
          1.2327320421736705e-08,
          0,
          -8.576523939166305e-10
         ]
        },
        {
         "line": {
          "color": "rgba(128, 177, 211, 0.7)",
          "dash": "solid",
          "shape": "linear",
          "width": 1.3
         },
         "mode": "lines",
         "name": "Scallop",
         "text": "",
         "type": "scatter",
         "x": [
          -0.6931471805599453,
          0,
          0.6931471805599453
         ],
         "y": [
          1.4716057250837466e-09,
          0,
          1.4383951774260422e-06
         ]
        },
        {
         "line": {
          "color": "rgba(255, 153, 51, 0.7)",
          "dash": "solid",
          "shape": "linear",
          "width": 1.3
         },
         "mode": "lines",
         "name": "Shrimp",
         "text": "",
         "type": "scatter",
         "x": [
          -0.6931471805599453,
          0,
          0.6931471805599453
         ],
         "y": [
          6.9662395609179184e-09,
          0,
          -6.97680802263197e-10
         ]
        },
        {
         "line": {
          "color": "rgba(55, 128, 191, 0.7)",
          "dash": "solid",
          "shape": "linear",
          "width": 1.3
         },
         "mode": "lines",
         "name": "Snow peas",
         "text": "",
         "type": "scatter",
         "x": [
          -0.6931471805599453,
          0,
          0.6931471805599453
         ],
         "y": [
          -1.4578571684250776e-10,
          0,
          4.297930002651173e-09
         ]
        },
        {
         "line": {
          "color": "rgba(50, 171, 96, 0.7)",
          "dash": "solid",
          "shape": "linear",
          "width": 1.3
         },
         "mode": "lines",
         "name": "Spinach",
         "text": "",
         "type": "scatter",
         "x": [
          -0.6931471805599453,
          0,
          0.6931471805599453
         ],
         "y": [
          -0.06399994621765993,
          0,
          -5.424181105745426e-10
         ]
        },
        {
         "line": {
          "color": "rgba(128, 0, 128, 0.7)",
          "dash": "solid",
          "shape": "linear",
          "width": 1.3
         },
         "mode": "lines",
         "name": "Steel-cut oatmeal",
         "text": "",
         "type": "scatter",
         "x": [
          -0.6931471805599453,
          0,
          0.6931471805599453
         ],
         "y": [
          -5.352992495145076e-10,
          0,
          8.773908262741451e-10
         ]
        },
        {
         "line": {
          "color": "rgba(219, 64, 82, 0.7)",
          "dash": "solid",
          "shape": "linear",
          "width": 1.3
         },
         "mode": "lines",
         "name": "Tofu",
         "text": "",
         "type": "scatter",
         "x": [
          -0.6931471805599453,
          0,
          0.6931471805599453
         ],
         "y": [
          -4.870075455207953e-10,
          0,
          -9.276773797890194e-10
         ]
        },
        {
         "line": {
          "color": "rgba(0, 128, 128, 0.7)",
          "dash": "solid",
          "shape": "linear",
          "width": 1.3
         },
         "mode": "lines",
         "name": "While Balsamic Vinegar",
         "text": "",
         "type": "scatter",
         "x": [
          -0.6931471805599453,
          0,
          0.6931471805599453
         ],
         "y": [
          1.2328056345939793e-09,
          0,
          -3.9195768860488163e-10
         ]
        },
        {
         "line": {
          "color": "rgba(255, 255, 51, 0.7)",
          "dash": "solid",
          "shape": "linear",
          "width": 1.3
         },
         "mode": "lines",
         "name": "Whole wheat bread",
         "text": "",
         "type": "scatter",
         "x": [
          -0.6931471805599453,
          0,
          0.6931471805599453
         ],
         "y": [
          -2.3287194397750036e-10,
          0,
          -7.903265822687434e-10
         ]
        },
        {
         "line": {
          "color": "rgba(255, 255, 51, 0.5999999999999999)",
          "dash": "solid",
          "shape": "linear",
          "width": 1.3
         },
         "mode": "lines",
         "name": "Wild Salmon",
         "text": "",
         "type": "scatter",
         "x": [
          -0.6931471805599453,
          0,
          0.6931471805599453
         ],
         "y": [
          2.3268495991786688e-09,
          0,
          -6.096244622082166e-10
         ]
        },
        {
         "line": {
          "color": "rgba(128, 128, 0, 0.5999999999999999)",
          "dash": "solid",
          "shape": "linear",
          "width": 1.3
         },
         "mode": "lines",
         "name": "Yogurt",
         "text": "",
         "type": "scatter",
         "x": [
          -0.6931471805599453,
          0,
          0.6931471805599453
         ],
         "y": [
          4.0110201975896416e-07,
          0,
          2.384010113806961e-07
         ]
        }
       ],
       "layout": {
        "legend": {
         "bgcolor": "#F5F6F9",
         "font": {
          "color": "#4D5663"
         }
        },
        "paper_bgcolor": "#F5F6F9",
        "plot_bgcolor": "#F5F6F9",
        "template": {
         "data": {
          "bar": [
           {
            "error_x": {
             "color": "#2a3f5f"
            },
            "error_y": {
             "color": "#2a3f5f"
            },
            "marker": {
             "line": {
              "color": "#E5ECF6",
              "width": 0.5
             }
            },
            "type": "bar"
           }
          ],
          "barpolar": [
           {
            "marker": {
             "line": {
              "color": "#E5ECF6",
              "width": 0.5
             }
            },
            "type": "barpolar"
           }
          ],
          "carpet": [
           {
            "aaxis": {
             "endlinecolor": "#2a3f5f",
             "gridcolor": "white",
             "linecolor": "white",
             "minorgridcolor": "white",
             "startlinecolor": "#2a3f5f"
            },
            "baxis": {
             "endlinecolor": "#2a3f5f",
             "gridcolor": "white",
             "linecolor": "white",
             "minorgridcolor": "white",
             "startlinecolor": "#2a3f5f"
            },
            "type": "carpet"
           }
          ],
          "choropleth": [
           {
            "colorbar": {
             "outlinewidth": 0,
             "ticks": ""
            },
            "type": "choropleth"
           }
          ],
          "contour": [
           {
            "colorbar": {
             "outlinewidth": 0,
             "ticks": ""
            },
            "colorscale": [
             [
              0,
              "#0d0887"
             ],
             [
              0.1111111111111111,
              "#46039f"
             ],
             [
              0.2222222222222222,
              "#7201a8"
             ],
             [
              0.3333333333333333,
              "#9c179e"
             ],
             [
              0.4444444444444444,
              "#bd3786"
             ],
             [
              0.5555555555555556,
              "#d8576b"
             ],
             [
              0.6666666666666666,
              "#ed7953"
             ],
             [
              0.7777777777777778,
              "#fb9f3a"
             ],
             [
              0.8888888888888888,
              "#fdca26"
             ],
             [
              1,
              "#f0f921"
             ]
            ],
            "type": "contour"
           }
          ],
          "contourcarpet": [
           {
            "colorbar": {
             "outlinewidth": 0,
             "ticks": ""
            },
            "type": "contourcarpet"
           }
          ],
          "heatmap": [
           {
            "colorbar": {
             "outlinewidth": 0,
             "ticks": ""
            },
            "colorscale": [
             [
              0,
              "#0d0887"
             ],
             [
              0.1111111111111111,
              "#46039f"
             ],
             [
              0.2222222222222222,
              "#7201a8"
             ],
             [
              0.3333333333333333,
              "#9c179e"
             ],
             [
              0.4444444444444444,
              "#bd3786"
             ],
             [
              0.5555555555555556,
              "#d8576b"
             ],
             [
              0.6666666666666666,
              "#ed7953"
             ],
             [
              0.7777777777777778,
              "#fb9f3a"
             ],
             [
              0.8888888888888888,
              "#fdca26"
             ],
             [
              1,
              "#f0f921"
             ]
            ],
            "type": "heatmap"
           }
          ],
          "heatmapgl": [
           {
            "colorbar": {
             "outlinewidth": 0,
             "ticks": ""
            },
            "colorscale": [
             [
              0,
              "#0d0887"
             ],
             [
              0.1111111111111111,
              "#46039f"
             ],
             [
              0.2222222222222222,
              "#7201a8"
             ],
             [
              0.3333333333333333,
              "#9c179e"
             ],
             [
              0.4444444444444444,
              "#bd3786"
             ],
             [
              0.5555555555555556,
              "#d8576b"
             ],
             [
              0.6666666666666666,
              "#ed7953"
             ],
             [
              0.7777777777777778,
              "#fb9f3a"
             ],
             [
              0.8888888888888888,
              "#fdca26"
             ],
             [
              1,
              "#f0f921"
             ]
            ],
            "type": "heatmapgl"
           }
          ],
          "histogram": [
           {
            "marker": {
             "colorbar": {
              "outlinewidth": 0,
              "ticks": ""
             }
            },
            "type": "histogram"
           }
          ],
          "histogram2d": [
           {
            "colorbar": {
             "outlinewidth": 0,
             "ticks": ""
            },
            "colorscale": [
             [
              0,
              "#0d0887"
             ],
             [
              0.1111111111111111,
              "#46039f"
             ],
             [
              0.2222222222222222,
              "#7201a8"
             ],
             [
              0.3333333333333333,
              "#9c179e"
             ],
             [
              0.4444444444444444,
              "#bd3786"
             ],
             [
              0.5555555555555556,
              "#d8576b"
             ],
             [
              0.6666666666666666,
              "#ed7953"
             ],
             [
              0.7777777777777778,
              "#fb9f3a"
             ],
             [
              0.8888888888888888,
              "#fdca26"
             ],
             [
              1,
              "#f0f921"
             ]
            ],
            "type": "histogram2d"
           }
          ],
          "histogram2dcontour": [
           {
            "colorbar": {
             "outlinewidth": 0,
             "ticks": ""
            },
            "colorscale": [
             [
              0,
              "#0d0887"
             ],
             [
              0.1111111111111111,
              "#46039f"
             ],
             [
              0.2222222222222222,
              "#7201a8"
             ],
             [
              0.3333333333333333,
              "#9c179e"
             ],
             [
              0.4444444444444444,
              "#bd3786"
             ],
             [
              0.5555555555555556,
              "#d8576b"
             ],
             [
              0.6666666666666666,
              "#ed7953"
             ],
             [
              0.7777777777777778,
              "#fb9f3a"
             ],
             [
              0.8888888888888888,
              "#fdca26"
             ],
             [
              1,
              "#f0f921"
             ]
            ],
            "type": "histogram2dcontour"
           }
          ],
          "mesh3d": [
           {
            "colorbar": {
             "outlinewidth": 0,
             "ticks": ""
            },
            "type": "mesh3d"
           }
          ],
          "parcoords": [
           {
            "line": {
             "colorbar": {
              "outlinewidth": 0,
              "ticks": ""
             }
            },
            "type": "parcoords"
           }
          ],
          "pie": [
           {
            "automargin": true,
            "type": "pie"
           }
          ],
          "scatter": [
           {
            "marker": {
             "colorbar": {
              "outlinewidth": 0,
              "ticks": ""
             }
            },
            "type": "scatter"
           }
          ],
          "scatter3d": [
           {
            "line": {
             "colorbar": {
              "outlinewidth": 0,
              "ticks": ""
             }
            },
            "marker": {
             "colorbar": {
              "outlinewidth": 0,
              "ticks": ""
             }
            },
            "type": "scatter3d"
           }
          ],
          "scattercarpet": [
           {
            "marker": {
             "colorbar": {
              "outlinewidth": 0,
              "ticks": ""
             }
            },
            "type": "scattercarpet"
           }
          ],
          "scattergeo": [
           {
            "marker": {
             "colorbar": {
              "outlinewidth": 0,
              "ticks": ""
             }
            },
            "type": "scattergeo"
           }
          ],
          "scattergl": [
           {
            "marker": {
             "colorbar": {
              "outlinewidth": 0,
              "ticks": ""
             }
            },
            "type": "scattergl"
           }
          ],
          "scattermapbox": [
           {
            "marker": {
             "colorbar": {
              "outlinewidth": 0,
              "ticks": ""
             }
            },
            "type": "scattermapbox"
           }
          ],
          "scatterpolar": [
           {
            "marker": {
             "colorbar": {
              "outlinewidth": 0,
              "ticks": ""
             }
            },
            "type": "scatterpolar"
           }
          ],
          "scatterpolargl": [
           {
            "marker": {
             "colorbar": {
              "outlinewidth": 0,
              "ticks": ""
             }
            },
            "type": "scatterpolargl"
           }
          ],
          "scatterternary": [
           {
            "marker": {
             "colorbar": {
              "outlinewidth": 0,
              "ticks": ""
             }
            },
            "type": "scatterternary"
           }
          ],
          "surface": [
           {
            "colorbar": {
             "outlinewidth": 0,
             "ticks": ""
            },
            "colorscale": [
             [
              0,
              "#0d0887"
             ],
             [
              0.1111111111111111,
              "#46039f"
             ],
             [
              0.2222222222222222,
              "#7201a8"
             ],
             [
              0.3333333333333333,
              "#9c179e"
             ],
             [
              0.4444444444444444,
              "#bd3786"
             ],
             [
              0.5555555555555556,
              "#d8576b"
             ],
             [
              0.6666666666666666,
              "#ed7953"
             ],
             [
              0.7777777777777778,
              "#fb9f3a"
             ],
             [
              0.8888888888888888,
              "#fdca26"
             ],
             [
              1,
              "#f0f921"
             ]
            ],
            "type": "surface"
           }
          ],
          "table": [
           {
            "cells": {
             "fill": {
              "color": "#EBF0F8"
             },
             "line": {
              "color": "white"
             }
            },
            "header": {
             "fill": {
              "color": "#C8D4E3"
             },
             "line": {
              "color": "white"
             }
            },
            "type": "table"
           }
          ]
         },
         "layout": {
          "annotationdefaults": {
           "arrowcolor": "#2a3f5f",
           "arrowhead": 0,
           "arrowwidth": 1
          },
          "coloraxis": {
           "colorbar": {
            "outlinewidth": 0,
            "ticks": ""
           }
          },
          "colorscale": {
           "diverging": [
            [
             0,
             "#8e0152"
            ],
            [
             0.1,
             "#c51b7d"
            ],
            [
             0.2,
             "#de77ae"
            ],
            [
             0.3,
             "#f1b6da"
            ],
            [
             0.4,
             "#fde0ef"
            ],
            [
             0.5,
             "#f7f7f7"
            ],
            [
             0.6,
             "#e6f5d0"
            ],
            [
             0.7,
             "#b8e186"
            ],
            [
             0.8,
             "#7fbc41"
            ],
            [
             0.9,
             "#4d9221"
            ],
            [
             1,
             "#276419"
            ]
           ],
           "sequential": [
            [
             0,
             "#0d0887"
            ],
            [
             0.1111111111111111,
             "#46039f"
            ],
            [
             0.2222222222222222,
             "#7201a8"
            ],
            [
             0.3333333333333333,
             "#9c179e"
            ],
            [
             0.4444444444444444,
             "#bd3786"
            ],
            [
             0.5555555555555556,
             "#d8576b"
            ],
            [
             0.6666666666666666,
             "#ed7953"
            ],
            [
             0.7777777777777778,
             "#fb9f3a"
            ],
            [
             0.8888888888888888,
             "#fdca26"
            ],
            [
             1,
             "#f0f921"
            ]
           ],
           "sequentialminus": [
            [
             0,
             "#0d0887"
            ],
            [
             0.1111111111111111,
             "#46039f"
            ],
            [
             0.2222222222222222,
             "#7201a8"
            ],
            [
             0.3333333333333333,
             "#9c179e"
            ],
            [
             0.4444444444444444,
             "#bd3786"
            ],
            [
             0.5555555555555556,
             "#d8576b"
            ],
            [
             0.6666666666666666,
             "#ed7953"
            ],
            [
             0.7777777777777778,
             "#fb9f3a"
            ],
            [
             0.8888888888888888,
             "#fdca26"
            ],
            [
             1,
             "#f0f921"
            ]
           ]
          },
          "colorway": [
           "#636efa",
           "#EF553B",
           "#00cc96",
           "#ab63fa",
           "#FFA15A",
           "#19d3f3",
           "#FF6692",
           "#B6E880",
           "#FF97FF",
           "#FECB52"
          ],
          "font": {
           "color": "#2a3f5f"
          },
          "geo": {
           "bgcolor": "white",
           "lakecolor": "white",
           "landcolor": "#E5ECF6",
           "showlakes": true,
           "showland": true,
           "subunitcolor": "white"
          },
          "hoverlabel": {
           "align": "left"
          },
          "hovermode": "closest",
          "mapbox": {
           "style": "light"
          },
          "paper_bgcolor": "white",
          "plot_bgcolor": "#E5ECF6",
          "polar": {
           "angularaxis": {
            "gridcolor": "white",
            "linecolor": "white",
            "ticks": ""
           },
           "bgcolor": "#E5ECF6",
           "radialaxis": {
            "gridcolor": "white",
            "linecolor": "white",
            "ticks": ""
           }
          },
          "scene": {
           "xaxis": {
            "backgroundcolor": "#E5ECF6",
            "gridcolor": "white",
            "gridwidth": 2,
            "linecolor": "white",
            "showbackground": true,
            "ticks": "",
            "zerolinecolor": "white"
           },
           "yaxis": {
            "backgroundcolor": "#E5ECF6",
            "gridcolor": "white",
            "gridwidth": 2,
            "linecolor": "white",
            "showbackground": true,
            "ticks": "",
            "zerolinecolor": "white"
           },
           "zaxis": {
            "backgroundcolor": "#E5ECF6",
            "gridcolor": "white",
            "gridwidth": 2,
            "linecolor": "white",
            "showbackground": true,
            "ticks": "",
            "zerolinecolor": "white"
           }
          },
          "shapedefaults": {
           "line": {
            "color": "#2a3f5f"
           }
          },
          "ternary": {
           "aaxis": {
            "gridcolor": "white",
            "linecolor": "white",
            "ticks": ""
           },
           "baxis": {
            "gridcolor": "white",
            "linecolor": "white",
            "ticks": ""
           },
           "bgcolor": "#E5ECF6",
           "caxis": {
            "gridcolor": "white",
            "linecolor": "white",
            "ticks": ""
           }
          },
          "title": {
           "x": 0.05
          },
          "xaxis": {
           "automargin": true,
           "gridcolor": "white",
           "linecolor": "white",
           "ticks": "",
           "title": {
            "standoff": 15
           },
           "zerolinecolor": "white",
           "zerolinewidth": 2
          },
          "yaxis": {
           "automargin": true,
           "gridcolor": "white",
           "linecolor": "white",
           "ticks": "",
           "title": {
            "standoff": 15
           },
           "zerolinecolor": "white",
           "zerolinewidth": 2
          }
         }
        },
        "title": {
         "font": {
          "color": "#4D5663"
         }
        },
        "xaxis": {
         "gridcolor": "#E1E5ED",
         "showgrid": true,
         "tickfont": {
          "color": "#4D5663"
         },
         "title": {
          "font": {
           "color": "#4D5663"
          },
          "text": "log price change"
         },
         "zerolinecolor": "#E1E5ED"
        },
        "yaxis": {
         "gridcolor": "#E1E5ED",
         "showgrid": true,
         "tickfont": {
          "color": "#4D5663"
         },
         "title": {
          "font": {
           "color": "#4D5663"
          },
          "text": "log cost change"
         },
         "zerolinecolor": "#E1E5ED"
        }
       }
      },
      "text/html": [
       "<div>\n",
       "        \n",
       "        \n",
       "            <div id=\"95148340-7841-4414-b1b9-d47c8058dd05\" class=\"plotly-graph-div\" style=\"height:525px; width:100%;\"></div>\n",
       "            <script type=\"text/javascript\">\n",
       "                require([\"plotly\"], function(Plotly) {\n",
       "                    window.PLOTLYENV=window.PLOTLYENV || {};\n",
       "                    window.PLOTLYENV.BASE_URL='https://plot.ly';\n",
       "                    \n",
       "                if (document.getElementById(\"95148340-7841-4414-b1b9-d47c8058dd05\")) {\n",
       "                    Plotly.newPlot(\n",
       "                        '95148340-7841-4414-b1b9-d47c8058dd05',\n",
       "                        [{\"line\": {\"color\": \"rgba(255, 153, 51, 1.0)\", \"dash\": \"solid\", \"shape\": \"linear\", \"width\": 1.3}, \"mode\": \"lines\", \"name\": \"Apple\", \"text\": \"\", \"type\": \"scatter\", \"x\": [-0.6931471805599453, 0.0, 0.6931471805599453], \"y\": [-0.03344414433004265, 0.0, 0.06370894834921785]}, {\"line\": {\"color\": \"rgba(55, 128, 191, 1.0)\", \"dash\": \"solid\", \"shape\": \"linear\", \"width\": 1.3}, \"mode\": \"lines\", \"name\": \"Artichoke\", \"text\": \"\", \"type\": \"scatter\", \"x\": [-0.6931471805599453, 0.0, 0.6931471805599453], \"y\": [-8.609503114141135e-10, 0.0, -2.4972668380761175e-10]}, {\"line\": {\"color\": \"rgba(50, 171, 96, 1.0)\", \"dash\": \"solid\", \"shape\": \"linear\", \"width\": 1.3}, \"mode\": \"lines\", \"name\": \"Asparagus\", \"text\": \"\", \"type\": \"scatter\", \"x\": [-0.6931471805599453, 0.0, 0.6931471805599453], \"y\": [8.002524178736614e-07, 0.0, -8.206918481505157e-10]}, {\"line\": {\"color\": \"rgba(128, 0, 128, 1.0)\", \"dash\": \"solid\", \"shape\": \"linear\", \"width\": 1.3}, \"mode\": \"lines\", \"name\": \"Avacado\", \"text\": \"\", \"type\": \"scatter\", \"x\": [-0.6931471805599453, 0.0, 0.6931471805599453], \"y\": [1.7984906390022514e-07, 0.0, -5.068504506274787e-10]}, {\"line\": {\"color\": \"rgba(219, 64, 82, 1.0)\", \"dash\": \"solid\", \"shape\": \"linear\", \"width\": 1.3}, \"mode\": \"lines\", \"name\": \"Blueberry\", \"text\": \"\", \"type\": \"scatter\", \"x\": [-0.6931471805599453, 0.0, 0.6931471805599453], \"y\": [-7.201239607219046e-10, 0.0, 7.605973625806761e-10]}, {\"line\": {\"color\": \"rgba(0, 128, 128, 1.0)\", \"dash\": \"solid\", \"shape\": \"linear\", \"width\": 1.3}, \"mode\": \"lines\", \"name\": \"Bok choy\", \"text\": \"\", \"type\": \"scatter\", \"x\": [-0.6931471805599453, 0.0, 0.6931471805599453], \"y\": [-0.05208293986612766, 0.0, 8.966130080555369e-08]}, {\"line\": {\"color\": \"rgba(255, 255, 51, 1.0)\", \"dash\": \"solid\", \"shape\": \"linear\", \"width\": 1.3}, \"mode\": \"lines\", \"name\": \"Broccoli\", \"text\": \"\", \"type\": \"scatter\", \"x\": [-0.6931471805599453, 0.0, 0.6931471805599453], \"y\": [-2.353639505791574e-10, 0.0, -2.415692091098721e-10]}, {\"line\": {\"color\": \"rgba(128, 128, 0, 1.0)\", \"dash\": \"solid\", \"shape\": \"linear\", \"width\": 1.3}, \"mode\": \"lines\", \"name\": \"Brown rice\", \"text\": \"\", \"type\": \"scatter\", \"x\": [-0.6931471805599453, 0.0, 0.6931471805599453], \"y\": [-7.054986597411849e-10, 0.0, -3.8958725142407817e-10]}, {\"line\": {\"color\": \"rgba(251, 128, 114, 1.0)\", \"dash\": \"solid\", \"shape\": \"linear\", \"width\": 1.3}, \"mode\": \"lines\", \"name\": \"Cauliflower\", \"text\": \"\", \"type\": \"scatter\", \"x\": [-0.6931471805599453, 0.0, 0.6931471805599453], \"y\": [-4.989108016851818e-10, 0.0, 3.4526899057932032e-09]}, {\"line\": {\"color\": \"rgba(128, 177, 211, 1.0)\", \"dash\": \"solid\", \"shape\": \"linear\", \"width\": 1.3}, \"mode\": \"lines\", \"name\": \"Celery\", \"text\": \"\", \"type\": \"scatter\", \"x\": [-0.6931471805599453, 0.0, 0.6931471805599453], \"y\": [-2.1827972765004795e-10, 0.0, -7.554010753107901e-10]}, {\"line\": {\"color\": \"rgba(128, 177, 211, 0.8999999999999999)\", \"dash\": \"solid\", \"shape\": \"linear\", \"width\": 1.3}, \"mode\": \"lines\", \"name\": \"Chia Seed\", \"text\": \"\", \"type\": \"scatter\", \"x\": [-0.6931471805599453, 0.0, 0.6931471805599453], \"y\": [-0.07323400894694894, 0.0, -5.304521268087138e-10]}, {\"line\": {\"color\": \"rgba(255, 153, 51, 0.8999999999999999)\", \"dash\": \"solid\", \"shape\": \"linear\", \"width\": 1.3}, \"mode\": \"lines\", \"name\": \"Chicken\", \"text\": \"\", \"type\": \"scatter\", \"x\": [-0.6931471805599453, 0.0, 0.6931471805599453], \"y\": [-8.571159341506716e-10, 0.0, -5.839980722939197e-10]}, {\"line\": {\"color\": \"rgba(55, 128, 191, 0.8999999999999999)\", \"dash\": \"solid\", \"shape\": \"linear\", \"width\": 1.3}, \"mode\": \"lines\", \"name\": \"Cinnamon\", \"text\": \"\", \"type\": \"scatter\", \"x\": [-0.6931471805599453, 0.0, 0.6931471805599453], \"y\": [-8.343215011236051e-10, 0.0, -7.650401426402159e-10]}, {\"line\": {\"color\": \"rgba(50, 171, 96, 0.8999999999999999)\", \"dash\": \"solid\", \"shape\": \"linear\", \"width\": 1.3}, \"mode\": \"lines\", \"name\": \"Eggplant\", \"text\": \"\", \"type\": \"scatter\", \"x\": [-0.6931471805599453, 0.0, 0.6931471805599453], \"y\": [2.214856740002345e-09, 0.0, 3.989994771058928e-09]}, {\"line\": {\"color\": \"rgba(128, 0, 128, 0.8999999999999999)\", \"dash\": \"solid\", \"shape\": \"linear\", \"width\": 1.3}, \"mode\": \"lines\", \"name\": \"Eggs\", \"text\": \"\", \"type\": \"scatter\", \"x\": [-0.6931471805599453, 0.0, 0.6931471805599453], \"y\": [-0.17956646993087913, 0.0, 0.2640814559691723]}, {\"line\": {\"color\": \"rgba(219, 64, 82, 0.8999999999999999)\", \"dash\": \"solid\", \"shape\": \"linear\", \"width\": 1.3}, \"mode\": \"lines\", \"name\": \"Grape\", \"text\": \"\", \"type\": \"scatter\", \"x\": [-0.6931471805599453, 0.0, 0.6931471805599453], \"y\": [-7.757704481814848e-10, 0.0, -3.0228752838773783e-10]}, {\"line\": {\"color\": \"rgba(0, 128, 128, 0.8999999999999999)\", \"dash\": \"solid\", \"shape\": \"linear\", \"width\": 1.3}, \"mode\": \"lines\", \"name\": \"Grapefruit\", \"text\": \"\", \"type\": \"scatter\", \"x\": [-0.6931471805599453, 0.0, 0.6931471805599453], \"y\": [-8.930196586200478e-10, 0.0, 4.6662154031751975e-09]}, {\"line\": {\"color\": \"rgba(255, 255, 51, 0.8999999999999999)\", \"dash\": \"solid\", \"shape\": \"linear\", \"width\": 1.3}, \"mode\": \"lines\", \"name\": \"Green beans\", \"text\": \"\", \"type\": \"scatter\", \"x\": [-0.6931471805599453, 0.0, 0.6931471805599453], \"y\": [-6.104006189390974e-13, 0.0, -7.936816762518178e-10]}, {\"line\": {\"color\": \"rgba(128, 128, 0, 0.8999999999999999)\", \"dash\": \"solid\", \"shape\": \"linear\", \"width\": 1.3}, \"mode\": \"lines\", \"name\": \"Ground Turkey\", \"text\": \"\", \"type\": \"scatter\", \"x\": [-0.6931471805599453, 0.0, 0.6931471805599453], \"y\": [-6.092079065291234e-10, 0.0, -8.920393316884287e-10]}, {\"line\": {\"color\": \"rgba(251, 128, 114, 0.8999999999999999)\", \"dash\": \"solid\", \"shape\": \"linear\", \"width\": 1.3}, \"mode\": \"lines\", \"name\": \"Legumes(Lentils)\", \"text\": \"\", \"type\": \"scatter\", \"x\": [-0.6931471805599453, 0.0, 0.6931471805599453], \"y\": [2.435353406597847e-07, 0.0, 1.4616238178395899e-06]}, {\"line\": {\"color\": \"rgba(251, 128, 114, 0.7999999999999998)\", \"dash\": \"solid\", \"shape\": \"linear\", \"width\": 1.3}, \"mode\": \"lines\", \"name\": \"Lettuce\", \"text\": \"\", \"type\": \"scatter\", \"x\": [-0.6931471805599453, 0.0, 0.6931471805599453], \"y\": [-0.00048727027021419, 0.0, -5.727854858725351e-10]}, {\"line\": {\"color\": \"rgba(128, 177, 211, 0.7999999999999998)\", \"dash\": \"solid\", \"shape\": \"linear\", \"width\": 1.3}, \"mode\": \"lines\", \"name\": \"Lime\", \"text\": \"\", \"type\": \"scatter\", \"x\": [-0.6931471805599453, 0.0, 0.6931471805599453], \"y\": [-1.5821111089139622e-10, 0.0, -1.474698141488086e-10]}, {\"line\": {\"color\": \"rgba(255, 153, 51, 0.7999999999999998)\", \"dash\": \"solid\", \"shape\": \"linear\", \"width\": 1.3}, \"mode\": \"lines\", \"name\": \"Milk\", \"text\": \"\", \"type\": \"scatter\", \"x\": [-0.6931471805599453, 0.0, 0.6931471805599453], \"y\": [-0.08714498453353321, 0.0, 0.03332763514226484]}, {\"line\": {\"color\": \"rgba(55, 128, 191, 0.7999999999999998)\", \"dash\": \"solid\", \"shape\": \"linear\", \"width\": 1.3}, \"mode\": \"lines\", \"name\": \"Olive Oil\", \"text\": \"\", \"type\": \"scatter\", \"x\": [-0.6931471805599453, 0.0, 0.6931471805599453], \"y\": [9.56129482124627e-09, 0.0, 8.811269487933287e-10]}, {\"line\": {\"color\": \"rgba(50, 171, 96, 0.7999999999999998)\", \"dash\": \"solid\", \"shape\": \"linear\", \"width\": 1.3}, \"mode\": \"lines\", \"name\": \"Orange\", \"text\": \"\", \"type\": \"scatter\", \"x\": [-0.6931471805599453, 0.0, 0.6931471805599453], \"y\": [-0.0001828514723674402, 0.0, -2.8494451247037116e-10]}, {\"line\": {\"color\": \"rgba(128, 0, 128, 0.7999999999999998)\", \"dash\": \"solid\", \"shape\": \"linear\", \"width\": 1.3}, \"mode\": \"lines\", \"name\": \"Peach\", \"text\": \"\", \"type\": \"scatter\", \"x\": [-0.6931471805599453, 0.0, 0.6931471805599453], \"y\": [-7.405515092784142e-10, 0.0, 1.608989384875955e-09]}, {\"line\": {\"color\": \"rgba(219, 64, 82, 0.7999999999999998)\", \"dash\": \"solid\", \"shape\": \"linear\", \"width\": 1.3}, \"mode\": \"lines\", \"name\": \"Pear\", \"text\": \"\", \"type\": \"scatter\", \"x\": [-0.6931471805599453, 0.0, 0.6931471805599453], \"y\": [-4.5479175980848334e-12, 0.0, -6.913237762420809e-10]}, {\"line\": {\"color\": \"rgba(0, 128, 128, 0.7999999999999998)\", \"dash\": \"solid\", \"shape\": \"linear\", \"width\": 1.3}, \"mode\": \"lines\", \"name\": \"Pepper\", \"text\": \"\", \"type\": \"scatter\", \"x\": [-0.6931471805599453, 0.0, 0.6931471805599453], \"y\": [0.0, 0.0, 0.0]}, {\"line\": {\"color\": \"rgba(255, 255, 51, 0.7999999999999998)\", \"dash\": \"solid\", \"shape\": \"linear\", \"width\": 1.3}, \"mode\": \"lines\", \"name\": \"Peppers\", \"text\": \"\", \"type\": \"scatter\", \"x\": [-0.6931471805599453, 0.0, 0.6931471805599453], \"y\": [-0.26707882159421537, 0.0, 0.36197958186634505]}, {\"line\": {\"color\": \"rgba(128, 128, 0, 0.7999999999999998)\", \"dash\": \"solid\", \"shape\": \"linear\", \"width\": 1.3}, \"mode\": \"lines\", \"name\": \"Plum\", \"text\": \"\", \"type\": \"scatter\", \"x\": [-0.6931471805599453, 0.0, 0.6931471805599453], \"y\": [-2.4218671515631797e-10, 0.0, -9.464498078630897e-10]}, {\"line\": {\"color\": \"rgba(128, 128, 0, 0.7)\", \"dash\": \"solid\", \"shape\": \"linear\", \"width\": 1.3}, \"mode\": \"lines\", \"name\": \"Quinoa\", \"text\": \"\", \"type\": \"scatter\", \"x\": [-0.6931471805599453, 0.0, 0.6931471805599453], \"y\": [-9.06976383297474e-10, 0.0, -4.372746609344739e-11]}, {\"line\": {\"color\": \"rgba(251, 128, 114, 0.7)\", \"dash\": \"solid\", \"shape\": \"linear\", \"width\": 1.3}, \"mode\": \"lines\", \"name\": \"Salt\", \"text\": \"\", \"type\": \"scatter\", \"x\": [-0.6931471805599453, 0.0, 0.6931471805599453], \"y\": [1.2327320421736705e-08, 0.0, -8.576523939166305e-10]}, {\"line\": {\"color\": \"rgba(128, 177, 211, 0.7)\", \"dash\": \"solid\", \"shape\": \"linear\", \"width\": 1.3}, \"mode\": \"lines\", \"name\": \"Scallop\", \"text\": \"\", \"type\": \"scatter\", \"x\": [-0.6931471805599453, 0.0, 0.6931471805599453], \"y\": [1.4716057250837466e-09, 0.0, 1.4383951774260422e-06]}, {\"line\": {\"color\": \"rgba(255, 153, 51, 0.7)\", \"dash\": \"solid\", \"shape\": \"linear\", \"width\": 1.3}, \"mode\": \"lines\", \"name\": \"Shrimp\", \"text\": \"\", \"type\": \"scatter\", \"x\": [-0.6931471805599453, 0.0, 0.6931471805599453], \"y\": [6.9662395609179184e-09, 0.0, -6.97680802263197e-10]}, {\"line\": {\"color\": \"rgba(55, 128, 191, 0.7)\", \"dash\": \"solid\", \"shape\": \"linear\", \"width\": 1.3}, \"mode\": \"lines\", \"name\": \"Snow peas\", \"text\": \"\", \"type\": \"scatter\", \"x\": [-0.6931471805599453, 0.0, 0.6931471805599453], \"y\": [-1.4578571684250776e-10, 0.0, 4.297930002651173e-09]}, {\"line\": {\"color\": \"rgba(50, 171, 96, 0.7)\", \"dash\": \"solid\", \"shape\": \"linear\", \"width\": 1.3}, \"mode\": \"lines\", \"name\": \"Spinach\", \"text\": \"\", \"type\": \"scatter\", \"x\": [-0.6931471805599453, 0.0, 0.6931471805599453], \"y\": [-0.06399994621765993, 0.0, -5.424181105745426e-10]}, {\"line\": {\"color\": \"rgba(128, 0, 128, 0.7)\", \"dash\": \"solid\", \"shape\": \"linear\", \"width\": 1.3}, \"mode\": \"lines\", \"name\": \"Steel-cut oatmeal\", \"text\": \"\", \"type\": \"scatter\", \"x\": [-0.6931471805599453, 0.0, 0.6931471805599453], \"y\": [-5.352992495145076e-10, 0.0, 8.773908262741451e-10]}, {\"line\": {\"color\": \"rgba(219, 64, 82, 0.7)\", \"dash\": \"solid\", \"shape\": \"linear\", \"width\": 1.3}, \"mode\": \"lines\", \"name\": \"Tofu\", \"text\": \"\", \"type\": \"scatter\", \"x\": [-0.6931471805599453, 0.0, 0.6931471805599453], \"y\": [-4.870075455207953e-10, 0.0, -9.276773797890194e-10]}, {\"line\": {\"color\": \"rgba(0, 128, 128, 0.7)\", \"dash\": \"solid\", \"shape\": \"linear\", \"width\": 1.3}, \"mode\": \"lines\", \"name\": \"While Balsamic Vinegar\", \"text\": \"\", \"type\": \"scatter\", \"x\": [-0.6931471805599453, 0.0, 0.6931471805599453], \"y\": [1.2328056345939793e-09, 0.0, -3.9195768860488163e-10]}, {\"line\": {\"color\": \"rgba(255, 255, 51, 0.7)\", \"dash\": \"solid\", \"shape\": \"linear\", \"width\": 1.3}, \"mode\": \"lines\", \"name\": \"Whole wheat bread\", \"text\": \"\", \"type\": \"scatter\", \"x\": [-0.6931471805599453, 0.0, 0.6931471805599453], \"y\": [-2.3287194397750036e-10, 0.0, -7.903265822687434e-10]}, {\"line\": {\"color\": \"rgba(255, 255, 51, 0.5999999999999999)\", \"dash\": \"solid\", \"shape\": \"linear\", \"width\": 1.3}, \"mode\": \"lines\", \"name\": \"Wild Salmon\", \"text\": \"\", \"type\": \"scatter\", \"x\": [-0.6931471805599453, 0.0, 0.6931471805599453], \"y\": [2.3268495991786688e-09, 0.0, -6.096244622082166e-10]}, {\"line\": {\"color\": \"rgba(128, 128, 0, 0.5999999999999999)\", \"dash\": \"solid\", \"shape\": \"linear\", \"width\": 1.3}, \"mode\": \"lines\", \"name\": \"Yogurt\", \"text\": \"\", \"type\": \"scatter\", \"x\": [-0.6931471805599453, 0.0, 0.6931471805599453], \"y\": [4.0110201975896416e-07, 0.0, 2.384010113806961e-07]}],\n",
       "                        {\"legend\": {\"bgcolor\": \"#F5F6F9\", \"font\": {\"color\": \"#4D5663\"}}, \"paper_bgcolor\": \"#F5F6F9\", \"plot_bgcolor\": \"#F5F6F9\", \"template\": {\"data\": {\"bar\": [{\"error_x\": {\"color\": \"#2a3f5f\"}, \"error_y\": {\"color\": \"#2a3f5f\"}, \"marker\": {\"line\": {\"color\": \"#E5ECF6\", \"width\": 0.5}}, \"type\": \"bar\"}], \"barpolar\": [{\"marker\": {\"line\": {\"color\": \"#E5ECF6\", \"width\": 0.5}}, \"type\": \"barpolar\"}], \"carpet\": [{\"aaxis\": {\"endlinecolor\": \"#2a3f5f\", \"gridcolor\": \"white\", \"linecolor\": \"white\", \"minorgridcolor\": \"white\", \"startlinecolor\": \"#2a3f5f\"}, \"baxis\": {\"endlinecolor\": \"#2a3f5f\", \"gridcolor\": \"white\", \"linecolor\": \"white\", \"minorgridcolor\": \"white\", \"startlinecolor\": \"#2a3f5f\"}, \"type\": \"carpet\"}], \"choropleth\": [{\"colorbar\": {\"outlinewidth\": 0, \"ticks\": \"\"}, \"type\": \"choropleth\"}], \"contour\": [{\"colorbar\": {\"outlinewidth\": 0, \"ticks\": \"\"}, \"colorscale\": [[0.0, \"#0d0887\"], [0.1111111111111111, \"#46039f\"], [0.2222222222222222, \"#7201a8\"], [0.3333333333333333, \"#9c179e\"], [0.4444444444444444, \"#bd3786\"], [0.5555555555555556, \"#d8576b\"], [0.6666666666666666, \"#ed7953\"], [0.7777777777777778, \"#fb9f3a\"], [0.8888888888888888, \"#fdca26\"], [1.0, \"#f0f921\"]], \"type\": \"contour\"}], \"contourcarpet\": [{\"colorbar\": {\"outlinewidth\": 0, \"ticks\": \"\"}, \"type\": \"contourcarpet\"}], \"heatmap\": [{\"colorbar\": {\"outlinewidth\": 0, \"ticks\": \"\"}, \"colorscale\": [[0.0, \"#0d0887\"], [0.1111111111111111, \"#46039f\"], [0.2222222222222222, \"#7201a8\"], [0.3333333333333333, \"#9c179e\"], [0.4444444444444444, \"#bd3786\"], [0.5555555555555556, \"#d8576b\"], [0.6666666666666666, \"#ed7953\"], [0.7777777777777778, \"#fb9f3a\"], [0.8888888888888888, \"#fdca26\"], [1.0, \"#f0f921\"]], \"type\": \"heatmap\"}], \"heatmapgl\": [{\"colorbar\": {\"outlinewidth\": 0, \"ticks\": \"\"}, \"colorscale\": [[0.0, \"#0d0887\"], [0.1111111111111111, \"#46039f\"], [0.2222222222222222, \"#7201a8\"], [0.3333333333333333, \"#9c179e\"], [0.4444444444444444, \"#bd3786\"], [0.5555555555555556, \"#d8576b\"], [0.6666666666666666, \"#ed7953\"], [0.7777777777777778, \"#fb9f3a\"], [0.8888888888888888, \"#fdca26\"], [1.0, \"#f0f921\"]], \"type\": \"heatmapgl\"}], \"histogram\": [{\"marker\": {\"colorbar\": {\"outlinewidth\": 0, \"ticks\": \"\"}}, \"type\": \"histogram\"}], \"histogram2d\": [{\"colorbar\": {\"outlinewidth\": 0, \"ticks\": \"\"}, \"colorscale\": [[0.0, \"#0d0887\"], [0.1111111111111111, \"#46039f\"], [0.2222222222222222, \"#7201a8\"], [0.3333333333333333, \"#9c179e\"], [0.4444444444444444, \"#bd3786\"], [0.5555555555555556, \"#d8576b\"], [0.6666666666666666, \"#ed7953\"], [0.7777777777777778, \"#fb9f3a\"], [0.8888888888888888, \"#fdca26\"], [1.0, \"#f0f921\"]], \"type\": \"histogram2d\"}], \"histogram2dcontour\": [{\"colorbar\": {\"outlinewidth\": 0, \"ticks\": \"\"}, \"colorscale\": [[0.0, \"#0d0887\"], [0.1111111111111111, \"#46039f\"], [0.2222222222222222, \"#7201a8\"], [0.3333333333333333, \"#9c179e\"], [0.4444444444444444, \"#bd3786\"], [0.5555555555555556, \"#d8576b\"], [0.6666666666666666, \"#ed7953\"], [0.7777777777777778, \"#fb9f3a\"], [0.8888888888888888, \"#fdca26\"], [1.0, \"#f0f921\"]], \"type\": \"histogram2dcontour\"}], \"mesh3d\": [{\"colorbar\": {\"outlinewidth\": 0, \"ticks\": \"\"}, \"type\": \"mesh3d\"}], \"parcoords\": [{\"line\": {\"colorbar\": {\"outlinewidth\": 0, \"ticks\": \"\"}}, \"type\": \"parcoords\"}], \"pie\": [{\"automargin\": true, \"type\": \"pie\"}], \"scatter\": [{\"marker\": {\"colorbar\": {\"outlinewidth\": 0, \"ticks\": \"\"}}, \"type\": \"scatter\"}], \"scatter3d\": [{\"line\": {\"colorbar\": {\"outlinewidth\": 0, \"ticks\": \"\"}}, \"marker\": {\"colorbar\": {\"outlinewidth\": 0, \"ticks\": \"\"}}, \"type\": \"scatter3d\"}], \"scattercarpet\": [{\"marker\": {\"colorbar\": {\"outlinewidth\": 0, \"ticks\": \"\"}}, \"type\": \"scattercarpet\"}], \"scattergeo\": [{\"marker\": {\"colorbar\": {\"outlinewidth\": 0, \"ticks\": \"\"}}, \"type\": \"scattergeo\"}], \"scattergl\": [{\"marker\": {\"colorbar\": {\"outlinewidth\": 0, \"ticks\": \"\"}}, \"type\": \"scattergl\"}], \"scattermapbox\": [{\"marker\": {\"colorbar\": {\"outlinewidth\": 0, \"ticks\": \"\"}}, \"type\": \"scattermapbox\"}], \"scatterpolar\": [{\"marker\": {\"colorbar\": {\"outlinewidth\": 0, \"ticks\": \"\"}}, \"type\": \"scatterpolar\"}], \"scatterpolargl\": [{\"marker\": {\"colorbar\": {\"outlinewidth\": 0, \"ticks\": \"\"}}, \"type\": \"scatterpolargl\"}], \"scatterternary\": [{\"marker\": {\"colorbar\": {\"outlinewidth\": 0, \"ticks\": \"\"}}, \"type\": \"scatterternary\"}], \"surface\": [{\"colorbar\": {\"outlinewidth\": 0, \"ticks\": \"\"}, \"colorscale\": [[0.0, \"#0d0887\"], [0.1111111111111111, \"#46039f\"], [0.2222222222222222, \"#7201a8\"], [0.3333333333333333, \"#9c179e\"], [0.4444444444444444, \"#bd3786\"], [0.5555555555555556, \"#d8576b\"], [0.6666666666666666, \"#ed7953\"], [0.7777777777777778, \"#fb9f3a\"], [0.8888888888888888, \"#fdca26\"], [1.0, \"#f0f921\"]], \"type\": \"surface\"}], \"table\": [{\"cells\": {\"fill\": {\"color\": \"#EBF0F8\"}, \"line\": {\"color\": \"white\"}}, \"header\": {\"fill\": {\"color\": \"#C8D4E3\"}, \"line\": {\"color\": \"white\"}}, \"type\": \"table\"}]}, \"layout\": {\"annotationdefaults\": {\"arrowcolor\": \"#2a3f5f\", \"arrowhead\": 0, \"arrowwidth\": 1}, \"coloraxis\": {\"colorbar\": {\"outlinewidth\": 0, \"ticks\": \"\"}}, \"colorscale\": {\"diverging\": [[0, \"#8e0152\"], [0.1, \"#c51b7d\"], [0.2, \"#de77ae\"], [0.3, \"#f1b6da\"], [0.4, \"#fde0ef\"], [0.5, \"#f7f7f7\"], [0.6, \"#e6f5d0\"], [0.7, \"#b8e186\"], [0.8, \"#7fbc41\"], [0.9, \"#4d9221\"], [1, \"#276419\"]], \"sequential\": [[0.0, \"#0d0887\"], [0.1111111111111111, \"#46039f\"], [0.2222222222222222, \"#7201a8\"], [0.3333333333333333, \"#9c179e\"], [0.4444444444444444, \"#bd3786\"], [0.5555555555555556, \"#d8576b\"], [0.6666666666666666, \"#ed7953\"], [0.7777777777777778, \"#fb9f3a\"], [0.8888888888888888, \"#fdca26\"], [1.0, \"#f0f921\"]], \"sequentialminus\": [[0.0, \"#0d0887\"], [0.1111111111111111, \"#46039f\"], [0.2222222222222222, \"#7201a8\"], [0.3333333333333333, \"#9c179e\"], [0.4444444444444444, \"#bd3786\"], [0.5555555555555556, \"#d8576b\"], [0.6666666666666666, \"#ed7953\"], [0.7777777777777778, \"#fb9f3a\"], [0.8888888888888888, \"#fdca26\"], [1.0, \"#f0f921\"]]}, \"colorway\": [\"#636efa\", \"#EF553B\", \"#00cc96\", \"#ab63fa\", \"#FFA15A\", \"#19d3f3\", \"#FF6692\", \"#B6E880\", \"#FF97FF\", \"#FECB52\"], \"font\": {\"color\": \"#2a3f5f\"}, \"geo\": {\"bgcolor\": \"white\", \"lakecolor\": \"white\", \"landcolor\": \"#E5ECF6\", \"showlakes\": true, \"showland\": true, \"subunitcolor\": \"white\"}, \"hoverlabel\": {\"align\": \"left\"}, \"hovermode\": \"closest\", \"mapbox\": {\"style\": \"light\"}, \"paper_bgcolor\": \"white\", \"plot_bgcolor\": \"#E5ECF6\", \"polar\": {\"angularaxis\": {\"gridcolor\": \"white\", \"linecolor\": \"white\", \"ticks\": \"\"}, \"bgcolor\": \"#E5ECF6\", \"radialaxis\": {\"gridcolor\": \"white\", \"linecolor\": \"white\", \"ticks\": \"\"}}, \"scene\": {\"xaxis\": {\"backgroundcolor\": \"#E5ECF6\", \"gridcolor\": \"white\", \"gridwidth\": 2, \"linecolor\": \"white\", \"showbackground\": true, \"ticks\": \"\", \"zerolinecolor\": \"white\"}, \"yaxis\": {\"backgroundcolor\": \"#E5ECF6\", \"gridcolor\": \"white\", \"gridwidth\": 2, \"linecolor\": \"white\", \"showbackground\": true, \"ticks\": \"\", \"zerolinecolor\": \"white\"}, \"zaxis\": {\"backgroundcolor\": \"#E5ECF6\", \"gridcolor\": \"white\", \"gridwidth\": 2, \"linecolor\": \"white\", \"showbackground\": true, \"ticks\": \"\", \"zerolinecolor\": \"white\"}}, \"shapedefaults\": {\"line\": {\"color\": \"#2a3f5f\"}}, \"ternary\": {\"aaxis\": {\"gridcolor\": \"white\", \"linecolor\": \"white\", \"ticks\": \"\"}, \"baxis\": {\"gridcolor\": \"white\", \"linecolor\": \"white\", \"ticks\": \"\"}, \"bgcolor\": \"#E5ECF6\", \"caxis\": {\"gridcolor\": \"white\", \"linecolor\": \"white\", \"ticks\": \"\"}}, \"title\": {\"x\": 0.05}, \"xaxis\": {\"automargin\": true, \"gridcolor\": \"white\", \"linecolor\": \"white\", \"ticks\": \"\", \"title\": {\"standoff\": 15}, \"zerolinecolor\": \"white\", \"zerolinewidth\": 2}, \"yaxis\": {\"automargin\": true, \"gridcolor\": \"white\", \"linecolor\": \"white\", \"ticks\": \"\", \"title\": {\"standoff\": 15}, \"zerolinecolor\": \"white\", \"zerolinewidth\": 2}}}, \"title\": {\"font\": {\"color\": \"#4D5663\"}}, \"xaxis\": {\"gridcolor\": \"#E1E5ED\", \"showgrid\": true, \"tickfont\": {\"color\": \"#4D5663\"}, \"title\": {\"font\": {\"color\": \"#4D5663\"}, \"text\": \"log price change\"}, \"zerolinecolor\": \"#E1E5ED\"}, \"yaxis\": {\"gridcolor\": \"#E1E5ED\", \"showgrid\": true, \"tickfont\": {\"color\": \"#4D5663\"}, \"title\": {\"font\": {\"color\": \"#4D5663\"}, \"text\": \"log cost change\"}, \"zerolinecolor\": \"#E1E5ED\"}},\n",
       "                        {\"showLink\": true, \"linkText\": \"Export to plot.ly\", \"plotlyServerURL\": \"https://plot.ly\", \"responsive\": true}\n",
       "                    ).then(function(){\n",
       "                            \n",
       "var gd = document.getElementById('95148340-7841-4414-b1b9-d47c8058dd05');\n",
       "var x = new MutationObserver(function (mutations, observer) {{\n",
       "        var display = window.getComputedStyle(gd).display;\n",
       "        if (!display || display === 'none') {{\n",
       "            console.log([gd, 'removed!']);\n",
       "            Plotly.purge(gd);\n",
       "            observer.disconnect();\n",
       "        }}\n",
       "}});\n",
       "\n",
       "// Listen for the removal of the full notebook cells\n",
       "var notebookContainer = gd.closest('#notebook-container');\n",
       "if (notebookContainer) {{\n",
       "    x.observe(notebookContainer, {childList: true});\n",
       "}}\n",
       "\n",
       "// Listen for the clearing of the current output cell\n",
       "var outputEl = gd.closest('.output');\n",
       "if (outputEl) {{\n",
       "    x.observe(outputEl, {childList: true});\n",
       "}}\n",
       "\n",
       "                        })\n",
       "                };\n",
       "                });\n",
       "            </script>\n",
       "        </div>"
      ]
     },
     "metadata": {},
     "output_type": "display_data"
    }
   ],
   "source": [
    "sensitivity(\"M\", 20, \"Berkeley\", city=True)"
   ]
  },
  {
   "cell_type": "code",
   "execution_count": null,
   "metadata": {},
   "outputs": [],
   "source": []
  }
 ],
 "metadata": {
  "kernelspec": {
   "display_name": "Python 3",
   "language": "python",
   "name": "python3"
  },
  "language_info": {
   "codemirror_mode": {
    "name": "ipython",
    "version": 3
   },
   "file_extension": ".py",
   "mimetype": "text/x-python",
   "name": "python",
   "nbconvert_exporter": "python",
   "pygments_lexer": "ipython3",
   "version": "3.6.9"
  },
  "org": null
 },
 "nbformat": 4,
 "nbformat_minor": 1
}
